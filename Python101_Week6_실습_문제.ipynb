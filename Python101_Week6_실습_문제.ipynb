{
 "cells": [
  {
   "cell_type": "markdown",
   "metadata": {},
   "source": [
    "# Week 6 실습"
   ]
  },
  {
   "cell_type": "markdown",
   "metadata": {},
   "source": [
    "1. 다음 조건에 맞는 함수를 만들어 결과를 출력해보자.\n",
    "\n",
    "민수는 아아대학교 뇌인지과학과 박사과정에 입학할 것을 준비하고 있다. 뇌인지과학과의 교수님은 총 4명인데, 민수의 목표는 교수님들의 세부전공에는 관심이 없고 오로지 빨리 졸업하는 것이 목표이다. 민수는 최근 3년간 박사과정 졸업생이 박사학위 취득에 걸린 평균 년수를 랩실별로 비교해보고, 평균적으로 가장 빨리 졸업할 수 있는 랩실에 지원하고 싶다. 그리고 가장 졸업이 빠른 랩실의 평균 졸업 소요 시기가 5.5년보다 길다면 민수는 아아대학교 뇌인지과학과에 진학하지 않을 것이다.\n",
    "\n",
    "(1) 아래의 자료를 키워드 파라미터를 활용하여 딕셔너리로 만들고, 이를 활용하여 각 랩실의 평균 졸업 소요 시기를 구할 수 있는 함수를 만들어서 사칙연산을 할 줄 모르는 민수를 도와주자.\n",
    "\n",
    "(2) 전체 랩실 중 가장 평균적으로 졸업이 빠른 랩실의 이름을 구하고, 그 랩실에 진학하는 것을 추천하거나 추천하지 않는 함수를 만들어서 민수를 한 번 더 도와주자.\n",
    "\n",
    "*만들 수 있는 여러 함수들 중 최소 하나는 lambda를 써보자.\n",
    "\n",
    "- 김김김 교수님 : 3.5년, 7년, 8년\n",
    "\n",
    "- 김총장 교수님 : 4.5년, 5.5년, 6.5년, 11.5년\n",
    "\n",
    "- 김표절 교수님 : 4.5년, 6년, 6년, 6년, 6년, 7.5년\n",
    "\n",
    "- 김노예 교수님 : 5년, 5.5년, 5.5년, 6.5년\n",
    "\n",
    "참고로, 아직까지 배우지 않은 zip()함수와 min()함수를 쓰는 것이 간편하다.\n",
    "- zip함수는 두 개의 시퀀스형 자료형(리스트, 튜플 등)을 병렬적으로 추출해서 하나로 묶는 함수이다.\n",
    "- sum 함수는 시퀀스형 자료에 있는 값들을 자동으로 더해주는 함수이다.\n",
    "- min함수는 시퀀스형 자료형에 있는 자료 중 최소값을 자동으로 구해주는 함수이다."
   ]
  },
  {
   "cell_type": "code",
   "execution_count": 1,
   "metadata": {},
   "outputs": [
    {
     "name": "stdout",
     "output_type": "stream",
     "text": [
      "1 개미\n",
      "2 파이썬\n",
      "3 심리학\n",
      "4 교수님\n"
     ]
    }
   ],
   "source": [
    "#zip함수 예시\n",
    "\n",
    "list1 = [1, 2, 3, 4, 5]\n",
    "list2 = [\"개미\", \"파이썬\", \"심리학\", \"교수님\"]\n",
    "\n",
    "for x, y in zip(list1, list2):\n",
    "    print(x, y)"
   ]
  },
  {
   "cell_type": "code",
   "execution_count": 2,
   "metadata": {},
   "outputs": [
    {
     "name": "stdout",
     "output_type": "stream",
     "text": [
      "5\n"
     ]
    }
   ],
   "source": [
    "#min함수 예시\n",
    "\n",
    "list3 = [20, 5, 30, 7, 40, 50]\n",
    "print(min(list3))"
   ]
  },
  {
   "cell_type": "code",
   "execution_count": 3,
   "metadata": {},
   "outputs": [
    {
     "name": "stdout",
     "output_type": "stream",
     "text": [
      "165\n"
     ]
    }
   ],
   "source": [
    "#sum함수 예시\n",
    "\n",
    "list4 = [11, 22, 33, 44, 55]\n",
    "print(sum(list4))"
   ]
  },
  {
   "cell_type": "code",
   "execution_count": null,
   "metadata": {},
   "outputs": [],
   "source": []
  },
  {
   "cell_type": "code",
   "execution_count": null,
   "metadata": {},
   "outputs": [],
   "source": []
  },
  {
   "cell_type": "code",
   "execution_count": null,
   "metadata": {},
   "outputs": [],
   "source": []
  },
  {
   "cell_type": "code",
   "execution_count": null,
   "metadata": {},
   "outputs": [],
   "source": []
  },
  {
   "cell_type": "markdown",
   "metadata": {},
   "source": [
    " "
   ]
  },
  {
   "cell_type": "markdown",
   "metadata": {},
   "source": [
    "2. 다음과 같은 조건을 갖춘 함수를 사용자 입력, 매개변수 초기값 설정, return문을 사용한 함수 빠져나가기, continue 등을 활용하여 만들어보자.\n",
    "\n",
    "철수는 버버대학교 심리학과 석사 1년차 학생이다. 철수는 교수님의 지시에 따라 아래와 같은 파이썬 함수를 만들어서 피험자들에게 실험을 안내하는 프로그램을 짜고자 한다.\n",
    "\n",
    "(1) 피험자의 이름, 나이, 실험집단/통제집단 여부를 입력하면, 피험자의 신상정보(이름, 나이, 집단이 포함된 문장)를 안내해주며 실험 참가에 동의하는지 묻는다.\n",
    "\n",
    "* 피험자 나이 입력 값이 20대(20~29)가 아닐 경우, 신상정보를 잘못 입력한 것이 아닌지 물은 후 잘못 입력했다고 대답하면 실험에 참가할 수 없다는 안내를 출력한다. 만약 신상정보를 잘못 입력했다고 응답한다면 다시 처음부터 신상정보를 묻는다.\n",
    "\n",
    "(2) 실험 참가에 동의했을 경우, 실험집단은 301호 실험실로, 통제집단은 302호 실험실로 입장하도록 안내한다.\n",
    "\n",
    "* 실험 참가에 동의하지 않을 경우, 실험에 참가할 수 없다는 안내가 출력된다.\n",
    "\n",
    "\n",
    "오늘 온 피험자는 총 5명이며, 그들의 신상정보는 아래와 같다. 이들의 신상정보를 각각 입력해보자.\n",
    "\n",
    "- 두두, 26세, 실험집단, 실험 참가 동의\n",
    "- 끼끼, 21세, 통제집단, 실험 참가 동의하지 않음\n",
    "- 민수, 30세, 실험집단, 실험 참가 동의\n",
    "- 천재, 25세, 통제집단, 실험 참가 동의\n",
    "- 고양이, 29세, 실험집단, 실험 참가 동의 (처음에 19세로 잘못 입력한다)"
   ]
  },
  {
   "cell_type": "code",
   "execution_count": null,
   "metadata": {},
   "outputs": [],
   "source": []
  },
  {
   "cell_type": "code",
   "execution_count": null,
   "metadata": {},
   "outputs": [],
   "source": []
  },
  {
   "cell_type": "code",
   "execution_count": null,
   "metadata": {},
   "outputs": [],
   "source": []
  },
  {
   "cell_type": "code",
   "execution_count": null,
   "metadata": {},
   "outputs": [],
   "source": []
  },
  {
   "cell_type": "code",
   "execution_count": null,
   "metadata": {},
   "outputs": [],
   "source": []
  },
  {
   "cell_type": "markdown",
   "metadata": {},
   "source": [
    " "
   ]
  },
  {
   "cell_type": "markdown",
   "metadata": {},
   "source": [
    "3. 지금까지 배운 모든 것들과 참고자료를 활용해서, 조건에 맞는 간단한 프로그램을 만들어보자.\n",
    "\n",
    "출근을 맞이하여 한가롭게 자리에 앉아 피자를 먹던 머머대학교 입학처 직원 두두는 학부 신입생 모집 요강에 따라서 아래와 같은 업무를 수행해달라는 지시를 받았다.\n",
    "\n",
    "(1) PY-BOOTCAMP/testfiles에 있는 apply_anth.txt와 apply_agrs.txt를 활용하여, 다음과 같은 사항을 담은 txt파일을 각 학과별로 PY-BOOTCAMP/testfiles/mmuni에 txt파일로 저장한다. 인류학과는 3명, 농업생명과학과는 5명을 선발한다.\n",
    "\n",
    "단, 업무를 처리하기 전 총장의 아들 '김총장아들'을 비리로 합격시켜야 하기 때문에, apply_anth.txt에는 없는 김총장아들이 인류학과에 수석 입학하도록 자료를 추가해서 조작하라.\n",
    "\n",
    "- 각 학과의 최종 경쟁률, 지원자 전체의 성적 평균, 합격자의 성적 평균, 성적 커트라인(합격자 중 최하점자의 성적) : 소수 셋째자리에서 반올림할 것\n",
    "- 각 학과의 수석 합격자, 합격자, 불합격자(성적 순에 따른 예비번호 포함)의 수험번호와 이름 명단\n",
    "\n",
    "(2) 수험생이 자신의 수험번호와 이름을 입력하면 합격 여부를 알려주는 프로그램을 만든다.\n",
    "- 수석 합격은 수석 합격임을 안내하고, 불합격자는 불합격 통보와 함께 예비번호를 안내하시오."
   ]
  },
  {
   "cell_type": "markdown",
   "metadata": {},
   "source": [
    "참고자료(1) : 머머대학교 입시요강\n",
    "\n",
    "아래는 머머대학교의 학부 신입생 일반전형 모집 요강이다.\n",
    "\n",
    "\n",
    "- 수능 성적 90%와 내신 성적 10%를 반영해서 최종 합격자를 선발한다. \n",
    "\n",
    "- 수능 점수는 국어, 영어, 수학 과목의 백분위 점수(100점 만점) 중 가장 성적이 나쁜 한 과목을 제외하고 평균점수 x를 낸 후, (x-지원자 중 최하점)/(지원자 중 최고점-지원자 중 최하점)x90을 반영한다. \n",
    "\n",
    "- 내신 점수는 10점 만점이고, 원점수 1.0~9.0 중 4.0 이상을 모두 만점처리하고, 5.0 이상은 9점, 6.0 이상은 8점, 7.0 이상은 7점, 8.0 이상은 5점, 그 이하는 0점을 반영한다.\n",
    "\n",
    "- 총합 점수는 만점을 100점으로 한다."
   ]
  },
  {
   "cell_type": "markdown",
   "metadata": {},
   "source": [
    "참고자료 (2) : \n",
    "- 성적순으로 배열된, [수험번호, 이름, 성적] 요소를 가지는 리스트를 만들어주는 함수를 먼저 만들어보자.\n",
    "- 그 후, 함수의 결과값을 활용하여 (1) 저장할 txt파일을 만드는 데 도움을 주는 함수 (2) 합격창 조회를 만드는 함수를 각각 만들어보자.\n",
    "- str을 각 줄을 기준으로 split하고 싶을 때는 a.splitlines() 함수를 사용하자.\n",
    "- 숫자 a를 소수 n+1째자리 수에서 반올림하고 싶으면 round(a, n) 함수를 사용하자.\n",
    "- 위에서 배운 zip()함수를 적극 활용해보자."
   ]
  },
  {
   "cell_type": "code",
   "execution_count": 4,
   "metadata": {},
   "outputs": [],
   "source": [
    "#인류학과 자료불러오기\n"
   ]
  },
  {
   "cell_type": "code",
   "execution_count": 5,
   "metadata": {},
   "outputs": [],
   "source": [
    "#김총장아들 성적 추가하기\n"
   ]
  },
  {
   "cell_type": "code",
   "execution_count": 6,
   "metadata": {},
   "outputs": [],
   "source": [
    "#성적순으로 배열된, [수험번호, 이름, 성적] 요소를 가지는 리스트를 만들어주는 listmake()함수 만들기\n"
   ]
  },
  {
   "cell_type": "code",
   "execution_count": 7,
   "metadata": {},
   "outputs": [],
   "source": [
    "#listmake() 함수의 리턴값을 바탕으로 txt파일에 들어갈 내용을 만들어주는 filewrite()함수 만들어주고 기존 함수와 합쳐주기\n",
    "#최종 경쟁률, 지원자 평균 성적, 합격자 평균 성적, 커트라인\n",
    "#수석 합격자, 합격자, 불합격자(예비번호)\n"
   ]
  },
  {
   "cell_type": "code",
   "execution_count": 8,
   "metadata": {},
   "outputs": [],
   "source": [
    "#앞에서 만든 함수를 활용하여 txt파일 저장해보기\n"
   ]
  },
  {
   "cell_type": "code",
   "execution_count": 9,
   "metadata": {},
   "outputs": [],
   "source": [
    "#txt파일 결과 확인하기\n"
   ]
  },
  {
   "cell_type": "code",
   "execution_count": 10,
   "metadata": {},
   "outputs": [],
   "source": [
    "#인류학과 다했으면 농업생명과학과 자료를 기존에 만들어둔 함수에 집어넣어서 txt파일로 결과를 저장해보자!\n"
   ]
  },
  {
   "cell_type": "code",
   "execution_count": null,
   "metadata": {},
   "outputs": [],
   "source": []
  },
  {
   "cell_type": "code",
   "execution_count": null,
   "metadata": {},
   "outputs": [],
   "source": []
  },
  {
   "cell_type": "code",
   "execution_count": 11,
   "metadata": {},
   "outputs": [],
   "source": [
    "#txt파일 결과 확인하기\n"
   ]
  },
  {
   "cell_type": "code",
   "execution_count": 12,
   "metadata": {},
   "outputs": [],
   "source": [
    "#합격창 만들고 잘 작동하는지 확인해보기\n"
   ]
  },
  {
   "cell_type": "code",
   "execution_count": null,
   "metadata": {},
   "outputs": [],
   "source": []
  }
 ],
 "metadata": {
  "kernelspec": {
   "display_name": "Python 3",
   "language": "python",
   "name": "python3"
  },
  "language_info": {
   "codemirror_mode": {
    "name": "ipython",
    "version": 3
   },
   "file_extension": ".py",
   "mimetype": "text/x-python",
   "name": "python",
   "nbconvert_exporter": "python",
   "pygments_lexer": "ipython3",
   "version": "3.7.3"
  }
 },
 "nbformat": 4,
 "nbformat_minor": 2
}
