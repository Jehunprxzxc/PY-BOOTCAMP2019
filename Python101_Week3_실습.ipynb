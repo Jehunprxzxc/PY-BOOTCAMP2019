{
 "cells": [
  {
   "cell_type": "markdown",
   "metadata": {},
   "source": [
    "# Week 3 실습"
   ]
  },
  {
   "cell_type": "markdown",
   "metadata": {},
   "source": [
    "1. \"His research team found the new neurological pathway of social emotion.\" 이라는 문장에서,\n",
    "\n",
    "(1) 파이썬의 기준에서 6번째에 있는 문자와 뒤에서 7번째에 있는 문자를 찾으시오.\n",
    "\n",
    "(2) slicing 기능을 활용하여 문장 내의 'neurological'을 'neural'로 수정하시오.\n",
    "\n",
    "(3) 특정한 format 함수를 활용하여 문장 내의 'pathway'를 'system'으로 수정하시오."
   ]
  },
  {
   "cell_type": "code",
   "execution_count": null,
   "metadata": {},
   "outputs": [],
   "source": []
  },
  {
   "cell_type": "code",
   "execution_count": null,
   "metadata": {},
   "outputs": [],
   "source": []
  },
  {
   "cell_type": "code",
   "execution_count": null,
   "metadata": {},
   "outputs": [],
   "source": []
  },
  {
   "cell_type": "markdown",
   "metadata": {},
   "source": [
    "2. 포매팅 (%)과 변수 지정을 활용하여, 오늘의 날짜를 \"Today is (날짜-숫자) (월 - 영문), (연도 - 숫자).\"의 양식으로 표현하시오."
   ]
  },
  {
   "cell_type": "code",
   "execution_count": null,
   "metadata": {},
   "outputs": [],
   "source": []
  },
  {
   "cell_type": "markdown",
   "metadata": {},
   "source": [
    "3. 다음 문장을 오류 없이 출력하시오.\n",
    "\n",
    "\"Currently, almost 100% of Koreans can read Korean alphabet.\""
   ]
  },
  {
   "cell_type": "code",
   "execution_count": null,
   "metadata": {},
   "outputs": [],
   "source": []
  },
  {
   "cell_type": "markdown",
   "metadata": {},
   "source": [
    "4. 다음 문자열에 나오는 단어들을 각각의 문자열로 출력하시오.\n",
    "\n",
    "\"신림동-동방신기-기차-차표-표리부동-동충하초-초벌구이-이리듐\""
   ]
  },
  {
   "cell_type": "code",
   "execution_count": null,
   "metadata": {},
   "outputs": [],
   "source": []
  },
  {
   "cell_type": "markdown",
   "metadata": {},
   "source": [
    "5. 해당 문장의 문자 사이에 모두 띄어쓰기가 되도록 하여 출력하시오.\n",
    "\n",
    "\"띄어쓰기를무시한것은그의의도적인문법파괴임이분명하다.쉼표가없는문장은숨이차다.그는읽는이들에게고의적으로숨찬느낌을주어,왜그렇게쓰지않으면아니되었는지한번쯤은생각해보길원하는것이다.\""
   ]
  },
  {
   "cell_type": "code",
   "execution_count": null,
   "metadata": {},
   "outputs": [],
   "source": []
  },
  {
   "cell_type": "markdown",
   "metadata": {},
   "source": [
    "6. 단어 '피자'가 왼쪽, 오른쪽 각각 10개의 @로 둘러싸이도록 출력하시오."
   ]
  },
  {
   "cell_type": "code",
   "execution_count": null,
   "metadata": {},
   "outputs": [],
   "source": []
  },
  {
   "cell_type": "markdown",
   "metadata": {},
   "source": [
    "7. 상수 e의 값을 소수 넷째짜리까지, 그리고 소수 여덟째자리까지 반올림하시오. 다만 각각 방법을 다르게 사용하시오."
   ]
  },
  {
   "cell_type": "code",
   "execution_count": null,
   "metadata": {},
   "outputs": [],
   "source": []
  },
  {
   "cell_type": "code",
   "execution_count": null,
   "metadata": {},
   "outputs": [],
   "source": []
  },
  {
   "cell_type": "markdown",
   "metadata": {},
   "source": [
    "8. .format 함수를 활용하여, 우리가 지금 있는 곳의 위치를 아래 문장을 활용하여 표현하시오.\n",
    "\n",
    "\"Here is (도시 이름), and we are at (대학교 이름). We are studying Python in the buliding No. (건물번호), Room No. (강의실 번호).\""
   ]
  },
  {
   "cell_type": "code",
   "execution_count": null,
   "metadata": {},
   "outputs": [],
   "source": []
  },
  {
   "cell_type": "markdown",
   "metadata": {},
   "source": [
    "9. 다음 글에서 단어 'the'가 얼마나 많이 나오는지 찾고, 'the'를 모두 '1984'로 치환하시오. 다만, the가 포함된 다른 단어는 찾거나 바꾸지 말 것.\n",
    "\n",
    "From the foregoing account it will be seen that in New- speak the expression of unorthodox opinions, above a very low level, was well-nigh impossible. It was of course possible to utter heresies of a very crude kind, a species of blasphemy. It would have been possible, for example, to say BIG BROTHER IS UNGOOD. But this statement, which to an orthodox ear merely conveyed a self-evident absurdity, could not have been sustained by reasoned argument, because the necessary words were not available. Ideas inimical to Ingsoc could only be entertained in a vague wordless form, and could only be named in very broad terms which lumped together and condemned whole groups of heresies without defining them in doing so. One could, in fact, only use Newspeak for unorthodox purposes by illegitimately translating some of the words back into Oldspeak. For example, ALL MANS ARE EQUAL was a possible Newspeak sentence, but only in the same sense in which ALL MEN ARE REDHAIRED is a possible Oldspeak sentence. It did not contain a grammatical error, but it expressed a palpable untruth that all men are of equal size, weight, or strength. The concept of political equality no longer existed, and this secondary meaning had accordingly been purged out of the word EQUAL. In 1984, when Oldspeak was still the normal means of communication, the danger theoretically existed that in using Newspeak words one might remember their original meanings. In practice it was not difficult for any person well grounded in DOUBLETHINK to avoid doing this, but within a couple of generations even the possibility of such a lapse would have vanished. A person growing up with Newspeak as his sole language would no more know that EQUAL had once had the secondary meaning of ‘politically equal’, or that FREE had once meant ‘intellectually free’, than for instance, a person who had never heard of chess would be aware of the secondary meanings attaching to QUEEN and ROOK. There would be many crimes and errors which it would be beyond his power to commit, simply because they were nameless and therefore unimaginable. And it was to be foreseen that with the passage of time the distinguishing characteristics of Newspeak would become more and more pronounced—its words growing fewer and fewer, their meanings more and more rigid, and the chance of putting them to improper uses always diminishing. "
   ]
  },
  {
   "cell_type": "code",
   "execution_count": null,
   "metadata": {},
   "outputs": [],
   "source": []
  },
  {
   "cell_type": "code",
   "execution_count": null,
   "metadata": {},
   "outputs": [],
   "source": []
  }
 ],
 "metadata": {
  "kernelspec": {
   "display_name": "Python 3",
   "language": "python",
   "name": "python3"
  },
  "language_info": {
   "codemirror_mode": {
    "name": "ipython",
    "version": 3
   },
   "file_extension": ".py",
   "mimetype": "text/x-python",
   "name": "python",
   "nbconvert_exporter": "python",
   "pygments_lexer": "ipython3",
   "version": "3.7.3"
  }
 },
 "nbformat": 4,
 "nbformat_minor": 2
}
