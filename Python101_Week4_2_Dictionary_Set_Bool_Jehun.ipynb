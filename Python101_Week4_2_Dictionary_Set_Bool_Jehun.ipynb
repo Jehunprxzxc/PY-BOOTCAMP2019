{
 "cells": [
  {
   "cell_type": "markdown",
   "metadata": {},
   "source": [
    "# Week 4-2 : Dictionary, Set, Bool"
   ]
  },
  {
   "cell_type": "markdown",
   "metadata": {},
   "source": [
    "### 2019 Summer \n",
    "### Human Factors Psychology Lab, SNU\n",
    "### Jehun Hong"
   ]
  },
  {
   "cell_type": "markdown",
   "metadata": {},
   "source": [
    " "
   ]
  },
  {
   "cell_type": "markdown",
   "metadata": {},
   "source": [
    "# 1. Dictionary 자료형\n",
    "Dictionary 자료형은 다른 자료형에 비해 조금 더 복잡하지만, Dictionary의 뜻이 '사전'임을 생각해보며 개념을 이해할 수 있다.\n",
    "\n",
    "\"Psychology\"라는 단어는 \"심리학\"이라는 뜻이 있고, \"Python\"이라는 단어의 원래 뜻은 \"비단뱀\"이다.\n",
    "\n",
    "이처럼 파이썬에서는 이름-뜻이라는 한 쌍의 대응 관계를 가진 자료형이 존재하고, 이를 Dictionary 자료형이라고 한다.\n",
    "\n",
    "Dictionary 자료형은 Key와 Value를 한 쌍으로 가지는데, 예를 들면 Key가 \"Psychology\"라면 Value는 \"심리학\"이다.\n",
    "\n",
    "Dictionary 자료형의 특징은 List나 Tuple처럼 요솟값 간의 순서가 정해져 있지 않다는 것이다.\n",
    "\n",
    "Dictionary 자료형에서는 순차적으로 모든 자료를 검토하는 것이 아니라, 사전처럼 Key를 검색하여 바로 Value를 얻는다."
   ]
  },
  {
   "cell_type": "markdown",
   "metadata": {},
   "source": [
    "### Dictionary 자료형의 예시\n",
    "- Key와 Value의 쌍 여러개가 { }로 둘러싸여 있고, 각 요소는 Key:Value 형태이며 쉼표(,)로 구분되어 있다.\n",
    "- Key에는 변하지 않는 값을, Value에는 변하거나 변하지 않는 값을 모두 사용할 수 있다."
   ]
  },
  {
   "cell_type": "code",
   "execution_count": 2,
   "metadata": {},
   "outputs": [],
   "source": [
    "dictexample1 = {'name':'jehun', 'major':'finearts', 'work':'ra'}\n",
    "dictexample2 = {1:'ASD', 2:'schizophrenia', 3:'bipolar', 4:'dementia', 5:'psychopath'}\n",
    "dictexample3 = {'chicken':[\"백숙\",\"후라이드\",\"양념치킨\"], 'beef':[\"스테이크\",\"꽃등심\",\"수제버거\"]}"
   ]
  },
  {
   "cell_type": "code",
   "execution_count": 3,
   "metadata": {},
   "outputs": [
    {
     "name": "stdout",
     "output_type": "stream",
     "text": [
      "{'name': 'jehun', 'major': 'finearts', 'work': 'ra'}\n",
      "{1: 'ASD', 2: 'schizophrenia', 3: 'bipolar', 4: 'dementia', 5: 'psychopath'}\n",
      "{'chicken': ['백숙', '후라이드', '양념치킨'], 'beef': ['스테이크', '꽃등심', '수제버거']}\n"
     ]
    }
   ],
   "source": [
    "print(dictexample1)\n",
    "print(dictexample2)\n",
    "print(dictexample3)"
   ]
  },
  {
   "cell_type": "markdown",
   "metadata": {},
   "source": [
    "{} 대신 dict({})을 써도 무방하다."
   ]
  },
  {
   "cell_type": "code",
   "execution_count": 19,
   "metadata": {},
   "outputs": [],
   "source": [
    "univlocation = dict({\"관악구\":\"서울대\", \"마포구\":[\"서강대\",\"홍익대\"], \"서대문구\":[\"연세대\",\"이화여대\"], \"성북구\":[\"고려대\",\"한예종\"]})"
   ]
  },
  {
   "cell_type": "markdown",
   "metadata": {},
   "source": [
    "## 1.1. Dictionary 요소 추가/삭제하기"
   ]
  },
  {
   "cell_type": "markdown",
   "metadata": {},
   "source": [
    "### 1.1.1. Dictionary 요소 추가하기\n",
    "- Dictionary 이름 [추가하고자 하는 Key값] = 추가하고자 하는 Value값"
   ]
  },
  {
   "cell_type": "code",
   "execution_count": 20,
   "metadata": {},
   "outputs": [],
   "source": [
    "trump = {'name':'Donald'}"
   ]
  },
  {
   "cell_type": "code",
   "execution_count": 21,
   "metadata": {},
   "outputs": [
    {
     "name": "stdout",
     "output_type": "stream",
     "text": [
      "{'name': 'Donald', 'nationality': 'USA', 'work': 'President', 'favorite': ['twitter', 'money', 'Make_America_Great_Again']}\n"
     ]
    }
   ],
   "source": [
    "trump['nationality']='USA'\n",
    "trump['work']='President'\n",
    "trump['favorite']=['twitter', 'money', 'Make_America_Great_Again']\n",
    "print(trump)"
   ]
  },
  {
   "cell_type": "markdown",
   "metadata": {},
   "source": [
    "### 1.1.2. Dictionary 요소 삭제하기\n",
    "- del함수를 사용해서 del a[key] 와 같은 형태로 삭제한다."
   ]
  },
  {
   "cell_type": "code",
   "execution_count": 22,
   "metadata": {},
   "outputs": [
    {
     "name": "stdout",
     "output_type": "stream",
     "text": [
      "{'statistics': 'R', 'language': 'Python'}\n"
     ]
    }
   ],
   "source": [
    "program = {'statistics':'R', 'language':'Python', 'graphic':'그림판'}\n",
    "del program['graphic']\n",
    "print(program)"
   ]
  },
  {
   "cell_type": "markdown",
   "metadata": {},
   "source": [
    "## 1.2. Dictionary 활용하기\n",
    "- Dictionary 자료형은 List나 Tuple에서 활용하기 어려운 '한 쌍'씩 대응되는 자료를 처리할 때 편리하다. (날짜-기온, 이름-전공 등등..)"
   ]
  },
  {
   "cell_type": "markdown",
   "metadata": {},
   "source": [
    "### 1.2.1. Dictionary에서 Key에 대한 Value 얻기\n",
    "- String, List, Tuple은 모두 인덱싱이나 슬라이싱을 통해 원하는 요솟값을 출력했지만, Dictionary에서는 Key를 통해 Value를 출력한다.\n",
    "- Dictionary 이름[Key]를 출력하면 Vaule를 얻을 수 있다."
   ]
  },
  {
   "cell_type": "code",
   "execution_count": 3,
   "metadata": {},
   "outputs": [
    {
     "name": "stdout",
     "output_type": "stream",
     "text": [
      "서울대\n",
      "['연세대', '이화여대']\n",
      "['고려대', '한예종', '한국외대', '경희대', '서울시립대']\n"
     ]
    }
   ],
   "source": [
    "univlocation = dict({\"관악구\":\"서울대\", \"마포구\":[\"서강대\",\"홍익대\"], \"서대문구\":[\"연세대\",\"이화여대\"], \"성북구\":[\"고려대\",\"한예종\"], \"동대문구\":[\"한국외대\",\"경희대\",\"서울시립대\"], \"동작구\":[\"중앙대\",\"숭실대\"]})\n",
    "print(univlocation[\"관악구\"])\n",
    "print(univlocation[\"서대문구\"])\n",
    "print(univlocation[\"성북구\"] + univlocation[\"동대문구\"])"
   ]
  },
  {
   "cell_type": "markdown",
   "metadata": {},
   "source": [
    "- Dictionary 자료에 대한 인덱싱이나 슬라이싱은 당연히 불가능하다."
   ]
  },
  {
   "cell_type": "code",
   "execution_count": 33,
   "metadata": {},
   "outputs": [
    {
     "ename": "KeyError",
     "evalue": "1",
     "output_type": "error",
     "traceback": [
      "\u001b[0;31m---------------------------------------------------------------------------\u001b[0m",
      "\u001b[0;31mKeyError\u001b[0m                                  Traceback (most recent call last)",
      "\u001b[0;32m<ipython-input-33-f8476d6296ba>\u001b[0m in \u001b[0;36m<module>\u001b[0;34m\u001b[0m\n\u001b[1;32m      1\u001b[0m \u001b[0;31m#인덱싱 시도\u001b[0m\u001b[0;34m\u001b[0m\u001b[0;34m\u001b[0m\u001b[0;34m\u001b[0m\u001b[0m\n\u001b[0;32m----> 2\u001b[0;31m \u001b[0munivlocation\u001b[0m\u001b[0;34m[\u001b[0m\u001b[0;36m1\u001b[0m\u001b[0;34m]\u001b[0m\u001b[0;34m\u001b[0m\u001b[0;34m\u001b[0m\u001b[0m\n\u001b[0m",
      "\u001b[0;31mKeyError\u001b[0m: 1"
     ]
    }
   ],
   "source": [
    "#인덱싱 시도\n",
    "univlocation[1]"
   ]
  },
  {
   "cell_type": "code",
   "execution_count": 34,
   "metadata": {},
   "outputs": [
    {
     "ename": "TypeError",
     "evalue": "unhashable type: 'slice'",
     "output_type": "error",
     "traceback": [
      "\u001b[0;31m---------------------------------------------------------------------------\u001b[0m",
      "\u001b[0;31mTypeError\u001b[0m                                 Traceback (most recent call last)",
      "\u001b[0;32m<ipython-input-34-de306580601d>\u001b[0m in \u001b[0;36m<module>\u001b[0;34m\u001b[0m\n\u001b[1;32m      1\u001b[0m \u001b[0;31m#슬라이싱 시도\u001b[0m\u001b[0;34m\u001b[0m\u001b[0;34m\u001b[0m\u001b[0;34m\u001b[0m\u001b[0m\n\u001b[0;32m----> 2\u001b[0;31m \u001b[0munivlocation\u001b[0m\u001b[0;34m[\u001b[0m\u001b[0;36m2\u001b[0m\u001b[0;34m:\u001b[0m\u001b[0;36m4\u001b[0m\u001b[0;34m]\u001b[0m\u001b[0;34m\u001b[0m\u001b[0;34m\u001b[0m\u001b[0m\n\u001b[0m",
      "\u001b[0;31mTypeError\u001b[0m: unhashable type: 'slice'"
     ]
    }
   ],
   "source": [
    "#슬라이싱 시도\n",
    "univlocation[2:4]"
   ]
  },
  {
   "cell_type": "code",
   "execution_count": 36,
   "metadata": {},
   "outputs": [
    {
     "data": {
      "text/plain": [
       "'schizophrenia'"
      ]
     },
     "execution_count": 36,
     "metadata": {},
     "output_type": "execute_result"
    }
   ],
   "source": [
    "mentalillness = {1:'ASD', 2:'schizophrenia', 3:'bipolar', 4:'dementia', 5:'psychopath'}\n",
    "mentalillness[2] #이건 key값을 통해 value값을 출력한 것, indexing 아님!"
   ]
  },
  {
   "cell_type": "markdown",
   "metadata": {},
   "source": [
    "### 1.2.2. Dictionary 활용시 주의사항"
   ]
  },
  {
   "cell_type": "markdown",
   "metadata": {},
   "source": [
    "- 두개의 동일한 Key값이 있을 때 가장 마지막의 것 외의 나머지는 모두 무시된다. \n",
    "\n",
    "(동일한 Key들이 존재하면 어떤 Value를 불러야할지 알 수 없기 때문)"
   ]
  },
  {
   "cell_type": "code",
   "execution_count": 38,
   "metadata": {},
   "outputs": [
    {
     "name": "stdout",
     "output_type": "stream",
     "text": [
      "{1: 'f'}\n"
     ]
    }
   ],
   "source": [
    "a = {1:'b', 1:'c', 1:'d', 1:'e', 1:'f'}\n",
    "print(a)"
   ]
  },
  {
   "cell_type": "markdown",
   "metadata": {},
   "source": [
    "- Key에 리스트는 쓸 수 없다. (리스트는 변할 수 있는 자료이기 때문)\n",
    "- 다만, Key에 튜플은 쓸 수 있다. (튜플은 변할 수 없는 자료이기 때문)"
   ]
  },
  {
   "cell_type": "code",
   "execution_count": 39,
   "metadata": {},
   "outputs": [
    {
     "ename": "TypeError",
     "evalue": "unhashable type: 'list'",
     "output_type": "error",
     "traceback": [
      "\u001b[0;31m---------------------------------------------------------------------------\u001b[0m",
      "\u001b[0;31mTypeError\u001b[0m                                 Traceback (most recent call last)",
      "\u001b[0;32m<ipython-input-39-6815c3333d14>\u001b[0m in \u001b[0;36m<module>\u001b[0;34m\u001b[0m\n\u001b[1;32m      1\u001b[0m \u001b[0;31m#Key에 List를 넣었을때의 오류\u001b[0m\u001b[0;34m\u001b[0m\u001b[0;34m\u001b[0m\u001b[0;34m\u001b[0m\u001b[0m\n\u001b[1;32m      2\u001b[0m \u001b[0;34m\u001b[0m\u001b[0m\n\u001b[0;32m----> 3\u001b[0;31m \u001b[0mkeylist\u001b[0m \u001b[0;34m=\u001b[0m \u001b[0;34m{\u001b[0m\u001b[0;34m[\u001b[0m\u001b[0;36m1\u001b[0m\u001b[0;34m,\u001b[0m\u001b[0;36m2\u001b[0m\u001b[0;34m,\u001b[0m\u001b[0;36m3\u001b[0m\u001b[0;34m,\u001b[0m\u001b[0;34m]\u001b[0m\u001b[0;34m:\u001b[0m\u001b[0;34m'a'\u001b[0m\u001b[0;34m}\u001b[0m\u001b[0;34m\u001b[0m\u001b[0;34m\u001b[0m\u001b[0m\n\u001b[0m\u001b[1;32m      4\u001b[0m \u001b[0mkeylist\u001b[0m\u001b[0;34m\u001b[0m\u001b[0;34m\u001b[0m\u001b[0m\n",
      "\u001b[0;31mTypeError\u001b[0m: unhashable type: 'list'"
     ]
    }
   ],
   "source": [
    "#Key에 List를 넣었을때의 오류\n",
    "\n",
    "keylist = {[1,2,3,]:'a'}\n",
    "keylist"
   ]
  },
  {
   "cell_type": "code",
   "execution_count": 87,
   "metadata": {},
   "outputs": [
    {
     "data": {
      "text/plain": [
       "{(1, 2, 3): 'k'}"
      ]
     },
     "execution_count": 87,
     "metadata": {},
     "output_type": "execute_result"
    }
   ],
   "source": [
    "#Key에 Tuple을 넣었을 때\n",
    "\n",
    "a = (1,2,3)\n",
    "keytuple = {a:'k'}\n",
    "keytuple"
   ]
  },
  {
   "cell_type": "markdown",
   "metadata": {},
   "source": [
    "## 1.3. Dictionary 관련 함수들"
   ]
  },
  {
   "cell_type": "markdown",
   "metadata": {},
   "source": [
    "### (1) keys : key 리스트 만들기\n",
    "- a.keys()를 통해 dictionary내의 key들에 대한 dict_keys 객체를 만들 수 있다.\n",
    "- dict_keys 객체는 append, remove, insert, sort, pop 등 list 고유의 함수를 사용할 수 없다.\n",
    "- dict_keys 객체를 리스트 자료형으로 만들기 위해서는 list(a.keys()) 함수를 사용하면 된다."
   ]
  },
  {
   "cell_type": "code",
   "execution_count": 7,
   "metadata": {},
   "outputs": [
    {
     "name": "stdout",
     "output_type": "stream",
     "text": [
      "dict_keys(['name', 'job', 'workspace', 'project'])\n",
      "['name', 'job', 'workspace', 'project']\n"
     ]
    }
   ],
   "source": [
    "profile = {\"name\":\"mario\", \"job\":\"hero\", \"workspace\":\"nintendo\", \"project\":\"savetheprincess\"}\n",
    "\n",
    "print(profile.keys()) #dict_keys 객체\n",
    "print(list(profile.keys())) #list 자료형"
   ]
  },
  {
   "cell_type": "markdown",
   "metadata": {},
   "source": [
    "### (2) values : value 리스트 만들기\n",
    "- a.values()를 통해 dictionary내의 value들에 대한 dict_values 객체를 만들 수 있다.\n",
    "- dict_values 객체는 append, remove, insert, sort, pop 등 list 고유의 함수를 사용할 수 없다.\n",
    "- dict_values 객체를 리스트 자료형으로 만들기 위해서는 list(a.values()) 함수를 사용하면 된다."
   ]
  },
  {
   "cell_type": "code",
   "execution_count": 89,
   "metadata": {},
   "outputs": [
    {
     "name": "stdout",
     "output_type": "stream",
     "text": [
      "dict_values(['mario', 'hero', 'nintendo', 'savetheprincess'])\n",
      "['mario', 'hero', 'nintendo', 'savetheprincess']\n"
     ]
    }
   ],
   "source": [
    "profile = {\"name\":\"mario\", \"job\":\"hero\", \"workspace\":\"nintendo\", \"project\":\"savetheprincess\"}\n",
    "\n",
    "print(profile.values()) #dict_values 객체\n",
    "print(list(profile.values())) #list 자료형"
   ]
  },
  {
   "cell_type": "markdown",
   "metadata": {},
   "source": [
    "### (3) items : {key:value} 쌍 리스트 만들기\n",
    "- a.items()를 통해 dictionary내의 key:value 쌍들에 대한 dict_items 객체를 만들 수 있다.\n",
    "- dict_items 객체는 append, remove, insert, sort, pop 등 list 고유의 함수를 사용할 수 없다.\n",
    "- dict_items 객체를 리스트 자료형으로 만들기 위해서는 list(a.items()) 함수를 사용하면 된다."
   ]
  },
  {
   "cell_type": "code",
   "execution_count": 90,
   "metadata": {},
   "outputs": [
    {
     "name": "stdout",
     "output_type": "stream",
     "text": [
      "dict_items([('name', 'mario'), ('job', 'hero'), ('workspace', 'nintendo'), ('project', 'savetheprincess')])\n",
      "[('name', 'mario'), ('job', 'hero'), ('workspace', 'nintendo'), ('project', 'savetheprincess')]\n"
     ]
    }
   ],
   "source": [
    "profile = {\"name\":\"mario\", \"job\":\"hero\", \"workspace\":\"nintendo\", \"project\":\"savetheprincess\"}\n",
    "\n",
    "print(profile.items()) #dict_items 객체\n",
    "print(list(profile.items())) #list 자료형"
   ]
  },
  {
   "cell_type": "markdown",
   "metadata": {},
   "source": [
    "### (4) clear : {key:value} 쌍 모두 지우기\n",
    "- a.clear()은 dictionary 안의 모든 요소를 삭제한다.\n",
    "- 빈 리스트[], 빈 튜플() 처럼 빈 딕셔너리는 {}이다."
   ]
  },
  {
   "cell_type": "code",
   "execution_count": 91,
   "metadata": {},
   "outputs": [
    {
     "name": "stdout",
     "output_type": "stream",
     "text": [
      "None\n"
     ]
    }
   ],
   "source": [
    "profile = {\"name\":\"mario\", \"job\":\"hero\", \"workspace\":\"nintendo\", \"project\":\"savetheprincess\"}\n",
    "print(profile.clear())"
   ]
  },
  {
   "cell_type": "markdown",
   "metadata": {},
   "source": [
    "### (5) get : key로 value 얻기\n",
    "- a[key]처럼, a.get(key)는 key값에 해당하는 value를 돌려준다.\n",
    "- 다만, a.get(nokey)와 같이 nokey가 존재하지 않는 key값일 경우 get함수는 오류 대신 None값을 돌려준다.\n",
    "- 찾으려는 key값이 없을 때 None 대신 다른 디폴트 값이 돌아오길 원할 경우, a.get(key, '디폴트값') 함수를 사용하면 된다."
   ]
  },
  {
   "cell_type": "code",
   "execution_count": 1,
   "metadata": {},
   "outputs": [
    {
     "name": "stdout",
     "output_type": "stream",
     "text": [
      "nintendo\n",
      "nintendo\n"
     ]
    }
   ],
   "source": [
    "#get함수와 a[key]의 비교\n",
    "\n",
    "profile = {\"name\":\"mario\", \"job\":\"hero\", \"workspace\":\"nintendo\", \"project\":\"savetheprincess\"}\n",
    "print(profile.get('workspace'))\n",
    "print(profile['workspace'])"
   ]
  },
  {
   "cell_type": "code",
   "execution_count": 93,
   "metadata": {},
   "outputs": [
    {
     "name": "stdout",
     "output_type": "stream",
     "text": [
      "None\n"
     ]
    }
   ],
   "source": [
    "#없는 key값을 넣었을 때\n",
    "\n",
    "a = {1:'a', 2:'b', 3:'c'}\n",
    "print(a.get(4))"
   ]
  },
  {
   "cell_type": "code",
   "execution_count": 94,
   "metadata": {},
   "outputs": [
    {
     "name": "stdout",
     "output_type": "stream",
     "text": [
      "toohard\n",
      "None\n",
      "torture\n"
     ]
    }
   ],
   "source": [
    "study = {'python':'hard', 'deeplearning':'toohard', 'algebra':'extremelyhard', 'EEG':'cannotunderstand'}\n",
    "print(study.get('deeplearning'))\n",
    "print(study.get('neuroscience'))\n",
    "print(study.get('neuroscience', 'torture'))"
   ]
  },
  {
   "cell_type": "markdown",
   "metadata": {},
   "source": [
    "### (6) in : 특정 key가 해당 dictionary 안에 있는지 조사하기\n",
    "- 'key' in a를 출력하면 True 혹은 False로 특정 key가 a라는 dictionary 안에 있는지 확인해준다."
   ]
  },
  {
   "cell_type": "code",
   "execution_count": 95,
   "metadata": {},
   "outputs": [
    {
     "name": "stdout",
     "output_type": "stream",
     "text": [
      "True\n",
      "False\n",
      "False\n"
     ]
    }
   ],
   "source": [
    "univlocation = dict({\"관악구\":\"서울대\", \"마포구\":[\"서강대\",\"홍익대\"], \"서대문구\":[\"연세대\",\"이화여대\"], \"성북구\":[\"고려대\",\"한예종\"], \"동대문구\":[\"한국외대\",\"경희대\",\"서울시립대\"], \"동작구\":[\"중앙대\",\"숭실대\"]})\n",
    "\n",
    "print(\"관악구\" in univlocation)\n",
    "print(\"구로구\" in univlocation)\n",
    "print(\"부산\" in univlocation)"
   ]
  },
  {
   "cell_type": "markdown",
   "metadata": {},
   "source": [
    " "
   ]
  },
  {
   "cell_type": "markdown",
   "metadata": {},
   "source": [
    "# 2. Set 자료형\n",
    "- Set 자료형은 집합 자료형이라고도 하며, 말 그대로 '집합'의 속성을 가진다.\n",
    "- 집합의 속성과 같이, (1) 중복을 허용하지 않고 (2) 순서가 없다.\n",
    "- 순서가 없기에 인덱싱과 슬라이싱이 불가능하고, 인덱싱을 하기 위해서는 set 자료를 리스트나 튜플로 변환해야 한다."
   ]
  },
  {
   "cell_type": "markdown",
   "metadata": {},
   "source": [
    "### Set 자료형의 예시"
   ]
  },
  {
   "cell_type": "code",
   "execution_count": 96,
   "metadata": {},
   "outputs": [
    {
     "name": "stdout",
     "output_type": "stream",
     "text": [
      "{1, 2, 3, 4, 5, 6, 7}\n",
      "{1, 2, 3, 4}\n",
      "{'삵', '고래', '바다뱀', '고양이', '해파리'}\n"
     ]
    }
   ],
   "source": [
    "#set 키워드를 활용하여 만든다.\n",
    "\n",
    "a = set([1,2,3,4,5,6,7])\n",
    "b = set([1,1,4,2,1,3,2,1,4,4,3,2,1,3])\n",
    "animal = set([\"고래\", \"고양이\", \"삵\", \"해파리\", \"바다뱀\", \"삵\", \"고래\"])\n",
    "\n",
    "print(a)\n",
    "print(b)\n",
    "print(animal)"
   ]
  },
  {
   "cell_type": "markdown",
   "metadata": {},
   "source": [
    "- 문자열 입력시 문자열 내의 문자들이 요소가 된다."
   ]
  },
  {
   "cell_type": "code",
   "execution_count": 98,
   "metadata": {},
   "outputs": [
    {
     "data": {
      "text/plain": [
       "{'a', 'b', 'c', 'd', 'e'}"
      ]
     },
     "execution_count": 98,
     "metadata": {},
     "output_type": "execute_result"
    }
   ],
   "source": [
    "a = set(\"aabbccddee\")\n",
    "a"
   ]
  },
  {
   "cell_type": "markdown",
   "metadata": {},
   "source": [
    "- 비어있는 set 자료형은 set() 형태이다."
   ]
  },
  {
   "cell_type": "code",
   "execution_count": 101,
   "metadata": {},
   "outputs": [
    {
     "name": "stdout",
     "output_type": "stream",
     "text": [
      "set()\n"
     ]
    }
   ],
   "source": [
    "empty = set()\n",
    "print(empty)"
   ]
  },
  {
   "cell_type": "code",
   "execution_count": 103,
   "metadata": {},
   "outputs": [
    {
     "name": "stdout",
     "output_type": "stream",
     "text": [
      "['삵', '고래', '바다뱀', '고양이', '해파리']\n",
      "('삵', '고래', '바다뱀', '고양이', '해파리')\n"
     ]
    }
   ],
   "source": [
    "#리스트, 튜플 자료형으로 변환하기\n",
    "\n",
    "animal = set([\"고래\", \"고양이\", \"삵\", \"해파리\", \"바다뱀\", \"삵\", \"고래\"])\n",
    "print(list(animal))\n",
    "print(tuple(animal))"
   ]
  },
  {
   "cell_type": "markdown",
   "metadata": {},
   "source": [
    "## 2.1. Set 자료형의 교집합, 합집합, 차집합 구하기\n",
    "\n",
    "#### set 자료형은 수학적 집합의 연산이 가능하다.\n",
    "- 교집합 : s1 & s2, s1.intersection(s2), s2.intersection(s1)\n",
    "- 합집합 : s1 | s2, s1.union(s2), s2.union(s1)\n",
    "- 차집합 : s1 - s2, s1.difference(s2)"
   ]
  },
  {
   "cell_type": "code",
   "execution_count": 105,
   "metadata": {},
   "outputs": [],
   "source": [
    "심리학과 = set([\"심리학개론\", \"사회심리학\", \"신경과학\", \"인지과정및실험\", \"심리통계\"])\n",
    "뇌마음행동 = set([\"신경과학\", \"심리철학\", \"컴퓨터언어학\", \"동물생리학\", \"인지과정및실험\"])"
   ]
  },
  {
   "cell_type": "code",
   "execution_count": 106,
   "metadata": {},
   "outputs": [
    {
     "name": "stdout",
     "output_type": "stream",
     "text": [
      "{'신경과학', '인지과정및실험'}\n",
      "{'신경과학', '인지과정및실험'}\n",
      "{'신경과학', '인지과정및실험'}\n"
     ]
    }
   ],
   "source": [
    "#교집합\n",
    "\n",
    "print(심리학과 & 뇌마음행동)\n",
    "print(심리학과.intersection(뇌마음행동))\n",
    "print(뇌마음행동.intersection(심리학과))"
   ]
  },
  {
   "cell_type": "code",
   "execution_count": 107,
   "metadata": {},
   "outputs": [
    {
     "name": "stdout",
     "output_type": "stream",
     "text": [
      "{'신경과학', '심리통계', '컴퓨터언어학', '사회심리학', '인지과정및실험', '심리철학', '심리학개론', '동물생리학'}\n",
      "{'신경과학', '심리통계', '컴퓨터언어학', '사회심리학', '인지과정및실험', '심리철학', '심리학개론', '동물생리학'}\n",
      "{'신경과학', '심리통계', '컴퓨터언어학', '사회심리학', '심리철학', '인지과정및실험', '심리학개론', '동물생리학'}\n"
     ]
    }
   ],
   "source": [
    "#합집합\n",
    "\n",
    "print(심리학과 | 뇌마음행동)\n",
    "print(심리학과.union(뇌마음행동))\n",
    "print(뇌마음행동.union(심리학과))"
   ]
  },
  {
   "cell_type": "code",
   "execution_count": 108,
   "metadata": {},
   "outputs": [
    {
     "name": "stdout",
     "output_type": "stream",
     "text": [
      "{'사회심리학', '심리학개론', '심리통계'}\n",
      "{'사회심리학', '심리학개론', '심리통계'}\n",
      "{'동물생리학', '심리철학', '컴퓨터언어학'}\n",
      "{'동물생리학', '심리철학', '컴퓨터언어학'}\n"
     ]
    }
   ],
   "source": [
    "#차집합\n",
    "\n",
    "print(심리학과-뇌마음행동)\n",
    "print(심리학과.difference(뇌마음행동))\n",
    "print(뇌마음행동-심리학과)\n",
    "print(뇌마음행동.difference(심리학과))"
   ]
  },
  {
   "cell_type": "markdown",
   "metadata": {},
   "source": [
    "## 2.2. Set 자료형 관련 함수들\n",
    "- add : 값 1개 추가하기\n",
    "- update : 값 여러개 추가하기\n",
    "- remove : 값 제거하기"
   ]
  },
  {
   "cell_type": "code",
   "execution_count": 113,
   "metadata": {},
   "outputs": [
    {
     "name": "stdout",
     "output_type": "stream",
     "text": [
      "{'신경과학', '인공지능', '컴퓨터언어학', '심리철학', '인지과정및실험', '동물생리학'}\n"
     ]
    }
   ],
   "source": [
    "#add 함수\n",
    "\n",
    "뇌마음행동 = set([\"신경과학\", \"심리철학\", \"컴퓨터언어학\", \"동물생리학\", \"인지과정및실험\"])\n",
    "뇌마음행동.add(\"인공지능\")\n",
    "print(뇌마음행동)"
   ]
  },
  {
   "cell_type": "code",
   "execution_count": 114,
   "metadata": {},
   "outputs": [
    {
     "name": "stdout",
     "output_type": "stream",
     "text": [
      "{'신경과학', '정서과학', '고급심리통계', '심리통계', '사회심리학', '인지과정및실험', '심리학개론', '현대물리학연구'}\n"
     ]
    }
   ],
   "source": [
    "#update 함수\n",
    "심리학과 = set([\"심리학개론\", \"사회심리학\", \"신경과학\", \"인지과정및실험\", \"심리통계\"])\n",
    "심리학과.update([\"정서과학\", \"고급심리통계\", \"현대물리학연구\"])\n",
    "print(심리학과)"
   ]
  },
  {
   "cell_type": "code",
   "execution_count": 115,
   "metadata": {},
   "outputs": [
    {
     "data": {
      "text/plain": [
       "{'고급심리통계', '사회심리학', '신경과학', '심리통계', '심리학개론', '인지과정및실험', '정서과학'}"
      ]
     },
     "execution_count": 115,
     "metadata": {},
     "output_type": "execute_result"
    }
   ],
   "source": [
    "#remove 함수\n",
    "심리학과 = set(['신경과학', '정서과학', '고급심리통계', '현대물리학연구', '심리통계', '사회심리학', '인지과정및실험', '심리학개론'])\n",
    "심리학과.remove(\"현대물리학연구\")\n",
    "심리학과"
   ]
  },
  {
   "cell_type": "markdown",
   "metadata": {},
   "source": [
    " "
   ]
  },
  {
   "cell_type": "markdown",
   "metadata": {},
   "source": [
    "# 3. Bool 자료형\n",
    "- Bool 자료형은 참(True)과 거짓(False)을 나타내는 자료형이다.\n",
    "- 주의할 점 : True와 False로 쓰며, 'True', 'False', true, false는 Bool 자료형이 아니다!"
   ]
  },
  {
   "cell_type": "code",
   "execution_count": 116,
   "metadata": {},
   "outputs": [
    {
     "name": "stdout",
     "output_type": "stream",
     "text": [
      "True\n",
      "False\n"
     ]
    }
   ],
   "source": [
    "#변수에 Bool 자료형 저장하기\n",
    "\n",
    "a = True\n",
    "b = False\n",
    "print(a)\n",
    "print(b)"
   ]
  },
  {
   "cell_type": "markdown",
   "metadata": {},
   "source": [
    "- 파이썬에서 자료형을 확인하는 type(x) 함수를 통해 a와 b가 문자형이 아닌 Bool 자료형임을 확인할 수 있다."
   ]
  },
  {
   "cell_type": "code",
   "execution_count": 120,
   "metadata": {},
   "outputs": [
    {
     "name": "stdout",
     "output_type": "stream",
     "text": [
      "<class 'bool'>\n",
      "<class 'bool'>\n",
      "true\n"
     ]
    }
   ],
   "source": [
    "print(type(a))\n",
    "print(type(b))\n",
    "c = \"true\"\n",
    "print(c)"
   ]
  },
  {
   "cell_type": "markdown",
   "metadata": {},
   "source": [
    "- Bool 자료형은 조건문의 리턴값으로 쓰인다. (참과 거짓 판별)"
   ]
  },
  {
   "cell_type": "code",
   "execution_count": 144,
   "metadata": {},
   "outputs": [
    {
     "data": {
      "text/plain": [
       "True"
      ]
     },
     "execution_count": 144,
     "metadata": {},
     "output_type": "execute_result"
    }
   ],
   "source": [
    "10 == 10 # == : a와 b가 같은가?"
   ]
  },
  {
   "cell_type": "code",
   "execution_count": 145,
   "metadata": {},
   "outputs": [
    {
     "data": {
      "text/plain": [
       "False"
      ]
     },
     "execution_count": 145,
     "metadata": {},
     "output_type": "execute_result"
    }
   ],
   "source": [
    "\"강아지\" == \"고양이\""
   ]
  },
  {
   "cell_type": "code",
   "execution_count": 146,
   "metadata": {},
   "outputs": [
    {
     "data": {
      "text/plain": [
       "True"
      ]
     },
     "execution_count": 146,
     "metadata": {},
     "output_type": "execute_result"
    }
   ],
   "source": [
    "16 > 8 #a가 b보다 큰가?"
   ]
  },
  {
   "cell_type": "code",
   "execution_count": 147,
   "metadata": {},
   "outputs": [
    {
     "data": {
      "text/plain": [
       "False"
      ]
     },
     "execution_count": 147,
     "metadata": {},
     "output_type": "execute_result"
    }
   ],
   "source": [
    "15 < 1"
   ]
  },
  {
   "cell_type": "markdown",
   "metadata": {},
   "source": [
    "## 3.1. 자료형의 참과 거짓\n",
    "- 자료형에도 참과 거짓이 있다. 이는 bool(자료형)을 출력하여 확인할 수 있다.\n",
    "- 직관적으로 '참'과 '거짓'으로 나눌 수 없다고 생각되는 자료형들도 참과 거짓을 확인할 수 있다. 아래 예시들을 확인하자."
   ]
  },
  {
   "cell_type": "code",
   "execution_count": 148,
   "metadata": {},
   "outputs": [
    {
     "data": {
      "text/plain": [
       "True"
      ]
     },
     "execution_count": 148,
     "metadata": {},
     "output_type": "execute_result"
    }
   ],
   "source": [
    "bool(\"anything\") #문자형은 True"
   ]
  },
  {
   "cell_type": "code",
   "execution_count": 149,
   "metadata": {},
   "outputs": [
    {
     "data": {
      "text/plain": [
       "False"
      ]
     },
     "execution_count": 149,
     "metadata": {},
     "output_type": "execute_result"
    }
   ],
   "source": [
    "bool(\"\") #빈 문자형은 False"
   ]
  },
  {
   "cell_type": "code",
   "execution_count": 150,
   "metadata": {},
   "outputs": [
    {
     "name": "stdout",
     "output_type": "stream",
     "text": [
      "True\n",
      "True\n",
      "True\n",
      "True\n"
     ]
    }
   ],
   "source": [
    "print(bool([1,2,3])) #요소가 있는 리스트는 참\n",
    "print(bool((1,2,3))) #요소가 있는 튜플은 참\n",
    "print(bool({1:'a',2:'b'})) #요소가 있는 딕셔너리는 참\n",
    "a = set([1,2,3,4,5,6,7])\n",
    "print(bool(a)) #요소가 있는 세트는 참"
   ]
  },
  {
   "cell_type": "code",
   "execution_count": 151,
   "metadata": {},
   "outputs": [
    {
     "name": "stdout",
     "output_type": "stream",
     "text": [
      "False\n",
      "False\n",
      "False\n",
      "False\n"
     ]
    }
   ],
   "source": [
    "#빈 리스트, 튜플, 딕셔너리, 세트는 거짓\n",
    "\n",
    "print(bool([]))\n",
    "print(bool(()))\n",
    "print(bool({}))\n",
    "a = set([])\n",
    "print(bool(a))"
   ]
  },
  {
   "cell_type": "code",
   "execution_count": 152,
   "metadata": {},
   "outputs": [
    {
     "name": "stdout",
     "output_type": "stream",
     "text": [
      "True\n",
      "False\n"
     ]
    }
   ],
   "source": [
    "#1은 참, 0은 거짓\n",
    "print(bool(1))\n",
    "print(bool(0))"
   ]
  },
  {
   "cell_type": "code",
   "execution_count": 153,
   "metadata": {},
   "outputs": [
    {
     "data": {
      "text/plain": [
       "False"
      ]
     },
     "execution_count": 153,
     "metadata": {},
     "output_type": "execute_result"
    }
   ],
   "source": [
    "#None은 거짓\n",
    "bool(None)"
   ]
  },
  {
   "cell_type": "code",
   "execution_count": 154,
   "metadata": {},
   "outputs": [
    {
     "name": "stdout",
     "output_type": "stream",
     "text": [
      "True\n",
      "False\n"
     ]
    }
   ],
   "source": [
    "#조건문 두개가 and로 연결되었을 때, 둘 다 참이어야 True\n",
    "\n",
    "print(bool(2>1 and 3>0))\n",
    "print(bool(2>1 and 2==1))"
   ]
  },
  {
   "cell_type": "code",
   "execution_count": 155,
   "metadata": {},
   "outputs": [
    {
     "data": {
      "text/plain": [
       "True"
      ]
     },
     "execution_count": 155,
     "metadata": {},
     "output_type": "execute_result"
    }
   ],
   "source": [
    "#조건문 두개가 or로 연결되었을 때, 둘 중 하나가 참이면 True\n",
    "\n",
    "bool(2>1 or 2==1)"
   ]
  }
 ],
 "metadata": {
  "kernelspec": {
   "display_name": "Python 3",
   "language": "python",
   "name": "python3"
  },
  "language_info": {
   "codemirror_mode": {
    "name": "ipython",
    "version": 3
   },
   "file_extension": ".py",
   "mimetype": "text/x-python",
   "name": "python",
   "nbconvert_exporter": "python",
   "pygments_lexer": "ipython3",
   "version": "3.7.3"
  }
 },
 "nbformat": 4,
 "nbformat_minor": 2
}
