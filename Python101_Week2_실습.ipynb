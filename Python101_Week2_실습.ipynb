{
 "cells": [
  {
   "cell_type": "markdown",
   "metadata": {},
   "source": [
    "# Week 2 실습"
   ]
  },
  {
   "cell_type": "markdown",
   "metadata": {},
   "source": [
    "1. 다음 글을 문장 단위로 띄어쓰기해서 문자열 변수로 지정하시오.\n",
    "\n",
    "아침에 잠자리에서 일어나서 밖으로 나오면 밤 사이에 진주해 온 적군들처럼 안개가 무진을 삥 둘러 싸고 있는 것이었다.\n",
    "무진을 둘러싸고 있던 산들도 안개에 의하여 보이지 않는 먼 곳으로 유배당해 버리고 없었다.\n",
    "안개는 마치 이승에 한이 있어서 매일 밤 찾아오는 여귀가 뿜어 내놓은 입김과 같았다."
   ]
  },
  {
   "cell_type": "code",
   "execution_count": null,
   "metadata": {},
   "outputs": [],
   "source": []
  },
  {
   "cell_type": "markdown",
   "metadata": {},
   "source": [
    "2. 파이썬 사칙연산을 활용하여, 347을 11로 나누었을 때의 정수 몫과 나머지를 각각 구하시오."
   ]
  },
  {
   "cell_type": "code",
   "execution_count": null,
   "metadata": {},
   "outputs": [],
   "source": []
  },
  {
   "cell_type": "markdown",
   "metadata": {},
   "source": [
    "3. 다음 문장들을 오류 없이 출력하시오.\n",
    "\n",
    "She said \"No!\" to her friend.\n",
    "\n",
    "Jack majored fine arts, but he quitted studying that, because Jack's financial circumstance was extremely bad.\n",
    "\n",
    "John's father always tell \"Be honest\" to his family, though he was not that honest."
   ]
  },
  {
   "cell_type": "code",
   "execution_count": null,
   "metadata": {},
   "outputs": [],
   "source": []
  },
  {
   "cell_type": "markdown",
   "metadata": {},
   "source": [
    "4. 문자열 연산을 활용하여, 아래에 제시된 변수들을 활용하여 최대한 많은 단어들을 만드시오.\n",
    "\n",
    "a = \"a\"\n",
    "\n",
    "b = \"s\"\n",
    "\n",
    "c = \"e\"\n",
    "\n",
    "d = \"l\"\n",
    "\n",
    "e = \"r\""
   ]
  },
  {
   "cell_type": "code",
   "execution_count": null,
   "metadata": {},
   "outputs": [],
   "source": []
  },
  {
   "cell_type": "markdown",
   "metadata": {},
   "source": [
    "5. 다음 글들의 문자열 길이를 구하시오.\n",
    "\n",
    "집에 가면...맛있는 햄버거를...먹을거야...\n",
    "\n",
    "나는 상훈이가 가난을 훔쳐 갔다는 걸 비로소 깨달았다. 나는 분해서 이를 부드득 갈았다. 그러나 내 가난을, 내 가난의 의미를 무슨 수로 돌려 받을 수 있을 것인가. 나는 우리 집안의 몰락 과정을 통해 부자들이 얼마나 탐욕스러운가를 알고 있는 터였다. 아흔아홉 냥 가진 놈이 한 냥을 탐내는 성미를 알고 있는 터였다. 그러나 부자들이 가난을 탐내리라고는 꿈에도 생각 못 해 본 일이었다. 그들의 빛나는 학력, 경력만 갖고는 성이 안 차 가난까지 훔쳐다가 그들의 다채로운 삶을 한층 다채롭게 할 에피소드로 삼고 싶어 한다는 건 미처 몰랐다."
   ]
  },
  {
   "cell_type": "code",
   "execution_count": null,
   "metadata": {},
   "outputs": [],
   "source": []
  },
  {
   "cell_type": "markdown",
   "metadata": {},
   "source": [
    "6. 단어 '피자'를 10번 연속 출력하시오. 다만, 단어 간 띄어쓰기가 되어 있어야 함."
   ]
  },
  {
   "cell_type": "code",
   "execution_count": null,
   "metadata": {},
   "outputs": [],
   "source": []
  }
 ],
 "metadata": {
  "kernelspec": {
   "display_name": "Python 3",
   "language": "python",
   "name": "python3"
  },
  "language_info": {
   "codemirror_mode": {
    "name": "ipython",
    "version": 3
   },
   "file_extension": ".py",
   "mimetype": "text/x-python",
   "name": "python",
   "nbconvert_exporter": "python",
   "pygments_lexer": "ipython3",
   "version": "3.7.3"
  }
 },
 "nbformat": 4,
 "nbformat_minor": 2
}
