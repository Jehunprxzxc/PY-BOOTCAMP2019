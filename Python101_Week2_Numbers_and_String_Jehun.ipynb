{
 "cells": [
  {
   "cell_type": "markdown",
   "metadata": {},
   "source": [
    "# Week 2 : Numbers and String"
   ]
  },
  {
   "cell_type": "markdown",
   "metadata": {},
   "source": [
    "### 2019 Summer \n",
    "### Human Factors Psychology Lab, SNU\n",
    "### Jehun Hong"
   ]
  },
  {
   "cell_type": "markdown",
   "metadata": {},
   "source": []
  },
  {
   "cell_type": "markdown",
   "metadata": {},
   "source": [
    "## 1. Numbers\n",
    "- 숫자 형태로 이루어진 자료형 (자연수, 정수, 실수 모두 포함)\n",
    "- 10진법으로 된 숫자 표기 외에도 8진법, 16진법 등으로 표기하는 것도 가능"
   ]
  },
  {
   "cell_type": "markdown",
   "metadata": {},
   "source": [
    "#### (1) Integer : 정수를 뜻하는 자료형"
   ]
  },
  {
   "cell_type": "code",
   "execution_count": 109,
   "metadata": {},
   "outputs": [],
   "source": [
    ">>> a = 35\n",
    ">>> a = 0\n",
    ">>> a = -34"
   ]
  },
  {
   "cell_type": "markdown",
   "metadata": {},
   "source": [
    "#### (2) Floating-Point : 실수 중 소숫점이 포함된 문자"
   ]
  },
  {
   "cell_type": "code",
   "execution_count": 110,
   "metadata": {},
   "outputs": [],
   "source": [
    ">>> a = 43.76947\n",
    ">>> a = -74.36\n",
    ">>> a = 5.35E10\n",
    ">>> a = 6.3e-10"
   ]
  },
  {
   "cell_type": "markdown",
   "metadata": {},
   "source": [
    "#### (3) 8진수와 16진수\n",
    "- 8진수를 만들기 위해서는 숫자를 0o 혹은 0O로 시작한다.\n",
    "- 16진수를 만들기 위해서는 숫자를 0x로 시작한다."
   ]
  },
  {
   "cell_type": "code",
   "execution_count": 111,
   "metadata": {},
   "outputs": [],
   "source": [
    ">>> a = 0o365\n",
    ">>> b = 0O312"
   ]
  },
  {
   "cell_type": "code",
   "execution_count": 112,
   "metadata": {},
   "outputs": [],
   "source": [
    ">>> a = 0x235\n",
    ">>> b = 0xAC4"
   ]
  },
  {
   "cell_type": "markdown",
   "metadata": {},
   "source": [
    "### 1.1. 숫자형과 사칙연산\n",
    "- 기본 연산자 + - * / 를 활용하여 파이썬에서 빠르고 쉬운 사칙연산을 수행할 수 있다. (덧셈, 뺄셈, 곱셈, 나눗셈)"
   ]
  },
  {
   "cell_type": "code",
   "execution_count": 113,
   "metadata": {},
   "outputs": [],
   "source": [
    ">>> a = 35\n",
    ">>> b = 48.7"
   ]
  },
  {
   "cell_type": "code",
   "execution_count": 114,
   "metadata": {},
   "outputs": [
    {
     "name": "stdout",
     "output_type": "stream",
     "text": [
      "83.7\n",
      "-13.700000000000003\n",
      "1704.5\n",
      "0.7186858316221766\n"
     ]
    }
   ],
   "source": [
    ">>> print (a+b)\n",
    ">>> print (a-b)\n",
    ">>> print (a*b)\n",
    ">>> print (a/b)"
   ]
  },
  {
   "cell_type": "markdown",
   "metadata": {},
   "source": [
    "- 제곱승 ** 을 활용해 x의 y제곱의 값을 구할 수 있다."
   ]
  },
  {
   "cell_type": "code",
   "execution_count": 115,
   "metadata": {},
   "outputs": [
    {
     "data": {
      "text/plain": [
       "9"
      ]
     },
     "execution_count": 115,
     "metadata": {},
     "output_type": "execute_result"
    }
   ],
   "source": [
    ">>> a = 3\n",
    ">>> b = 2\n",
    ">>> a ** b"
   ]
  },
  {
   "cell_type": "markdown",
   "metadata": {},
   "source": [
    "- % 연산자를 활용해 나눗셈 후 나머지를 구할 수 있다."
   ]
  },
  {
   "cell_type": "code",
   "execution_count": 116,
   "metadata": {},
   "outputs": [
    {
     "data": {
      "text/plain": [
       "1"
      ]
     },
     "execution_count": 116,
     "metadata": {},
     "output_type": "execute_result"
    }
   ],
   "source": [
    ">>> p = 7\n",
    ">>> q = 3\n",
    ">>> p%q"
   ]
  },
  {
   "cell_type": "markdown",
   "metadata": {},
   "source": [
    "- / 연산자를 활용해 나눗셈의 일반적인 결과를 구할 수 있다면, 이 중 정수값에 해당하는 몫을 // 연산자로 구할 수 있다."
   ]
  },
  {
   "cell_type": "code",
   "execution_count": 117,
   "metadata": {},
   "outputs": [],
   "source": [
    ">>> n = 14\n",
    ">>> m = 5"
   ]
  },
  {
   "cell_type": "code",
   "execution_count": 118,
   "metadata": {},
   "outputs": [
    {
     "name": "stdout",
     "output_type": "stream",
     "text": [
      "2.8\n",
      "2\n"
     ]
    }
   ],
   "source": [
    "print (n/m)\n",
    "print (n//m)"
   ]
  },
  {
   "cell_type": "code",
   "execution_count": null,
   "metadata": {},
   "outputs": [],
   "source": []
  },
  {
   "cell_type": "markdown",
   "metadata": {},
   "source": [
    "# 2. String\n",
    "- 문자열 : 문자, 단어 등으로 구성된 문자들의 집합"
   ]
  },
  {
   "cell_type": "code",
   "execution_count": 119,
   "metadata": {},
   "outputs": [],
   "source": [
    "a = \"All work and no play makes Jack a dull boy\" #큰따옴표\n",
    "b = 'Python' #작은따옴표\n",
    "c = \"\"\"12345\"\"\" #큰따옴표 3개 #숫자 형태도 문자열로 표기할 수 있음\n",
    "d = '''국민 여러분 안심하십시오, 서울은 안전합니다''' #작은따옴표 3개"
   ]
  },
  {
   "cell_type": "code",
   "execution_count": 120,
   "metadata": {},
   "outputs": [
    {
     "name": "stdout",
     "output_type": "stream",
     "text": [
      "All work and no play makes Jack a dull boy\n",
      "Python\n",
      "12345\n",
      "국민 여러분 안심하십시오, 서울은 안전합니다\n"
     ]
    }
   ],
   "source": [
    "print(a)\n",
    "print(b)\n",
    "print(c)\n",
    "print(d)"
   ]
  },
  {
   "cell_type": "markdown",
   "metadata": {},
   "source": [
    "## 2.1. 따옴표가 있는 문장을 문자열로 표현하고 싶을 때\n",
    "- 문자열 안에 작은따옴표(')가 포함된 경우 : 큰따옴표로 둘러싼다\n",
    "- 문자열 안에 큰따옴표(\")가 포함된 경우 : 작은따옴표로 둘러싼다\n",
    "- 작은따옴표나 큰따옴표 앞에 백슬래시(\\) 삽입하기 : \\\\' or \\\\\""
   ]
  },
  {
   "cell_type": "code",
   "execution_count": 121,
   "metadata": {},
   "outputs": [],
   "source": [
    "a = \"John's mother is drug addict\"\n",
    "b = 'He said \"No\" to me.'\n",
    "c = 'Jane\\'s friends left her.'"
   ]
  },
  {
   "cell_type": "code",
   "execution_count": 122,
   "metadata": {},
   "outputs": [
    {
     "name": "stdout",
     "output_type": "stream",
     "text": [
      "John's mother is drug addict\n",
      "He said \"No\" to me.\n",
      "Jane's friends left her.\n"
     ]
    }
   ],
   "source": [
    "print(a)\n",
    "print(b)\n",
    "print(c)"
   ]
  },
  {
   "cell_type": "markdown",
   "metadata": {},
   "source": [
    "## 2.2. 여러 줄의 문장을 한 변수 내의 문자열로 대입하고 싶을 때\n",
    "- 이스케이프 코드 \\n을 사용한다\n",
    "- 연속된 작은따옴표 3개(''') 혹은 큰따옴표 3개(\"\"\")를 사용한다"
   ]
  },
  {
   "cell_type": "code",
   "execution_count": 123,
   "metadata": {},
   "outputs": [],
   "source": [
    ">>> a = \"얘,\\n봄감자가 맛있더라.\"\n",
    ">>> b = '''\n",
    "That the wind came out of the cloud by night, \n",
    "Chilling and killing my Annabel Lee. \n",
    "'''\n",
    ">>> c = \"\"\"\n",
    "새벽에 큰오빠가 조심스럽게 불을 켜는 소리에 눈이 떠진다.\n",
    "큰 오빠는 잠을 깬 나를 보더니 그냥 자라는 눈짓을 한다...\n",
    "- 외딴 방, 신경숙\n",
    "\"\"\""
   ]
  },
  {
   "cell_type": "code",
   "execution_count": 124,
   "metadata": {},
   "outputs": [
    {
     "name": "stdout",
     "output_type": "stream",
     "text": [
      "얘,\n",
      "봄감자가 맛있더라.\n",
      "\n",
      "That the wind came out of the cloud by night, \n",
      "Chilling and killing my Annabel Lee. \n",
      "\n",
      "\n",
      "새벽에 큰오빠가 조심스럽게 불을 켜는 소리에 눈이 떠진다.\n",
      "큰 오빠는 잠을 깬 나를 보더니 그냥 자라는 눈짓을 한다...\n",
      "- 외딴 방, 신경숙\n",
      "\n"
     ]
    }
   ],
   "source": [
    "print(a)\n",
    "print(b)\n",
    "print(c)"
   ]
  },
  {
   "cell_type": "markdown",
   "metadata": {},
   "source": [
    "## 2.3. 이스케이프 코드\n",
    "- 이스케이프 코드는 출력물을 편리하게 정리하는 용도로 주로 사용한다.\n",
    "- 가장 많이 사용되는 5개만 소개할 것이다.\n",
    "- \\n : 문자열 내 줄바꿈\n",
    "- \\t : 문자열 내에 탭 간격 주기\n",
    "- \\\\\\ : 문자 \\를 그대로 사용\n",
    "- \\\\' : 작은따옴표를 그대로 사용\n",
    "- \\\\\" : 큰따옴표를 그대로 사용"
   ]
  },
  {
   "cell_type": "code",
   "execution_count": 125,
   "metadata": {},
   "outputs": [],
   "source": [
    "a = \"關東 八百ᄇᆡᆨ 里에\\t方面을 맛디시니,\\t어와 聖恩이야\\t가디록 罔極ᄒᆞ다.\"\n",
    "b = \"computer\\\\cd desktop\\\\cd python\""
   ]
  },
  {
   "cell_type": "code",
   "execution_count": 126,
   "metadata": {},
   "outputs": [
    {
     "name": "stdout",
     "output_type": "stream",
     "text": [
      "關東 八百ᄇᆡᆨ 里에\t方面을 맛디시니,\t어와 聖恩이야\t가디록 罔極ᄒᆞ다.\n",
      "computer\\cd desktop\\cd python\n"
     ]
    }
   ],
   "source": [
    "print(a)\n",
    "print(b)"
   ]
  },
  {
   "cell_type": "markdown",
   "metadata": {},
   "source": [
    "## 2.4. 문자열 연산\n",
    "- 문자열을 더하거나 곱할 수 있다. (파이썬의 고유 특징!)\n",
    "- 문자열의 길이를 셀 수도 있다."
   ]
  },
  {
   "cell_type": "code",
   "execution_count": 127,
   "metadata": {},
   "outputs": [],
   "source": [
    "#문자열 덧셈\n",
    "a = \"당신은\"\n",
    "b1 = \" 파이썬\"\n",
    "b2 = \" 학부생\"\n",
    "b3 = \" 가짜\"\n",
    "c = \" 입니다.\""
   ]
  },
  {
   "cell_type": "code",
   "execution_count": 128,
   "metadata": {},
   "outputs": [
    {
     "name": "stdout",
     "output_type": "stream",
     "text": [
      "당신은 파이썬 입니다.\n",
      "당신은 학부생 입니다.\n",
      "당신은 가짜 학부생 입니다.\n"
     ]
    }
   ],
   "source": [
    "print(a+b1+c)\n",
    "print(a+b2+c)\n",
    "print(a+b3+b2+c)"
   ]
  },
  {
   "cell_type": "code",
   "execution_count": 129,
   "metadata": {},
   "outputs": [],
   "source": [
    "#문자열 곱셈\n",
    "a = \"싫어!\"\n",
    "b = \"All work and no play makes Jack a dull boy. \""
   ]
  },
  {
   "cell_type": "code",
   "execution_count": 130,
   "metadata": {},
   "outputs": [
    {
     "name": "stdout",
     "output_type": "stream",
     "text": [
      "싫어!싫어!싫어!싫어!\n",
      "All work and no play makes Jack a dull boy. All work and no play makes Jack a dull boy. All work and no play makes Jack a dull boy. All work and no play makes Jack a dull boy. All work and no play makes Jack a dull boy. All work and no play makes Jack a dull boy. All work and no play makes Jack a dull boy. All work and no play makes Jack a dull boy. All work and no play makes Jack a dull boy. All work and no play makes Jack a dull boy. All work and no play makes Jack a dull boy. All work and no play makes Jack a dull boy. All work and no play makes Jack a dull boy. All work and no play makes Jack a dull boy. All work and no play makes Jack a dull boy. All work and no play makes Jack a dull boy. All work and no play makes Jack a dull boy. All work and no play makes Jack a dull boy. All work and no play makes Jack a dull boy. All work and no play makes Jack a dull boy. All work and no play makes Jack a dull boy. All work and no play makes Jack a dull boy. All work and no play makes Jack a dull boy. All work and no play makes Jack a dull boy. All work and no play makes Jack a dull boy. All work and no play makes Jack a dull boy. All work and no play makes Jack a dull boy. All work and no play makes Jack a dull boy. All work and no play makes Jack a dull boy. All work and no play makes Jack a dull boy. \n"
     ]
    }
   ],
   "source": [
    "print(a*4)\n",
    "print(b*30)"
   ]
  },
  {
   "cell_type": "code",
   "execution_count": 131,
   "metadata": {},
   "outputs": [],
   "source": [
    "#문자열 길이 구하기\n",
    "b = \"All work and no play makes Jack a dull boy\"\n",
    "c = \"All work and no play makes Jack a dull boy.\"\n",
    "d = \"All work and no play makes Jack a dull boy. \""
   ]
  },
  {
   "cell_type": "code",
   "execution_count": 132,
   "metadata": {},
   "outputs": [
    {
     "data": {
      "text/plain": [
       "42"
      ]
     },
     "execution_count": 132,
     "metadata": {},
     "output_type": "execute_result"
    }
   ],
   "source": [
    "len(b)"
   ]
  },
  {
   "cell_type": "code",
   "execution_count": 133,
   "metadata": {},
   "outputs": [
    {
     "data": {
      "text/plain": [
       "43"
      ]
     },
     "execution_count": 133,
     "metadata": {},
     "output_type": "execute_result"
    }
   ],
   "source": [
    "len(c)"
   ]
  },
  {
   "cell_type": "code",
   "execution_count": 134,
   "metadata": {},
   "outputs": [
    {
     "data": {
      "text/plain": [
       "44"
      ]
     },
     "execution_count": 134,
     "metadata": {},
     "output_type": "execute_result"
    }
   ],
   "source": [
    "len(d)"
   ]
  },
  {
   "cell_type": "markdown",
   "metadata": {},
   "source": [
    "## 2.5. 오류 감지하기\n",
    "#### 파이썬 사용 중 다양한 이유로 오류 메세지가 발견될 수 있다.\n",
    "- SyntaxError: invalid syntax (구문 오류: 문법에 맞지 않다)\n",
    "- IndentationError: expected an indented block (들여쓰기 오류: 들여쓰기를 해야 한다)\n",
    "- NameError: name ‘a’ is not defined (이름 오류: 이름 ‘a’가 정의되지 않았다)\n",
    "- TypeError: unsupported operand type(s) for +: ‘a’ and ‘b’ (유형 오류: 연산자 +가 피연자 유형 ‘a’와 ‘b’를 지원하지 않는다)\n",
    "- ZeroDivisionError: division by zero (0으로 나눌 수 없다)\n",
    "- 그 외 다양한 오류들"
   ]
  },
  {
   "cell_type": "code",
   "execution_count": 135,
   "metadata": {},
   "outputs": [
    {
     "ename": "SyntaxError",
     "evalue": "EOL while scanning string literal (<ipython-input-135-c77b510e28d3>, line 1)",
     "output_type": "error",
     "traceback": [
      "\u001b[0;36m  File \u001b[0;32m\"<ipython-input-135-c77b510e28d3>\"\u001b[0;36m, line \u001b[0;32m1\u001b[0m\n\u001b[0;31m    a = \"hello'\u001b[0m\n\u001b[0m               ^\u001b[0m\n\u001b[0;31mSyntaxError\u001b[0m\u001b[0;31m:\u001b[0m EOL while scanning string literal\n"
     ]
    }
   ],
   "source": [
    "a = \"hello'"
   ]
  },
  {
   "cell_type": "code",
   "execution_count": 136,
   "metadata": {},
   "outputs": [
    {
     "ename": "NameError",
     "evalue": "name 'undefined' is not defined",
     "output_type": "error",
     "traceback": [
      "\u001b[0;31m---------------------------------------------------------------------------\u001b[0m",
      "\u001b[0;31mNameError\u001b[0m                                 Traceback (most recent call last)",
      "\u001b[0;32m<ipython-input-136-f0e82e429e07>\u001b[0m in \u001b[0;36m<module>\u001b[0;34m\u001b[0m\n\u001b[0;32m----> 1\u001b[0;31m \u001b[0mprint\u001b[0m\u001b[0;34m(\u001b[0m\u001b[0mundefined\u001b[0m\u001b[0;34m)\u001b[0m\u001b[0;34m\u001b[0m\u001b[0;34m\u001b[0m\u001b[0m\n\u001b[0m",
      "\u001b[0;31mNameError\u001b[0m: name 'undefined' is not defined"
     ]
    }
   ],
   "source": [
    "print(undefined)"
   ]
  },
  {
   "cell_type": "code",
   "execution_count": 137,
   "metadata": {},
   "outputs": [
    {
     "ename": "ZeroDivisionError",
     "evalue": "division by zero",
     "output_type": "error",
     "traceback": [
      "\u001b[0;31m---------------------------------------------------------------------------\u001b[0m",
      "\u001b[0;31mZeroDivisionError\u001b[0m                         Traceback (most recent call last)",
      "\u001b[0;32m<ipython-input-137-4bf1a7e4a751>\u001b[0m in \u001b[0;36m<module>\u001b[0;34m\u001b[0m\n\u001b[0;32m----> 1\u001b[0;31m \u001b[0mprint\u001b[0m\u001b[0;34m(\u001b[0m\u001b[0;36m4\u001b[0m\u001b[0;34m/\u001b[0m\u001b[0;36m0\u001b[0m\u001b[0;34m)\u001b[0m\u001b[0;34m\u001b[0m\u001b[0;34m\u001b[0m\u001b[0m\n\u001b[0m",
      "\u001b[0;31mZeroDivisionError\u001b[0m: division by zero"
     ]
    }
   ],
   "source": [
    "print(4/0)"
   ]
  }
 ],
 "metadata": {
  "kernelspec": {
   "display_name": "Python 3",
   "language": "python",
   "name": "python3"
  },
  "language_info": {
   "codemirror_mode": {
    "name": "ipython",
    "version": 3
   },
   "file_extension": ".py",
   "mimetype": "text/x-python",
   "name": "python",
   "nbconvert_exporter": "python",
   "pygments_lexer": "ipython3",
   "version": "3.7.3"
  }
 },
 "nbformat": 4,
 "nbformat_minor": 2
}
