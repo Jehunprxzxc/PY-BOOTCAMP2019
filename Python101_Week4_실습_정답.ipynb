{
 "cells": [
  {
   "cell_type": "markdown",
   "metadata": {},
   "source": [
    "# Week 4 실습"
   ]
  },
  {
   "cell_type": "markdown",
   "metadata": {},
   "source": [
    "1. 다음 리스트에서, '가짜피자4000'을 5번 출력하시오.\n",
    "\n",
    "pizza = [\"그냥피자\", \"야채피자\", \"불고기피자\",  \"방사능피자\", [1000,2000,3000,4000], \"가짜피자\"]"
   ]
  },
  {
   "cell_type": "code",
   "execution_count": 12,
   "metadata": {},
   "outputs": [
    {
     "name": "stdout",
     "output_type": "stream",
     "text": [
      "가짜피자4000가짜피자4000가짜피자4000가짜피자4000가짜피자4000\n"
     ]
    }
   ],
   "source": [
    "pizza = [\"그냥피자\", \"야채피자\", \"불고기피자\",  \"방사능피자\", [1000,2000,3000,4000], \"가짜피자\"]\n",
    "print(((pizza[5])+str(pizza[4][3]))*5)"
   ]
  },
  {
   "cell_type": "markdown",
   "metadata": {},
   "source": [
    " "
   ]
  },
  {
   "cell_type": "markdown",
   "metadata": {},
   "source": [
    "2. A대학교 철학과에는 다음과 같은 과목들이 있었다.\n",
    "\n",
    "철학개론, 서양철학사, 동양근세철학, 형이상학, 실존주의, 인식론\n",
    "\n",
    "A대학교에서는 이들 중 몇몇 과목이 취업에 도움이 되지 않는다고 생각하고, 아래와 같이 과목을 개편하고자 하였다.\n",
    "- (1) '동양근세철학'과 '형이상학'을 폐강\n",
    "- (2) '철학개론'을 '철학코딩'으로 명칭 변경\n",
    "- (3) '철학딥러닝'을 과목 리스트에 추가\n",
    "\n",
    "아래와 같이 과목 리스트를 개편하고 가나다 순으로 정리하여 출력하시오."
   ]
  },
  {
   "cell_type": "code",
   "execution_count": 16,
   "metadata": {},
   "outputs": [
    {
     "name": "stdout",
     "output_type": "stream",
     "text": [
      "['서양철학사', '실존주의', '인식론', '철학딥러닝', '철학코딩']\n"
     ]
    }
   ],
   "source": [
    "philosophy = ['철학개론', '서양철학사', '동양근세철학', '형이상학', '실존주의', '인식론']\n",
    "philosophy.remove('동양근세철학')\n",
    "philosophy.remove('형이상학')\n",
    "philosophy[0]='철학코딩'\n",
    "philosophy.append('철학딥러닝')\n",
    "philosophy.sort()\n",
    "print(philosophy)"
   ]
  },
  {
   "cell_type": "markdown",
   "metadata": {},
   "source": [
    " "
   ]
  },
  {
   "cell_type": "markdown",
   "metadata": {},
   "source": [
    "3. 요소가 '피자' 하나만 있는 튜플을 만들고, 이를 활용하여 '피자'를 6번 출력하시오."
   ]
  },
  {
   "cell_type": "code",
   "execution_count": 21,
   "metadata": {},
   "outputs": [
    {
     "name": "stdout",
     "output_type": "stream",
     "text": [
      "('피자', '피자', '피자', '피자', '피자', '피자')\n"
     ]
    }
   ],
   "source": [
    "tuple1 = \"피자\",\n",
    "print(tuple1*6)"
   ]
  },
  {
   "cell_type": "markdown",
   "metadata": {},
   "source": [
    " "
   ]
  },
  {
   "cell_type": "markdown",
   "metadata": {},
   "source": [
    "4. 다음은 B대학교의 학과와 해당 학과 신입생들의 수능 점수 백분위를 짝지어 나열한 것이다.\n",
    "\n",
    "의예과 : 99.9\n",
    "\n",
    "경영학과 : 96.2\n",
    "\n",
    "심리학과 : 92.1\n",
    "\n",
    "물리학과 : 88.5\n",
    "\n",
    "연극학과 : 32.0\n",
    "\n",
    "동양화과 : 0\n",
    "\n",
    "- (1) 해당 자료를 Dictionary 자료형으로 만들고,\n",
    "- (2) 평균 점수가 52.5점인 철학과를 딕셔너리에 추가하고,\n",
    "- (3) 경영학과의 자료를 삭제하고, (이까지는 출력할 필요 없음)\n",
    "- (4) 의예과와 심리학과의 수능 점수를 더한 값을 출력하시오.\n",
    "- (5) B대학교 학과의 리스트를 출력하시오. (dict_keys가 아닌 리스트 자료형으로 출력하시오)"
   ]
  },
  {
   "cell_type": "code",
   "execution_count": 20,
   "metadata": {},
   "outputs": [
    {
     "name": "stdout",
     "output_type": "stream",
     "text": [
      "192.0\n"
     ]
    },
    {
     "data": {
      "text/plain": [
       "['의예과', '심리학과', '물리학과', '연극학과', '동양화과', '철학과']"
      ]
     },
     "execution_count": 20,
     "metadata": {},
     "output_type": "execute_result"
    }
   ],
   "source": [
    "b = {'의예과':99.9, '경영학과':96.2, '심리학과':92.1, '물리학과':88.5, '연극학과':32.0, '동양화과':0}\n",
    "b['철학과']=52.5\n",
    "del b['경영학과']\n",
    "\n",
    "print(b['의예과']+b['심리학과'])\n",
    "list(b.keys())"
   ]
  },
  {
   "cell_type": "markdown",
   "metadata": {},
   "source": [
    " "
   ]
  },
  {
   "cell_type": "markdown",
   "metadata": {},
   "source": [
    "5. 다음은 C대학교 학생들의 진로 계획사항을 두가지 분류로 묶은 자료이다.\n",
    "\n",
    "재학생들이 희망하는 진로 상위 7개 : 건물주, 교수, 판사, 연구원, 우주비행사, 대통령, 로또당첨\n",
    "\n",
    "졸업생들의 실제 진로 상위 7개 : 백수, 컴퓨터, 알바, 연구원, 대통령, 철학자, 시인\n",
    "\n",
    "- (1) 재학생들이 희망하면서 졸업생들이 실제로 종사하는 진로의 집합을 출력하시오. (교집합)\n",
    "- (2) 리스트에 명시된 모든 진로를 한꺼번에 출력하시오. (합집합)\n",
    "- (3) 재학생들이 희망하지만 졸업생들의 실제 진로에는 없는 진로사항들을 출력하시오."
   ]
  },
  {
   "cell_type": "code",
   "execution_count": 37,
   "metadata": {},
   "outputs": [],
   "source": [
    "wish = set(['건물주','교수','판사','연구원','우주비행사','대통령','로또당첨'])\n",
    "real = set(['백수','컴퓨터','알바','연구원','대통령','철학자','시인'])"
   ]
  },
  {
   "cell_type": "code",
   "execution_count": 38,
   "metadata": {},
   "outputs": [
    {
     "name": "stdout",
     "output_type": "stream",
     "text": [
      "{'연구원', '대통령'}\n",
      "{'연구원', '대통령'}\n",
      "{'연구원', '교수', '대통령', '로또당첨', '시인', '백수', '알바', '컴퓨터', '철학자', '우주비행사', '판사', '건물주'}\n",
      "{'연구원', '교수', '대통령', '로또당첨', '시인', '백수', '알바', '컴퓨터', '철학자', '우주비행사', '판사', '건물주'}\n",
      "{'교수', '로또당첨', '우주비행사', '판사', '건물주'}\n",
      "{'교수', '로또당첨', '우주비행사', '판사', '건물주'}\n"
     ]
    },
    {
     "data": {
      "text/plain": [
       "(None, None)"
      ]
     },
     "execution_count": 38,
     "metadata": {},
     "output_type": "execute_result"
    }
   ],
   "source": [
    "print(wish & real), print(wish.intersection(real))\n",
    "print(wish | real), print(wish.union(real))\n",
    "print(wish - real), print(wish.difference(real))"
   ]
  }
 ],
 "metadata": {
  "kernelspec": {
   "display_name": "Python 3",
   "language": "python",
   "name": "python3"
  },
  "language_info": {
   "codemirror_mode": {
    "name": "ipython",
    "version": 3
   },
   "file_extension": ".py",
   "mimetype": "text/x-python",
   "name": "python",
   "nbconvert_exporter": "python",
   "pygments_lexer": "ipython3",
   "version": "3.7.3"
  }
 },
 "nbformat": 4,
 "nbformat_minor": 2
}
