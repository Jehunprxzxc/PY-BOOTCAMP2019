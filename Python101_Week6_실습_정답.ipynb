{
 "cells": [
  {
   "cell_type": "markdown",
   "metadata": {},
   "source": [
    "# Week 6 실습"
   ]
  },
  {
   "cell_type": "markdown",
   "metadata": {},
   "source": [
    "1. 다음 조건에 맞는 함수를 만들어 결과를 출력해보자.\n",
    "\n",
    "민수는 아아대학교 뇌인지과학과 박사과정에 입학할 것을 준비하고 있다. 뇌인지과학과의 교수님은 총 4명인데, 민수의 목표는 교수님들의 세부전공에는 관심이 없고 오로지 빨리 졸업하는 것이 목표이다. 민수는 최근 3년간 박사과정 졸업생이 박사학위 취득에 걸린 평균 년수를 랩실별로 비교해보고, 평균적으로 가장 빨리 졸업할 수 있는 랩실에 지원하고 싶다. 그리고 가장 졸업이 빠른 랩실의 평균 졸업 소요 시기가 5.5년보다 길다면 민수는 아아대학교 뇌인지과학과에 진학하지 않을 것이다.\n",
    "\n",
    "(1) 아래의 자료를 키워드 파라미터를 활용하여 딕셔너리로 만들고, 이를 활용하여 각 랩실의 평균 졸업 소요 시기를 구할 수 있는 함수를 만들어서 사칙연산을 할 줄 모르는 민수를 도와주자.\n",
    "\n",
    "(2) 전체 랩실 중 가장 평균적으로 졸업이 빠른 랩실의 이름을 구하고, 그 랩실에 진학하는 것을 추천하거나 추천하지 않는 함수를 만들어서 민수를 한 번 더 도와주자.\n",
    "\n",
    "*만들 수 있는 여러 함수들 중 최소 하나는 lambda를 써보자.\n",
    "\n",
    "- 김김김 교수님 : 3.5년, 7년, 8년\n",
    "\n",
    "- 김총장 교수님 : 4.5년, 5.5년, 6.5년, 11.5년\n",
    "\n",
    "- 김표절 교수님 : 4.5년, 6년, 6년, 6년, 6년, 7.5년\n",
    "\n",
    "- 김노예 교수님 : 5년, 5.5년, 5.5년, 6.5년\n",
    "\n",
    "참고로, 아직까지 배우지 않은 zip()함수와 min()함수를 쓰는 것이 간편하다.\n",
    "- zip함수는 두 개의 시퀀스형 자료형(리스트, 튜플 등)을 병렬적으로 추출해서 하나로 묶는 함수이다.\n",
    "- sum 함수는 시퀀스형 자료에 있는 값들을 자동으로 더해주는 함수이다.\n",
    "- min함수는 시퀀스형 자료형에 있는 자료 중 최소값을 자동으로 구해주는 함수이다."
   ]
  },
  {
   "cell_type": "code",
   "execution_count": 21,
   "metadata": {},
   "outputs": [
    {
     "name": "stdout",
     "output_type": "stream",
     "text": [
      "1 개미\n",
      "2 파이썬\n",
      "3 심리학\n",
      "4 교수님\n"
     ]
    }
   ],
   "source": [
    "#zip함수 예시\n",
    "\n",
    "list1 = [1, 2, 3, 4, 5]\n",
    "list2 = [\"개미\", \"파이썬\", \"심리학\", \"교수님\"]\n",
    "\n",
    "for x, y in zip(list1, list2):\n",
    "    print(x, y)"
   ]
  },
  {
   "cell_type": "code",
   "execution_count": 29,
   "metadata": {},
   "outputs": [
    {
     "name": "stdout",
     "output_type": "stream",
     "text": [
      "5\n"
     ]
    }
   ],
   "source": [
    "#min함수 예시\n",
    "\n",
    "list3 = [20, 5, 30, 7, 40, 50]\n",
    "print(min(list3))"
   ]
  },
  {
   "cell_type": "code",
   "execution_count": 32,
   "metadata": {},
   "outputs": [
    {
     "name": "stdout",
     "output_type": "stream",
     "text": [
      "165\n"
     ]
    }
   ],
   "source": [
    "#sum함수 예시\n",
    "\n",
    "list4 = [11, 22, 33, 44, 55]\n",
    "print(sum(list4))"
   ]
  },
  {
   "cell_type": "code",
   "execution_count": 22,
   "metadata": {},
   "outputs": [
    {
     "name": "stdout",
     "output_type": "stream",
     "text": [
      "{'김김김': [3.5, 7, 8], '김총장': [4.5, 5.5, 6.5, 11.5], '김표절': [4.5, 6, 6, 6, 7.5], '김노예': [5, 5.5, 5.5, 6.5]}\n"
     ]
    }
   ],
   "source": [
    "def dictmake(**kwargs):\n",
    "    return(kwargs)\n",
    "\n",
    "labdict = dictmake(김김김=[3.5, 7, 8], 김총장=[4.5, 5.5, 6.5, 11.5], 김표절=[4.5, 6, 6, 6, 7.5], 김노예=[5, 5.5, 5.5, 6.5])\n",
    "\n",
    "print(labdict)"
   ]
  },
  {
   "cell_type": "code",
   "execution_count": 33,
   "metadata": {},
   "outputs": [
    {
     "name": "stdout",
     "output_type": "stream",
     "text": [
      "김김김 교수님 랩실의 평균 졸업 소요기간은 6.166666666666667년입니다.\n",
      "김총장 교수님 랩실의 평균 졸업 소요기간은 7.0년입니다.\n",
      "김표절 교수님 랩실의 평균 졸업 소요기간은 6.0년입니다.\n",
      "김노예 교수님 랩실의 평균 졸업 소요기간은 5.625년입니다.\n"
     ]
    }
   ],
   "source": [
    "avg = lambda a: [sum(a[key])/len(a[key]) for key in a]\n",
    "\n",
    "def labgrad(b):\n",
    "    lablist = list(b.keys()) #[\"김김김\", \"김총장\", \"김표절\", \"김노예\"]  \n",
    "    for x, y in zip(lablist, avg(b)):\n",
    "        print(\"%s 교수님 랩실의 평균 졸업 소요기간은 %s년입니다.\" % (x, y))\n",
    "        \n",
    "labgrad(labdict)"
   ]
  },
  {
   "cell_type": "code",
   "execution_count": 27,
   "metadata": {},
   "outputs": [],
   "source": [
    "# avg함수를 만들 때, lambda와 sum이 익숙하지 않다면 조금 더 복잡하게 코드를 짜도 괜찮다.\n",
    "\n",
    "def average(a):\n",
    "    gradlist = list(a.values()) #[[3.5, 7, 8], [4.5, 5.5, 6.5, 11.5], [4.5, 6, 6, 6, 7.5], [5, 5.5, 5.5, 6.5]]\n",
    "    gradavlist = []\n",
    "    for grad in gradlist:\n",
    "        result = 0\n",
    "        for i in grad:\n",
    "            result += i\n",
    "        gradav = (result / len(grad))\n",
    "        gradavlist.append(gradav)\n",
    "    return (gradavlist)"
   ]
  },
  {
   "cell_type": "code",
   "execution_count": 20,
   "metadata": {},
   "outputs": [
    {
     "data": {
      "text/plain": [
       "'가장 졸업이 빠른 랩실은 김노예 교수님의 랩실입니다. 그래도 5년 반 안에 졸업 못하니까 때려치세요.'"
      ]
     },
     "execution_count": 20,
     "metadata": {},
     "output_type": "execute_result"
    }
   ],
   "source": [
    "def gotograd(c):\n",
    "    lablist = list(c.keys()) #[\"김김김\", \"김총장\", \"김표절\", \"김노예\"]  \n",
    "    for x, y in zip(lablist, average(c)):\n",
    "        if y != min(average(c)):\n",
    "            continue\n",
    "        if y <= 5.5:\n",
    "            y=x\n",
    "            return (\"가장 졸업이 빠른 랩실은 %s 교수님의 랩실입니다. 지금 당장 지원하세요.\" % y)\n",
    "        else :\n",
    "            y=x\n",
    "            return (\"가장 졸업이 빠른 랩실은 %s 교수님의 랩실입니다. 그래도 5년 반 안에 졸업 못하니까 때려치세요.\" % y)\n",
    "        \n",
    "gotograd(labdict)    "
   ]
  },
  {
   "cell_type": "markdown",
   "metadata": {},
   "source": [
    " "
   ]
  },
  {
   "cell_type": "markdown",
   "metadata": {},
   "source": [
    "2. 다음과 같은 조건을 갖춘 함수를 사용자 입력, 매개변수 초기값 설정, return문을 사용한 함수 빠져나가기, continue 등을 활용하여 만들어보자.\n",
    "\n",
    "철수는 버버대학교 심리학과 석사 1년차 학생이다. 철수는 교수님의 지시에 따라 아래와 같은 파이썬 함수를 만들어서 피험자들에게 실험을 안내하는 프로그램을 짜고자 한다.\n",
    "\n",
    "(1) 피험자의 이름, 나이, 실험집단/통제집단 여부를 입력하면, 피험자의 신상정보(이름, 나이, 집단이 포함된 문장)를 안내해주며 실험 참가에 동의하는지 묻는다.\n",
    "\n",
    "* 피험자 나이 입력 값이 20대(20~29)가 아닐 경우, 신상정보를 잘못 입력한 것이 아닌지 물은 후 잘못 입력했다고 대답하면 실험에 참가할 수 없다는 안내를 출력한다. 만약 신상정보를 잘못 입력했다고 응답한다면 다시 처음부터 신상정보를 묻는다.\n",
    "\n",
    "(2) 실험 참가에 동의했을 경우, 실험집단은 301호 실험실로, 통제집단은 302호 실험실로 입장하도록 안내한다.\n",
    "\n",
    "* 실험 참가에 동의하지 않을 경우, 실험에 참가할 수 없다는 안내가 출력된다.\n",
    "\n",
    "\n",
    "오늘 온 피험자는 총 5명이며, 그들의 신상정보는 아래와 같다. 이들의 신상정보를 각각 입력해보자.\n",
    "\n",
    "- 두두, 26세, 실험집단, 실험 참가 동의\n",
    "- 끼끼, 21세, 통제집단, 실험 참가 동의하지 않음\n",
    "- 민수, 30세, 실험집단, 실험 참가 동의\n",
    "- 천재, 25세, 통제집단, 실험 참가 동의\n",
    "- 고양이, 29세, 실험집단, 실험 참가 동의 (처음에 19세로 잘못 입력한다)"
   ]
  },
  {
   "cell_type": "code",
   "execution_count": 137,
   "metadata": {},
   "outputs": [
    {
     "name": "stdout",
     "output_type": "stream",
     "text": [
      "이름: 두두\n",
      "나이: 26\n",
      "실험집단입니까, 통제집단입니까? : 실험집단\n",
      "두두 (26세) 님은 실험집단입니다. 실험 참가에 동의하십니까? (예/아니오) : 예\n",
      "301호 실험실로 입장해주십시오.\n"
     ]
    }
   ],
   "source": [
    "def subject(name, age, exp=True):\n",
    "    if age<20 or age>=30:\n",
    "        return ''\n",
    "    elif exp:\n",
    "        return (\"%s (%s세) 님은 실험집단입니다. 실험 참가에 동의하십니까? (예/아니오) : \" %(name, age))\n",
    "    else:\n",
    "        return (\"%s (%s세) 님은 통제집단입니다. 실험 참가에 동의하십니까? (예/아니오) : \" %(name, age))\n",
    "    \n",
    "def truefalse(a):\n",
    "    if a == \"실험집단\":\n",
    "        return True\n",
    "    else:\n",
    "        return False\n",
    "\n",
    "while True:\n",
    "    name = input(\"이름: \")\n",
    "    age = int(input(\"나이: \"))\n",
    "    exp = bool(truefalse(input(\"실험집단입니까, 통제집단입니까? : \")))\n",
    "    ask = subject(name, age, exp)\n",
    "    if ask != '':\n",
    "        ask1 = input(ask) \n",
    "        if ask1 ==\"예\":\n",
    "            if exp == True:\n",
    "                print (\"301호 실험실로 입장해주십시오.\")\n",
    "                break\n",
    "            else:\n",
    "                print(\"302호 실험실로 입장해주십시오.\")\n",
    "                break\n",
    "        else:\n",
    "            print (\"실험에 참가할 수 없습니다.\")\n",
    "            break\n",
    "    else:\n",
    "        a = (\"참가할 수 없는 나이입니다. 혹시 정보를 잘못 입력하셨나요? (예/아니오): \")\n",
    "        b = input(a)\n",
    "        if b == \"아니오\":\n",
    "            print(\"연령 제한으로 실험에 참가할 수 없습니다.\")\n",
    "            break\n",
    "        else: continue"
   ]
  },
  {
   "cell_type": "code",
   "execution_count": 138,
   "metadata": {},
   "outputs": [
    {
     "name": "stdout",
     "output_type": "stream",
     "text": [
      "이름: 끼끼\n",
      "나이: 21\n",
      "실험집단입니까, 통제집단입니까? : 통제집단\n",
      "끼끼 (21세) 님은 통제집단입니다. 실험 참가에 동의하십니까? (예/아니오) : 아니오\n",
      "실험에 참가할 수 없습니다.\n"
     ]
    }
   ],
   "source": [
    "def subject(name, age, exp=True):\n",
    "    if age<20 or age>=30:\n",
    "        return ''\n",
    "    elif exp:\n",
    "        return (\"%s (%s세) 님은 실험집단입니다. 실험 참가에 동의하십니까? (예/아니오) : \" %(name, age))\n",
    "    else:\n",
    "        return (\"%s (%s세) 님은 통제집단입니다. 실험 참가에 동의하십니까? (예/아니오) : \" %(name, age))\n",
    "    \n",
    "def truefalse(a):\n",
    "    if a == \"실험집단\":\n",
    "        return True\n",
    "    else:\n",
    "        return False\n",
    "\n",
    "while True:\n",
    "    name = input(\"이름: \")\n",
    "    age = int(input(\"나이: \"))\n",
    "    exp = bool(truefalse(input(\"실험집단입니까, 통제집단입니까? : \")))\n",
    "    ask = subject(name, age, exp)\n",
    "    if ask != '':\n",
    "        ask1 = input(ask) \n",
    "        if ask1 ==\"예\":\n",
    "            if exp == True:\n",
    "                print (\"301호 실험실로 입장해주십시오.\")\n",
    "                break\n",
    "            else:\n",
    "                print(\"302호 실험실로 입장해주십시오.\")\n",
    "                break\n",
    "        else:\n",
    "            print (\"실험에 참가할 수 없습니다.\")\n",
    "            break\n",
    "    else:\n",
    "        a = (\"참가할 수 없는 나이입니다. 혹시 정보를 잘못 입력하셨나요? (예/아니오): \")\n",
    "        b = input(a)\n",
    "        if b == \"아니오\":\n",
    "            print(\"연령 제한으로 실험에 참가할 수 없습니다.\")\n",
    "            break\n",
    "        else: continue"
   ]
  },
  {
   "cell_type": "code",
   "execution_count": 139,
   "metadata": {},
   "outputs": [
    {
     "name": "stdout",
     "output_type": "stream",
     "text": [
      "이름: 민수\n",
      "나이: 30\n",
      "실험집단입니까, 통제집단입니까? : 실험집단\n",
      "참가할 수 없는 나이입니다. 혹시 정보를 잘못 입력하셨나요? (예/아니오): 아니오\n",
      "연령 제한으로 실험에 참가할 수 없습니다.\n"
     ]
    }
   ],
   "source": [
    "def subject(name, age, exp=True):\n",
    "    if age<20 or age>=30:\n",
    "        return ''\n",
    "    elif exp:\n",
    "        return (\"%s (%s세) 님은 실험집단입니다. 실험 참가에 동의하십니까? (예/아니오) : \" %(name, age))\n",
    "    else:\n",
    "        return (\"%s (%s세) 님은 통제집단입니다. 실험 참가에 동의하십니까? (예/아니오) : \" %(name, age))\n",
    "    \n",
    "def truefalse(a):\n",
    "    if a == \"실험집단\":\n",
    "        return True\n",
    "    else:\n",
    "        return False\n",
    "\n",
    "while True:\n",
    "    name = input(\"이름: \")\n",
    "    age = int(input(\"나이: \"))\n",
    "    exp = bool(truefalse(input(\"실험집단입니까, 통제집단입니까? : \")))\n",
    "    ask = subject(name, age, exp)\n",
    "    if ask != '':\n",
    "        ask1 = input(ask) \n",
    "        if ask1 ==\"예\":\n",
    "            if exp == True:\n",
    "                print (\"301호 실험실로 입장해주십시오.\")\n",
    "                break\n",
    "            else:\n",
    "                print(\"302호 실험실로 입장해주십시오.\")\n",
    "                break\n",
    "        else:\n",
    "            print (\"실험에 참가할 수 없습니다.\")\n",
    "            break\n",
    "    else:\n",
    "        a = (\"참가할 수 없는 나이입니다. 혹시 정보를 잘못 입력하셨나요? (예/아니오): \")\n",
    "        b = input(a)\n",
    "        if b == \"아니오\":\n",
    "            print(\"연령 제한으로 실험에 참가할 수 없습니다.\")\n",
    "            break\n",
    "        else: continue"
   ]
  },
  {
   "cell_type": "code",
   "execution_count": 140,
   "metadata": {},
   "outputs": [
    {
     "name": "stdout",
     "output_type": "stream",
     "text": [
      "이름: 천재\n",
      "나이: 25\n",
      "실험집단입니까, 통제집단입니까? : 통제집단\n",
      "천재 (25세) 님은 통제집단입니다. 실험 참가에 동의하십니까? (예/아니오) : 예\n",
      "302호 실험실로 입장해주십시오.\n"
     ]
    }
   ],
   "source": [
    "def subject(name, age, exp=True):\n",
    "    if age<20 or age>=30:\n",
    "        return ''\n",
    "    elif exp:\n",
    "        return (\"%s (%s세) 님은 실험집단입니다. 실험 참가에 동의하십니까? (예/아니오) : \" %(name, age))\n",
    "    else:\n",
    "        return (\"%s (%s세) 님은 통제집단입니다. 실험 참가에 동의하십니까? (예/아니오) : \" %(name, age))\n",
    "    \n",
    "def truefalse(a):\n",
    "    if a == \"실험집단\":\n",
    "        return True\n",
    "    else:\n",
    "        return False\n",
    "\n",
    "while True:\n",
    "    name = input(\"이름: \")\n",
    "    age = int(input(\"나이: \"))\n",
    "    exp = bool(truefalse(input(\"실험집단입니까, 통제집단입니까? : \")))\n",
    "    ask = subject(name, age, exp)\n",
    "    if ask != '':\n",
    "        ask1 = input(ask) \n",
    "        if ask1 ==\"예\":\n",
    "            if exp == True:\n",
    "                print (\"301호 실험실로 입장해주십시오.\")\n",
    "                break\n",
    "            else:\n",
    "                print(\"302호 실험실로 입장해주십시오.\")\n",
    "                break\n",
    "        else:\n",
    "            print (\"실험에 참가할 수 없습니다.\")\n",
    "            break\n",
    "    else:\n",
    "        a = (\"참가할 수 없는 나이입니다. 혹시 정보를 잘못 입력하셨나요? (예/아니오): \")\n",
    "        b = input(a)\n",
    "        if b == \"아니오\":\n",
    "            print(\"연령 제한으로 실험에 참가할 수 없습니다.\")\n",
    "            break\n",
    "        else: continue"
   ]
  },
  {
   "cell_type": "code",
   "execution_count": 141,
   "metadata": {},
   "outputs": [
    {
     "name": "stdout",
     "output_type": "stream",
     "text": [
      "이름: 고양이\n",
      "나이: 19\n",
      "실험집단입니까, 통제집단입니까? : 실험집단\n",
      "참가할 수 없는 나이입니다. 혹시 정보를 잘못 입력하셨나요? (예/아니오): 예\n",
      "이름: 고양이\n",
      "나이: 29\n",
      "실험집단입니까, 통제집단입니까? : 실험집단\n",
      "고양이 (29세) 님은 실험집단입니다. 실험 참가에 동의하십니까? (예/아니오) : 예\n",
      "301호 실험실로 입장해주십시오.\n"
     ]
    }
   ],
   "source": [
    "def subject(name, age, exp=True):\n",
    "    if age<20 or age>=30:\n",
    "        return ''\n",
    "    elif exp:\n",
    "        return (\"%s (%s세) 님은 실험집단입니다. 실험 참가에 동의하십니까? (예/아니오) : \" %(name, age))\n",
    "    else:\n",
    "        return (\"%s (%s세) 님은 통제집단입니다. 실험 참가에 동의하십니까? (예/아니오) : \" %(name, age))\n",
    "    \n",
    "def truefalse(a):\n",
    "    if a == \"실험집단\":\n",
    "        return True\n",
    "    else:\n",
    "        return False\n",
    "\n",
    "while True:\n",
    "    name = input(\"이름: \")\n",
    "    age = int(input(\"나이: \"))\n",
    "    exp = bool(truefalse(input(\"실험집단입니까, 통제집단입니까? : \")))\n",
    "    ask = subject(name, age, exp)\n",
    "    if ask != '':\n",
    "        ask1 = input(ask) \n",
    "        if ask1 ==\"예\":\n",
    "            if exp == True:\n",
    "                print (\"301호 실험실로 입장해주십시오.\")\n",
    "                break\n",
    "            else:\n",
    "                print(\"302호 실험실로 입장해주십시오.\")\n",
    "                break\n",
    "        else:\n",
    "            print (\"실험에 참가할 수 없습니다.\")\n",
    "            break\n",
    "    else:\n",
    "        a = (\"참가할 수 없는 나이입니다. 혹시 정보를 잘못 입력하셨나요? (예/아니오): \")\n",
    "        b = input(a)\n",
    "        if b == \"아니오\":\n",
    "            print(\"연령 제한으로 실험에 참가할 수 없습니다.\")\n",
    "            break\n",
    "        else: continue"
   ]
  },
  {
   "cell_type": "markdown",
   "metadata": {},
   "source": [
    " "
   ]
  },
  {
   "cell_type": "markdown",
   "metadata": {},
   "source": [
    "3. 지금까지 배운 모든 것들과 참고자료를 활용해서, 조건에 맞는 간단한 프로그램을 만들어보자.\n",
    "\n",
    "출근을 맞이하여 한가롭게 자리에 앉아 피자를 먹던 머머대학교 입학처 직원 두두는 학부 신입생 모집 요강에 따라서 아래와 같은 업무를 수행해달라는 지시를 받았다.\n",
    "\n",
    "(1) PY-BOOTCAMP/testfiles에 있는 apply_anth.txt와 apply_agrs.txt를 활용하여, 다음과 같은 사항을 담은 txt파일을 각 학과별로 PY-BOOTCAMP/testfiles/mmuni에 txt파일로 저장한다. 인류학과는 3명, 농업생명과학과는 5명을 선발한다.\n",
    "\n",
    "단, 업무를 처리하기 전 총장의 아들 '김총장아들'을 비리로 합격시켜야 하기 때문에, apply_anth.txt에는 없는 김총장아들이 인류학과에 수석 입학하도록 자료를 추가해서 조작하라.\n",
    "\n",
    "- 각 학과의 최종 경쟁률, 지원자 전체의 성적 평균, 합격자의 성적 평균, 성적 커트라인(합격자 중 최하점자의 성적) : 소수 셋째자리에서 반올림할 것\n",
    "- 각 학과의 수석 합격자, 합격자, 불합격자(성적 순에 따른 예비번호 포함)의 수험번호와 이름 명단\n",
    "\n",
    "(2) 수험생이 자신의 수험번호와 이름을 입력하면 합격 여부를 알려주는 프로그램을 만든다.\n",
    "- 수석 합격은 수석 합격임을 안내하고, 불합격자는 불합격 통보와 함께 예비번호를 안내하시오."
   ]
  },
  {
   "cell_type": "markdown",
   "metadata": {},
   "source": [
    "참고자료(1) : 머머대학교 입시요강\n",
    "\n",
    "아래는 머머대학교의 학부 신입생 일반전형 모집 요강이다.\n",
    "\n",
    "\n",
    "- 수능 성적 90%와 내신 성적 10%를 반영해서 최종 합격자를 선발한다. \n",
    "\n",
    "- 수능 점수는 국어, 영어, 수학 과목의 백분위 점수(100점 만점) 중 가장 성적이 나쁜 한 과목을 제외하고 평균점수 x를 낸 후, (x-지원자 중 최하점)/(지원자 중 최고점-지원자 중 최하점)x90을 반영한다. \n",
    "\n",
    "- 내신 점수는 10점 만점이고, 원점수 1.0~9.0 중 4.0 이상을 모두 만점처리하고, 5.0 이상은 9점, 6.0 이상은 8점, 7.0 이상은 7점, 8.0 이상은 5점, 그 이하는 0점을 반영한다.\n",
    "\n",
    "- 총합 점수는 만점을 100점으로 한다."
   ]
  },
  {
   "cell_type": "markdown",
   "metadata": {},
   "source": [
    "참고자료 (2) : \n",
    "- 성적순으로 배열된, [수험번호, 이름, 성적] 요소를 가지는 리스트를 만들어주는 함수를 먼저 만들어보자.\n",
    "- 그 후, 함수의 결과값을 활용하여 (1) 저장할 txt파일을 만드는 데 도움을 주는 함수 (2) 합격창 조회를 만드는 함수를 각각 만들어보자.\n",
    "- str을 각 줄을 기준으로 split하고 싶을 때는 a.splitlines() 함수를 사용하자.\n",
    "- 숫자 a를 소수 n+1째자리 수에서 반올림하고 싶으면 round(a, n) 함수를 사용하자.\n",
    "- 위에서 배운 zip()함수를 적극 활용해보자."
   ]
  },
  {
   "cell_type": "code",
   "execution_count": 108,
   "metadata": {},
   "outputs": [
    {
     "name": "stdout",
     "output_type": "stream",
     "text": [
      "anth01 김김김 90 13 87 5.0\n",
      "\n",
      "anth02 이명박 33 48 25 1.2\n",
      "\n",
      "anth03 피자 100 99 72 8.3\n",
      "\n",
      "anth04 탕수육 99 54 2 2.6\n",
      "\n",
      "anth05 이이 55 93 27 4.3\n",
      "\n",
      "anth06 두두두 82 77 34 4.9\n",
      "\n",
      "anth07 안녕 63 69 72 2.2\n",
      "\n",
      "anth08 컴퓨터 99 88 66 9\n"
     ]
    }
   ],
   "source": [
    "#인류학과 자료불러오기\n",
    "\n",
    "f = open(\"/Users/jehunprxzxc/Desktop/PY-BOOTCAMP2019/testfiles/apply_anth.txt\", \"r\")\n",
    "while True:\n",
    "    line = f.readline()\n",
    "    if not line: break\n",
    "    print(line)\n",
    "f.close()"
   ]
  },
  {
   "cell_type": "code",
   "execution_count": 109,
   "metadata": {},
   "outputs": [
    {
     "name": "stdout",
     "output_type": "stream",
     "text": [
      "anth01 김김김 90 13 87 5.0\n",
      "\n",
      "anth02 이명박 33 48 25 1.2\n",
      "\n",
      "anth03 피자 100 99 72 8.3\n",
      "\n",
      "anth04 탕수육 99 54 2 2.6\n",
      "\n",
      "anth05 이이 55 93 27 4.3\n",
      "\n",
      "anth06 두두두 82 77 34 4.9\n",
      "\n",
      "anth07 안녕 63 69 72 2.2\n",
      "\n",
      "anth08 컴퓨터 99 88 66 9\n",
      "\n",
      "anth09 김총장아들 100 100 100 1\n"
     ]
    }
   ],
   "source": [
    "#김총장아들 성적 추가하기\n",
    "\n",
    "with open(\"/Users/jehunprxzxc/Desktop/PY-BOOTCAMP2019/testfiles/apply_anth.txt\", \"a\") as f:\n",
    "    biri = str(\"\\nanth09 김총장아들 100 100 100 1\")\n",
    "    f.write(biri)\n",
    "\n",
    "\n",
    "f = open(\"/Users/jehunprxzxc/Desktop/PY-BOOTCAMP2019/testfiles/apply_anth.txt\", \"r\")\n",
    "lines = f.readlines()\n",
    "for line in lines:\n",
    "    print(line)\n",
    "f.close()"
   ]
  },
  {
   "cell_type": "code",
   "execution_count": 110,
   "metadata": {},
   "outputs": [
    {
     "name": "stdout",
     "output_type": "stream",
     "text": [
      "[['anth09', '김총장아들', 100.0], ['anth03', '피자', 89.2436974789916], ['anth01', '김김김', 81.60504201680672], ['anth08', '컴퓨터', 80.16806722689076], ['anth06', '두두두', 67.99159663865547], ['anth04', '탕수육', 64.45378151260505], ['anth05', '이이', 59.67226890756302], ['anth07', '안녕', 55.3781512605042], ['anth02', '이명박', 10.0]]\n"
     ]
    }
   ],
   "source": [
    "#성적순으로 배열된, [수험번호, 이름, 성적] 요소를 가지는 리스트를 만들어주는 listmake()함수 만들기\n",
    "\n",
    "\n",
    "with open(\"/Users/jehunprxzxc/Desktop/PY-BOOTCAMP2019/testfiles/apply_anth.txt\", \"r\") as f:\n",
    "    data = f.read()\n",
    "\n",
    "def listmake(data):\n",
    "    \n",
    "    data2 = data.splitlines() #개인별 자료를 요소값으로 가지는 하위 리스트들을 요소로 가지는 리스트 만들기\n",
    "    data3 =[]\n",
    "    for i in data2:\n",
    "        data3.append(i.split())\n",
    "        \n",
    "    applynumber = [] #수험번호 리스트 만들기\n",
    "    for i in data3:\n",
    "        applynumber.append(i[0])\n",
    "    \n",
    "    name = [] #이름 리스트 만들기\n",
    "    for i in data3:\n",
    "        name.append(i[1])    \n",
    "\n",
    "    soograde1 = [] #수능성적 자료로 산출한 값(전체 반영의 90%)을 따로 모으기\n",
    "    for i in data3:\n",
    "        a= (i[2:5])\n",
    "        for e in a:\n",
    "            g = float(e)\n",
    "            soograde1.append(g)\n",
    "            \n",
    "    soograde2 = []\n",
    "    while True:\n",
    "        a = soograde1[0:3]\n",
    "        soograde2.append(a)\n",
    "        del soograde1[0:3]\n",
    "        if soograde1 == []:\n",
    "            break\n",
    "            \n",
    "    soograde3 = [] #soograde3에 수능성적 산출값이 저장되었음\n",
    "    for grades in soograde2:\n",
    "        grade1 = ((sum(grades)-min(grades))/2)\n",
    "        soograde3.append(grade1)\n",
    "        \n",
    "    soograde4 = []\n",
    "    for grd in soograde3:\n",
    "        grd = (grd-min(soograde3))/(max(soograde3)-min(soograde3))*90\n",
    "        soograde4.append(grd)\n",
    "        \n",
    "    naegrade1 = [] #내신성적 원본 리스트 만들기\n",
    "    for i in data3:\n",
    "        naegrade1.append(float(i[5]))\n",
    "        \n",
    "    naegrade2 = [] #내신성적 산출값(전체 반영의 10%) 변환해서 따로 모으기\n",
    "    for i in naegrade1:\n",
    "        if i <= 4.0:\n",
    "            naegrade2.append(10)\n",
    "        elif i <=5.0:\n",
    "            naegrade2.append(9)\n",
    "        elif i <=6.0:\n",
    "            naegrade2.append(8)\n",
    "        elif i <= 7.0:\n",
    "            naegrade2.append(7)\n",
    "        elif i <= 8.0:\n",
    "            naegrade2.append(5)\n",
    "        else:\n",
    "            naegrade2.append(0)\n",
    "            \n",
    "    grade = [] #수능성적과 내신성적 합쳐서 합격자 결정에 사용되는 평가값 리스트 만들기\n",
    "    for x, y in zip(soograde4, naegrade2):\n",
    "        grade.append(x+y)\n",
    "        \n",
    "    applylist = [] #[수험번호, 이름, 성적]의 요소를 구성된 리스트를 만들기\n",
    "    for x, y, z in zip(applynumber, name, grade):\n",
    "        applylist.append([x, y, z])\n",
    "    \n",
    "    applylist.sort(key = lambda x: x[2]) #리스트 구성요소의 순서를 높은 성적에서 낮은 성적으로 정렬하기\n",
    "    applylist.reverse()\n",
    "    return applylist\n",
    "\n",
    "\n",
    "listmake(data)\n",
    "anthdata = listmake(data)\n",
    "print(anthdata)"
   ]
  },
  {
   "cell_type": "code",
   "execution_count": 111,
   "metadata": {},
   "outputs": [
    {
     "name": "stdout",
     "output_type": "stream",
     "text": [
      "[최종 경쟁률] 3.0 : 1\n",
      "지원자 평균 성적 : 67.61, 합격자 평균 성적 : 90.28, 커트라인 : 81.61\n",
      "\n",
      "합격자 명단\n",
      "anth09 김총장아들 (수석합격)\n",
      "anth03 피자\n",
      "anth01 김김김\n",
      "\n",
      "불합격자 명단\n",
      "anth08 컴퓨터 (예비 1번)\n",
      "anth06 두두두 (예비 2번)\n",
      "anth04 탕수육 (예비 3번)\n",
      "anth05 이이 (예비 4번)\n",
      "anth07 안녕 (예비 5번)\n",
      "anth02 이명박 (예비 6번)\n"
     ]
    }
   ],
   "source": [
    "#listmake() 함수의 리턴값을 바탕으로 txt파일에 들어갈 내용을 만들어주는 filewrite()함수 만들어주고 기존 함수와 합쳐주기\n",
    "#최종 경쟁률, 지원자 평균 성적, 합격자 평균 성적, 커트라인\n",
    "#수석 합격자, 합격자, 불합격자(예비번호)\n",
    "\n",
    "global success\n",
    "success = 3\n",
    "\n",
    "def filewrite(a):\n",
    "    finalresult = []\n",
    "    finalresult.append(\"[최종 경쟁률] %s : 1\\n\" % (len(a)/success))\n",
    "    avg_grade = []\n",
    "    avg_success = []\n",
    "    listlist = []\n",
    "    for applicant in a:\n",
    "        avg_grade.append(applicant[2])\n",
    "        if len(avg_grade) <= success:\n",
    "            avg_success.append(applicant[2])\n",
    "        p = round((sum(avg_grade)/len(a)), 2)\n",
    "        q = round((sum(avg_success)/success), 2)\n",
    "        r = round(avg_success[-1], 2)\n",
    "    finalresult.append(\"지원자 평균 성적 : {0}, 합격자 평균 성적 : {1}, 커트라인 : {2}\\n\" .format(p,q,r))\n",
    "    finalresult.append(\"\\n합격자 명단\")\n",
    "    yebi = (-success)\n",
    "    for applicant in a:\n",
    "        yebi +=1\n",
    "        while True:\n",
    "            listlist.append(applicant)\n",
    "            if len(listlist) <= 1:\n",
    "                finalresult.append(\"\\n{0} {1} (수석합격)\".format(applicant[0], applicant[1]))\n",
    "            elif len(listlist) <= success:\n",
    "                finalresult.append(\"\\n{0} {1}\".format(applicant[0], applicant[1]))\n",
    "                if len(listlist) == success:\n",
    "                    finalresult.append(\"\\n\\n불합격자 명단\")\n",
    "            else:\n",
    "                finalresult.append(\"\\n%s %s (예비 %s번)\" % (applicant[0], applicant[1], yebi))\n",
    "            break\n",
    "    rr = ''\n",
    "    for i in finalresult:\n",
    "        rr = rr + i\n",
    "    return (rr)\n",
    "\n",
    "            \n",
    "def ipsi_result(a): #함수 합쳐주기\n",
    "    return filewrite(listmake(a))\n",
    "\n",
    "ipsi_result(data)\n",
    "print(ipsi_result(data))"
   ]
  },
  {
   "cell_type": "code",
   "execution_count": 112,
   "metadata": {},
   "outputs": [],
   "source": [
    "#앞에서 만든 함수를 활용하여 txt파일 저장해보기\n",
    "\n",
    "with open(\"/Users/jehunprxzxc/Desktop/PY-BOOTCAMP2019/testfiles/mmuni/result_anth.txt\", \"w\") as f:\n",
    "    f.write(ipsi_result(data))"
   ]
  },
  {
   "cell_type": "code",
   "execution_count": 113,
   "metadata": {},
   "outputs": [
    {
     "name": "stdout",
     "output_type": "stream",
     "text": [
      "[최종 경쟁률] 3.0 : 1\n",
      "지원자 평균 성적 : 67.61, 합격자 평균 성적 : 90.28, 커트라인 : 81.61\n",
      "\n",
      "합격자 명단\n",
      "anth09 김총장아들 (수석합격)\n",
      "anth03 피자\n",
      "anth01 김김김\n",
      "\n",
      "불합격자 명단\n",
      "anth08 컴퓨터 (예비 1번)\n",
      "anth06 두두두 (예비 2번)\n",
      "anth04 탕수육 (예비 3번)\n",
      "anth05 이이 (예비 4번)\n",
      "anth07 안녕 (예비 5번)\n",
      "anth02 이명박 (예비 6번)\n"
     ]
    }
   ],
   "source": [
    "#txt파일 결과 확인하기\n",
    "with open(\"/Users/jehunprxzxc/Desktop/PY-BOOTCAMP2019/testfiles/mmuni/result_anth.txt\", \"r\") as f:\n",
    "    check = f.read()\n",
    "    print(check)"
   ]
  },
  {
   "cell_type": "code",
   "execution_count": 114,
   "metadata": {},
   "outputs": [
    {
     "name": "stdout",
     "output_type": "stream",
     "text": [
      "agrs01 한량 97 83 45 5.4\n",
      "agrs02 파이썬 77 67 80 3.9\n",
      "agrs03 치킨 36 15 44 7.2\n",
      "agrs04 심리학자 89 20 15 6.9\n",
      "agrs05 재수생 11 3 24 4.6\n",
      "agrs06 우우우 60 57 30 5.8\n",
      "agrs07 삼수생 34 70 50 5.3\n",
      "agrs08 글로벌 44 28 36 6.2\n",
      "agrs09 교수님 63 20 30 1\n",
      "agrs10 경찰아저씨 15 12 59 3.2\n",
      "agrs11 도둑놈 97 25 39 8.7\n",
      "agrs12 미미 4 99 6 6.1\n"
     ]
    }
   ],
   "source": [
    "#인류학과 다했으면 농업생명과학과 자료를 기존에 만들어둔 함수에 집어넣어서 txt파일로 결과를 저장해보자!\n",
    "\n",
    "success = 5\n",
    "with open(\"/Users/jehunprxzxc/Desktop/PY-BOOTCAMP2019/testfiles/apply_agrs.txt\", \"r\") as f:\n",
    "    what = f.read()\n",
    "    print(what)"
   ]
  },
  {
   "cell_type": "code",
   "execution_count": 115,
   "metadata": {},
   "outputs": [
    {
     "name": "stdout",
     "output_type": "stream",
     "text": [
      "[최종 경쟁률] 2.4 : 1\n",
      "지원자 평균 성적 : 52.21, 합격자 평균 성적 : 73.21, 커트라인 : 58.9\n",
      "\n",
      "합격자 명단\n",
      "agrs01 한량 (수석합격)\n",
      "agrs02 파이썬\n",
      "agrs11 도둑놈\n",
      "agrs07 삼수생\n",
      "agrs06 우우우\n",
      "\n",
      "불합격자 명단\n",
      "agrs04 심리학자 (예비 1번)\n",
      "agrs12 미미 (예비 2번)\n",
      "agrs09 교수님 (예비 3번)\n",
      "agrs08 글로벌 (예비 4번)\n",
      "agrs10 경찰아저씨 (예비 5번)\n",
      "agrs03 치킨 (예비 6번)\n",
      "agrs05 재수생 (예비 7번)\n"
     ]
    }
   ],
   "source": [
    "print(ipsi_result(what))"
   ]
  },
  {
   "cell_type": "code",
   "execution_count": 116,
   "metadata": {},
   "outputs": [],
   "source": [
    "with open(\"/Users/jehunprxzxc/Desktop/PY-BOOTCAMP2019/testfiles/mmuni/result_agrs.txt\", \"w\") as f:\n",
    "    f.write(ipsi_result(what))"
   ]
  },
  {
   "cell_type": "code",
   "execution_count": 117,
   "metadata": {},
   "outputs": [
    {
     "name": "stdout",
     "output_type": "stream",
     "text": [
      "[최종 경쟁률] 2.4 : 1\n",
      "지원자 평균 성적 : 52.21, 합격자 평균 성적 : 73.21, 커트라인 : 58.9\n",
      "\n",
      "합격자 명단\n",
      "agrs01 한량 (수석합격)\n",
      "agrs02 파이썬\n",
      "agrs11 도둑놈\n",
      "agrs07 삼수생\n",
      "agrs06 우우우\n",
      "\n",
      "불합격자 명단\n",
      "agrs04 심리학자 (예비 1번)\n",
      "agrs12 미미 (예비 2번)\n",
      "agrs09 교수님 (예비 3번)\n",
      "agrs08 글로벌 (예비 4번)\n",
      "agrs10 경찰아저씨 (예비 5번)\n",
      "agrs03 치킨 (예비 6번)\n",
      "agrs05 재수생 (예비 7번)\n"
     ]
    }
   ],
   "source": [
    "#txt파일 결과 확인하기\n",
    "with open(\"/Users/jehunprxzxc/Desktop/PY-BOOTCAMP2019/testfiles/mmuni/result_agrs.txt\", \"r\") as f:\n",
    "    checkit = f.read()\n",
    "    print(checkit)"
   ]
  },
  {
   "cell_type": "code",
   "execution_count": 118,
   "metadata": {},
   "outputs": [
    {
     "name": "stdout",
     "output_type": "stream",
     "text": [
      "이름 : 도둑놈\n",
      "수험번호: agrs11\n",
      "축하합니다. 도둑놈 님 (agrs11) 은 머머대학교 농생명과학과 일반전형에 합격하셨습니다.\n"
     ]
    }
   ],
   "source": [
    "#합격창 만들고 잘 작동하는지 확인해보기\n",
    "\n",
    "namename = input(\"이름 : \")\n",
    "numnum = input(\"수험번호: \")\n",
    "\n",
    "checklist = []\n",
    "for ad in anthdata:\n",
    "    checklist.append(ad[0:2])\n",
    "\n",
    "agrsdata = listmake(what)\n",
    "checklist1 = []\n",
    "for ag in agrsdata:\n",
    "    checklist1.append(ag[0:2])\n",
    "\n",
    "if checklist.count([numnum,namename]) >= 1:\n",
    "    if [numnum, namename] == checklist[0]:\n",
    "        print(\"축하합니다. %s 님 (%s) 은 머머대학교 인류학과 일반전형에 수석 합격하셨습니다.\" % (namename, numnum))\n",
    "    elif checklist[1:3].count([numnum, namename]) >=1:\n",
    "        print(\"축하합니다. %s 님 (%s) 은 머머대학교 인류학과 일반전형에 합격하셨습니다.\" % (namename, numnum))\n",
    "    else:\n",
    "        print(\"%s 님 (%s) 은 머머대학교 인류학과 일반전형에 불합격하셨습니다. 예비번호는 %s번 입니다.\" %(namename, numnum, ((checklist.index([numnum, namename])-2))))\n",
    "elif checklist1.count([numnum,namename]) >= 1:\n",
    "    if [numnum, namename] == checklist1[0]:\n",
    "        print(\"축하합니다. %s 님 (%s) 은 머머대학교 농생명과학과 일반전형에 수석 합격하셨습니다.\" % (namename, numnum))\n",
    "    elif checklist1[1:5].count([numnum, namename]) >=1:\n",
    "        print(\"축하합니다. %s 님 (%s) 은 머머대학교 농생명과학과 일반전형에 합격하셨습니다.\" % (namename, numnum))\n",
    "    else:\n",
    "        print(\"%s 님 (%s) 은 머머대학교 농생명과학과 일반전형에 불합격하셨습니다. 예비번호는 %s번 입니다.\" %(namename, numnum, ((checklist1.index([numnum, namename])-4))))\n",
    "        \n",
    "else:\n",
    "    print(\"지원자 정보를 잘못 입력하셨습니다.\")"
   ]
  },
  {
   "cell_type": "code",
   "execution_count": null,
   "metadata": {},
   "outputs": [],
   "source": []
  }
 ],
 "metadata": {
  "kernelspec": {
   "display_name": "Python 3",
   "language": "python",
   "name": "python3"
  },
  "language_info": {
   "codemirror_mode": {
    "name": "ipython",
    "version": 3
   },
   "file_extension": ".py",
   "mimetype": "text/x-python",
   "name": "python",
   "nbconvert_exporter": "python",
   "pygments_lexer": "ipython3",
   "version": "3.7.3"
  }
 },
 "nbformat": 4,
 "nbformat_minor": 2
}
