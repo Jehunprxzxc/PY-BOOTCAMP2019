{
 "cells": [
  {
   "cell_type": "markdown",
   "metadata": {},
   "source": [
    "# Week 6-1 : Functions"
   ]
  },
  {
   "cell_type": "markdown",
   "metadata": {},
   "source": [
    "### 2019 Summer \n",
    "### Human Factors Psychology Lab, SNU\n",
    "### Jehun Hong"
   ]
  },
  {
   "cell_type": "markdown",
   "metadata": {},
   "source": [
    " "
   ]
  },
  {
   "cell_type": "markdown",
   "metadata": {},
   "source": [
    "# 1. Function (함수)\n",
    "- 중고등학교에서 지겹게 배운 '함수'라는 개념에 대해 생각하자. \n",
    "- 함수는 '입력값을 가지고 어떤 일을 수행한 다음에 그 결과물을 내어놓는 것'이라고 생각하면 된다.\n",
    "- 컴퓨터로 정보를 처리할 때, 반복적으로 어떤 일을 번거롭게 처리하는 경우가 많다. \n",
    "- 이 때 함수를 통해 '일의 처리 단위'를 묶어주면, 일을 훨씬 빠르고 편하게 처리할 수 있다!\n",
    "- 우리는 이미 많은 파이썬 함수들을 알고 있다."
   ]
  },
  {
   "cell_type": "markdown",
   "metadata": {},
   "source": [
    "## 1.1. 파이썬 함수의 구조\n",
    "\n",
    "def 함수명(매개변수) :\n",
    "\n",
    "    <수행할 문장1>\n",
    "    \n",
    "    <수행할 문장2>\n",
    "    \n",
    "    ...\n",
    "    \n",
    "- def는 함수를 만들때 사용하는 예약어이므로 바꿀 수 없다.\n",
    "- 함수 이름은 함수를 만드는 사람이 임의로 정할 수 있다."
   ]
  },
  {
   "cell_type": "code",
   "execution_count": 7,
   "metadata": {},
   "outputs": [],
   "source": [
    "def add(a, b):\n",
    "    return a+b\n",
    "\n",
    "def set_menu(pizza, pasta):\n",
    "    return \"{0}랑 {1} 세트로 주세요\".format(pizza,pasta)"
   ]
  },
  {
   "cell_type": "markdown",
   "metadata": {},
   "source": [
    " "
   ]
  },
  {
   "cell_type": "code",
   "execution_count": 10,
   "metadata": {},
   "outputs": [
    {
     "name": "stdout",
     "output_type": "stream",
     "text": [
      "5\n",
      "하와이안피자랑 K-김치파스타 세트로 주세요\n"
     ]
    }
   ],
   "source": [
    "a = 1\n",
    "b = 4\n",
    "c = add(a,b)\n",
    "print(c)\n",
    "\n",
    "pizza = \"하와이안피자\"\n",
    "pasta = \"K-김치파스타\"\n",
    "d = set_menu(pizza,pasta)\n",
    "print(d)"
   ]
  },
  {
   "cell_type": "code",
   "execution_count": 12,
   "metadata": {},
   "outputs": [
    {
     "name": "stdout",
     "output_type": "stream",
     "text": [
      "하와이안피자K-김치파스타\n",
      "1랑 4 세트로 주세요\n"
     ]
    }
   ],
   "source": [
    "e=add(pizza,pasta)\n",
    "print(e)\n",
    "\n",
    "f=set_menu(a,b)\n",
    "print(f)"
   ]
  },
  {
   "cell_type": "markdown",
   "metadata": {},
   "source": [
    "## 1.2. 매개변수와 인수\n",
    "- 매개변수 : 함수에 입력된 값으로 전달된 값을 받는 변수\n",
    "- 인수 : 함수를 호출할 때 전달하는 입력값"
   ]
  },
  {
   "cell_type": "code",
   "execution_count": 4,
   "metadata": {},
   "outputs": [
    {
     "name": "stdout",
     "output_type": "stream",
     "text": [
      "22\n",
      "건물주될거야\n"
     ]
    }
   ],
   "source": [
    "def add(a,b): #a, b는 매개변수\n",
    "    return a+b\n",
    "\n",
    "print(add(10, 12)) #10, 12는 인수\n",
    "print(add(\"건물주\",\"될거야\")) #두 문자형 자료는 인수"
   ]
  },
  {
   "cell_type": "markdown",
   "metadata": {},
   "source": [
    "## 1.3. 입력값과 결과값에 따른 함수의 유형\n",
    "- 기본 구조는 [입력값 -> 함수 -> 결과값] 이다.\n",
    "- 입력값과 결과값의 존재 유무에 따라 함수의 유형은 4가지로 나뉜다."
   ]
  },
  {
   "cell_type": "markdown",
   "metadata": {},
   "source": [
    "### 1.3.1. 일반적인 함수\n",
    "- 입력값과 결과값이 모두 있는 함수이다."
   ]
  },
  {
   "cell_type": "code",
   "execution_count": 1,
   "metadata": {},
   "outputs": [
    {
     "name": "stdout",
     "output_type": "stream",
     "text": [
      "피자피자피자피자피자피자피자피자피자피자피자피자피자피자피자피자피자피자피자피자피자피자피자피자피자피자피자피자피자피자피자피자피자피자피자피자피자피자피자피자\n"
     ]
    }
   ],
   "source": [
    "#일반적인 함수 예시\n",
    "\n",
    "def multiply(a, b): #입력값\n",
    "    result = a*b\n",
    "    return result #결과값\n",
    "\n",
    "m = multiply(\"피자\",40)\n",
    "print(m)"
   ]
  },
  {
   "cell_type": "markdown",
   "metadata": {},
   "source": [
    "### 1.3.2. 입력값이 없는 함수\n",
    "- 입력값이 없는 함수는 [결과값을 받을 함수 = 함수이름()] 형태로 사용된다."
   ]
  },
  {
   "cell_type": "code",
   "execution_count": 2,
   "metadata": {},
   "outputs": [
    {
     "name": "stdout",
     "output_type": "stream",
     "text": [
      "아아아어으어아아어\n"
     ]
    }
   ],
   "source": [
    "#입력값이 없는 함수 예시\n",
    "\n",
    "def 아무말():#입력값이 없음\n",
    "    return \"아아아어으어아아어\"\n",
    "\n",
    "k=아무말()\n",
    "print(k)"
   ]
  },
  {
   "cell_type": "markdown",
   "metadata": {},
   "source": [
    "### 1.3.3. 결과값이 없는 함수\n",
    "- 결과값이 없는 함수는 [함수이름(입력인수)] 형태로 사용된다. 이 함수엔는 result와 return 값이 없다."
   ]
  },
  {
   "cell_type": "code",
   "execution_count": 7,
   "metadata": {},
   "outputs": [
    {
     "name": "stdout",
     "output_type": "stream",
     "text": [
      "된장찌개와 치즈피자를 같이 요리하면 된장찌개치즈피자가 됩니다.\n",
      "까르보나라와 모듬물회를 같이 요리하면 까르보나라모듬물회가 됩니다.\n",
      "컴퓨터와 찌개를 같이 요리하면 컴퓨터찌개가 됩니다.\n"
     ]
    }
   ],
   "source": [
    "#결과값이 없는 함수 예시\n",
    "\n",
    "def cooking(a, b):\n",
    "    print(\"%s와 %s를 같이 요리하면 %s가 됩니다.\" %(a, b, a+b))\n",
    "    \n",
    "cooking(\"된장찌개\", \"치즈피자\")\n",
    "cooking(\"까르보나라\", \"모듬물회\")\n",
    "cooking(\"컴퓨터\", \"찌개\")"
   ]
  },
  {
   "cell_type": "markdown",
   "metadata": {},
   "source": [
    "### 1.3.4. 입력값도 결과값도 없는 함수\n",
    "- 놀랍게도 입력값과 결과값이 모두 없는 함수도 존재한다.\n",
    "- 이 친구는 [함수이름()] 형태이다."
   ]
  },
  {
   "cell_type": "code",
   "execution_count": 10,
   "metadata": {},
   "outputs": [
    {
     "name": "stdout",
     "output_type": "stream",
     "text": [
      "Nothing is real\n",
      "Nothing is real\n"
     ]
    }
   ],
   "source": [
    "#입력값과 결과값이 없는 함수 예시\n",
    "\n",
    "def futile():\n",
    "    print(\"Nothing is real\")\n",
    "    \n",
    "futile()\n",
    "futile()"
   ]
  },
  {
   "cell_type": "markdown",
   "metadata": {},
   "source": [
    "## 1.4. 매개변수 지정하여 호출하기\n",
    "- 함수를 호출할 때 매개변수를 지정할 수 있다.\n",
    "- 매개변수를 지정하면 변수의 순서에 상관없이 사용할 수 있다는 장점이 있다."
   ]
  },
  {
   "cell_type": "code",
   "execution_count": 15,
   "metadata": {},
   "outputs": [
    {
     "name": "stdout",
     "output_type": "stream",
     "text": [
      "오늘의 식단은 피자 청국장 간장조림입니다.\n",
      "오늘은 장수말벌글로벌덮밥을 드셔보세요!\n"
     ]
    }
   ],
   "source": [
    "def eat(a, b, c):\n",
    "    return(a+b+c)\n",
    "\n",
    "result = eat(a=\"피자 \", b=\"청국장 \", c=\"간장조림\")\n",
    "print(\"오늘의 식단은 %s입니다.\" % result)\n",
    "\n",
    "result = eat(c=\"덮밥\", a=\"장수말벌\", b=\"글로벌\") #순서와 상관없이 사용가능\n",
    "print(\"오늘은 %s을 드셔보세요!\" % result)"
   ]
  },
  {
   "cell_type": "markdown",
   "metadata": {},
   "source": [
    "## 1.5. 입력값이 몇개가 될지 모를 때\n",
    "\n",
    "def 함수이름(*매개변수) :\n",
    "    \n",
    "    <수행할 문장1>\n",
    "    \n",
    "    <수행할 문장2>\n",
    "    \n",
    "    ..."
   ]
  },
  {
   "cell_type": "markdown",
   "metadata": {},
   "source": [
    "- 여러 입력값들을 모두 더해주는 함수를 만들어보자."
   ]
  },
  {
   "cell_type": "code",
   "execution_count": 23,
   "metadata": {},
   "outputs": [
    {
     "name": "stdout",
     "output_type": "stream",
     "text": [
      "36\n",
      "1164\n"
     ]
    }
   ],
   "source": [
    "def add_many(*args): #입력값을 모두 모아서 튜플로 만들어준다\n",
    "    result = 0\n",
    "    for i in args:\n",
    "        result=result+i\n",
    "    return result\n",
    "\n",
    "print(add_many(1,2,3,4,5,6,7,8))\n",
    "print(add_many(32, 17, 56, 1045, 13, 1))"
   ]
  },
  {
   "cell_type": "code",
   "execution_count": 33,
   "metadata": {},
   "outputs": [
    {
     "name": "stdout",
     "output_type": "stream",
     "text": [
      "15\n",
      "84\n",
      "죄송합니다. 저의 한계는 사칙연산입니다.\n"
     ]
    }
   ],
   "source": [
    "def add_or_multiply(calc, *args):\n",
    "    if calc == \"add\":\n",
    "        result = 0\n",
    "        for i in args:\n",
    "            result = result + i\n",
    "        return result\n",
    "    elif calc == \"multiply\":\n",
    "        result = 1\n",
    "        for i in args:\n",
    "            result = result * i\n",
    "        return result\n",
    "    else:\n",
    "        return \"죄송합니다. 저의 한계는 사칙연산입니다.\"\n",
    "    \n",
    "result = add_or_multiply(\"add\", 1, 3, 4, 7)\n",
    "print(result)\n",
    "\n",
    "result = add_or_multiply(\"multiply\", 1, 3, 4, 7)\n",
    "print(result)\n",
    "\n",
    "result = add_or_multiply(\"이 숫자들을 가지고 멋진 그래프를 만들어줘!\", 1, 3, 4, 7)\n",
    "print(result)"
   ]
  },
  {
   "cell_type": "markdown",
   "metadata": {},
   "source": [
    "## 1.6. 키워드 파라미터 kwargs : 딕셔너리 결과값 만들기\n",
    "- 키워드 파라미터를 사용할때는 별 두개(**)를 매개변수 앞에 붙인다.\n",
    "- **를 붙이면, 매개변수 kwargs는 딕셔너리가 되고 모든 key=value 형태 값이 딕셔너리에 저장된다."
   ]
  },
  {
   "cell_type": "code",
   "execution_count": 44,
   "metadata": {},
   "outputs": [
    {
     "name": "stdout",
     "output_type": "stream",
     "text": [
      "{'의학': 11250, '심리학': 4500, '철학': 3600, '미술': 0}\n"
     ]
    }
   ],
   "source": [
    "def average_salary(**kwargs):\n",
    "    print(kwargs)\n",
    "    \n",
    "average_salary(의학=11250, 심리학=4500, 철학=3600, 미술=0)"
   ]
  },
  {
   "cell_type": "markdown",
   "metadata": {},
   "source": [
    "## 1.7. 함수의 결과값은 언제나 하나!"
   ]
  },
  {
   "cell_type": "code",
   "execution_count": 49,
   "metadata": {},
   "outputs": [
    {
     "name": "stdout",
     "output_type": "stream",
     "text": [
      "(9, 14)\n"
     ]
    }
   ],
   "source": [
    "def add_and_multiply(a,b):\n",
    "    return a+b, a*b #두개의 결과값?\n",
    "\n",
    "result = add_and_multiply(2, 7) #튜플이 출력된다.\n",
    "print(result)"
   ]
  },
  {
   "cell_type": "code",
   "execution_count": 57,
   "metadata": {},
   "outputs": [
    {
     "ename": "TypeError",
     "evalue": "cannot unpack non-iterable int object",
     "output_type": "error",
     "traceback": [
      "\u001b[0;31m---------------------------------------------------------------------------\u001b[0m",
      "\u001b[0;31mTypeError\u001b[0m                                 Traceback (most recent call last)",
      "\u001b[0;32m<ipython-input-57-cc5114c71860>\u001b[0m in \u001b[0;36m<module>\u001b[0;34m\u001b[0m\n\u001b[1;32m      1\u001b[0m \u001b[0;31m#굳이 두개의 결과값을 갖고 싶다면?\u001b[0m\u001b[0;34m\u001b[0m\u001b[0;34m\u001b[0m\u001b[0;34m\u001b[0m\u001b[0m\n\u001b[1;32m      2\u001b[0m \u001b[0;34m\u001b[0m\u001b[0m\n\u001b[0;32m----> 3\u001b[0;31m \u001b[0mresult1\u001b[0m\u001b[0;34m,\u001b[0m \u001b[0mresult2\u001b[0m \u001b[0;34m=\u001b[0m \u001b[0madd_and_multiply\u001b[0m\u001b[0;34m(\u001b[0m\u001b[0;36m3\u001b[0m\u001b[0;34m,\u001b[0m \u001b[0;36m5\u001b[0m\u001b[0;34m)\u001b[0m\u001b[0;34m\u001b[0m\u001b[0;34m\u001b[0m\u001b[0m\n\u001b[0m\u001b[1;32m      4\u001b[0m \u001b[0mprint\u001b[0m\u001b[0;34m(\u001b[0m\u001b[0mresult1\u001b[0m\u001b[0;34m)\u001b[0m\u001b[0;34m\u001b[0m\u001b[0;34m\u001b[0m\u001b[0m\n\u001b[1;32m      5\u001b[0m \u001b[0mprint\u001b[0m\u001b[0;34m(\u001b[0m\u001b[0mresult2\u001b[0m\u001b[0;34m)\u001b[0m\u001b[0;34m\u001b[0m\u001b[0;34m\u001b[0m\u001b[0m\n",
      "\u001b[0;31mTypeError\u001b[0m: cannot unpack non-iterable int object"
     ]
    }
   ],
   "source": [
    "#굳이 두개의 결과값을 갖고 싶다면?\n",
    "\n",
    "result1, result2 = add_and_multiply(3, 5)\n",
    "print(result1)\n",
    "print(result2)"
   ]
  },
  {
   "cell_type": "code",
   "execution_count": 69,
   "metadata": {},
   "outputs": [
    {
     "data": {
      "text/plain": [
       "19"
      ]
     },
     "execution_count": 69,
     "metadata": {},
     "output_type": "execute_result"
    }
   ],
   "source": [
    "#쓸데없는 짓\n",
    "\n",
    "def add_and_multiply(a, b):\n",
    "    return a+b\n",
    "    return a*b\n",
    "\n",
    "add_and_multiply(15, 4) #첫번째 return밖에 출력 안되지롱"
   ]
  },
  {
   "cell_type": "markdown",
   "metadata": {},
   "source": [
    "## 1.8. return을 사용해서 특정한 상황에서 함수 빠져나가기\n",
    "- 함수는 return문을 만나는 순간 결과값을 돌려준 후 함수를 빠져나간다.\n",
    "- 민수는 피자를 세상에서 제일 싫어한다. 하지만 민수의 친구들은 항상 민수에게 피자를 먹으러 가자고 한다. 파이썬 코딩을 통해 민수가 다른 음식을 먹도록 도와주자."
   ]
  },
  {
   "cell_type": "code",
   "execution_count": 70,
   "metadata": {},
   "outputs": [
    {
     "name": "stdout",
     "output_type": "stream",
     "text": [
      "민수야, 점심에 크림김치찌개 먹으러 가자!\n",
      "민수야, 점심에 썩은 통조림 먹으러 가자!\n",
      "민수야, 점심에 컴퓨터 먹으러 가자!\n",
      "민수야, 점심에 바퀴벌레 먹으러 가자!\n"
     ]
    }
   ],
   "source": [
    "def how_about(lunch):\n",
    "    if lunch == \"피자\":\n",
    "        return #아무 return값이 없음\n",
    "    print(\"민수야, 점심에 %s 먹으러 가자!\" % lunch) #이건 결과값이 아님\n",
    "    \n",
    "how_about(\"크림김치찌개\")\n",
    "how_about(\"썩은 통조림\")\n",
    "how_about(\"피자\")\n",
    "how_about(\"컴퓨터\")\n",
    "how_about(\"바퀴벌레\")"
   ]
  },
  {
   "cell_type": "markdown",
   "metadata": {},
   "source": [
    "## 1.9. 매개변수에 초기값 미리 설정하기\n",
    "\n",
    "- 함수의 매개변수 값이 항상 변할 것이 아니라면, 초기값을 미리 설정해두면 편리하다.\n",
    "- 초기값을 가지고싶은 매개변수는 항상 뒤에 놓는 것이 좋다."
   ]
  },
  {
   "cell_type": "code",
   "execution_count": 96,
   "metadata": {},
   "outputs": [
    {
     "name": "stdout",
     "output_type": "stream",
     "text": [
      "당신의 이름은 파이썬입니다. 당신은 자전거 속도위반죄를 저질렀습니다.\n",
      "파이썬님에게 사형을 선고합니다.\n"
     ]
    }
   ],
   "source": [
    "def judgment(name, crime, execution=True):\n",
    "    print(\"당신의 이름은 %s입니다. 당신은 %s죄를 저질렀습니다.\" % (name, crime))\n",
    "    if execution:\n",
    "        print(\"%s님에게 사형을 선고합니다.\" % name)\n",
    "    else:\n",
    "        print(\"%s님은 무죄입니다. 집에 가세요.\" % name)\n",
    "        \n",
    "        \n",
    "judgment(\"파이썬\", \"자전거 속도위반\")"
   ]
  },
  {
   "cell_type": "code",
   "execution_count": 97,
   "metadata": {},
   "outputs": [
    {
     "name": "stdout",
     "output_type": "stream",
     "text": [
      "당신의 이름은 판사입니다. 당신은 연쇄 총기난사죄를 저질렀습니다.\n",
      "판사님은 무죄입니다. 집에 가세요.\n"
     ]
    }
   ],
   "source": [
    "judgment(\"판사\", \"연쇄 총기난사\", False)"
   ]
  },
  {
   "cell_type": "code",
   "execution_count": 98,
   "metadata": {},
   "outputs": [
    {
     "name": "stdout",
     "output_type": "stream",
     "text": [
      "당신의 이름은 고양이입니다. 당신은 사이버 명예훼손죄를 저질렀습니다.\n",
      "고양이님은 무죄입니다. 집에 가세요.\n"
     ]
    }
   ],
   "source": [
    "judgment(\"고양이\", \"사이버 명예훼손\", False)"
   ]
  },
  {
   "cell_type": "code",
   "execution_count": 99,
   "metadata": {},
   "outputs": [
    {
     "name": "stdout",
     "output_type": "stream",
     "text": [
      "당신의 이름은 학부생입니다. 당신은 죄를 저질렀습니다.\n",
      "학부생님에게 사형을 선고합니다.\n"
     ]
    }
   ],
   "source": [
    "judgment(\"학부생\", \"\")"
   ]
  },
  {
   "cell_type": "markdown",
   "metadata": {},
   "source": [
    "- 초기값을 가지고싶은 매개변수는 항상 뒤에 놓는 것이 좋다."
   ]
  },
  {
   "cell_type": "code",
   "execution_count": 101,
   "metadata": {},
   "outputs": [
    {
     "ename": "SyntaxError",
     "evalue": "non-default argument follows default argument (<ipython-input-101-33d6f12d41be>, line 3)",
     "output_type": "error",
     "traceback": [
      "\u001b[0;36m  File \u001b[0;32m\"<ipython-input-101-33d6f12d41be>\"\u001b[0;36m, line \u001b[0;32m3\u001b[0m\n\u001b[0;31m    def judgment(name, execution=True, crime):\u001b[0m\n\u001b[0m                ^\u001b[0m\n\u001b[0;31mSyntaxError\u001b[0m\u001b[0;31m:\u001b[0m non-default argument follows default argument\n"
     ]
    }
   ],
   "source": [
    "#초기값을 가진 매개변수를 앞에 놓았을 때 벌어지는 일\n",
    "\n",
    "def judgment(name, execution=True, crime):\n",
    "    print(\"당신의 이름은 %s입니다. 당신은 %s죄를 저질렀습니다.\" % (name, crime))\n",
    "    if execution:\n",
    "        print(\"%s님에게 사형을 선고합니다.\" % name)\n",
    "    else:\n",
    "        print(\"%s님은 무죄입니다. 집에 가세요.\" % name)\n",
    "        \n",
    "        \n",
    "judgment(\"파이썬\", \"자전거 속도위반\") #초깃값을 설정해 놓은 매개변수 뒤에 초깃값을 설정해 놓지 않은 매개변수는 사용할 수 없다"
   ]
  },
  {
   "cell_type": "markdown",
   "metadata": {},
   "source": [
    "## 1.10. 함수 안에서 선언한 매개변수는 함수 안에서만 효력을 발휘한다."
   ]
  },
  {
   "cell_type": "code",
   "execution_count": 108,
   "metadata": {},
   "outputs": [
    {
     "name": "stdout",
     "output_type": "stream",
     "text": [
      "None\n",
      "1\n"
     ]
    }
   ],
   "source": [
    "a=1\n",
    "def test(a):\n",
    "    a = a+1\n",
    "    \n",
    "print(test(a)) #return값이 없음\n",
    "print(a)"
   ]
  },
  {
   "cell_type": "code",
   "execution_count": 114,
   "metadata": {},
   "outputs": [
    {
     "data": {
      "text/plain": [
       "4"
      ]
     },
     "execution_count": 114,
     "metadata": {},
     "output_type": "execute_result"
    }
   ],
   "source": [
    "def test(b):\n",
    "    return b+1\n",
    "\n",
    "test(3)"
   ]
  },
  {
   "cell_type": "code",
   "execution_count": 115,
   "metadata": {},
   "outputs": [
    {
     "ename": "NameError",
     "evalue": "name 'b' is not defined",
     "output_type": "error",
     "traceback": [
      "\u001b[0;31m---------------------------------------------------------------------------\u001b[0m",
      "\u001b[0;31mNameError\u001b[0m                                 Traceback (most recent call last)",
      "\u001b[0;32m<ipython-input-115-181dc47f751a>\u001b[0m in \u001b[0;36m<module>\u001b[0;34m\u001b[0m\n\u001b[1;32m      2\u001b[0m     \u001b[0;32mreturn\u001b[0m \u001b[0mb\u001b[0m\u001b[0;34m+\u001b[0m\u001b[0;36m1\u001b[0m\u001b[0;34m\u001b[0m\u001b[0;34m\u001b[0m\u001b[0m\n\u001b[1;32m      3\u001b[0m \u001b[0;34m\u001b[0m\u001b[0m\n\u001b[0;32m----> 4\u001b[0;31m \u001b[0mprint\u001b[0m\u001b[0;34m(\u001b[0m\u001b[0mb\u001b[0m\u001b[0;34m)\u001b[0m\u001b[0;34m\u001b[0m\u001b[0;34m\u001b[0m\u001b[0m\n\u001b[0m",
      "\u001b[0;31mNameError\u001b[0m: name 'b' is not defined"
     ]
    }
   ],
   "source": [
    "def test(b):\n",
    "    return b+1\n",
    "\n",
    "print(b) #b에 지정된 값이 없음"
   ]
  },
  {
   "cell_type": "markdown",
   "metadata": {},
   "source": [
    "## 1.11. 함수 안에서 함수 밖의 변수를 변경하는 방법"
   ]
  },
  {
   "cell_type": "markdown",
   "metadata": {},
   "source": [
    "### 1.11.1. return 사용하기"
   ]
  },
  {
   "cell_type": "code",
   "execution_count": 117,
   "metadata": {},
   "outputs": [
    {
     "name": "stdout",
     "output_type": "stream",
     "text": [
      "2\n"
     ]
    }
   ],
   "source": [
    "a = 1\n",
    "def test(a):\n",
    "    a = a+1\n",
    "    return a\n",
    "\n",
    "a = test(a) #변수 a가 test함수의 결과값으로 바뀜. 물론 이 a와 함수 안의 a는 다르다.\n",
    "print(a)"
   ]
  },
  {
   "cell_type": "markdown",
   "metadata": {},
   "source": [
    "### 1.11.2. global 명령어 사용하기\n",
    "- global a 라는 문장은 \"함수 안에서 함수 밖 a 변수를 직접 사용하겠다\"는 것을 의미함.\n",
    "- 그러나, 함수는 가능하면 독립적으로 사용할 수 있게 두는 것이 좋기 때문에 꼭 필요할때만 사용할 것."
   ]
  },
  {
   "cell_type": "code",
   "execution_count": 125,
   "metadata": {},
   "outputs": [
    {
     "name": "stdout",
     "output_type": "stream",
     "text": [
      "2\n"
     ]
    }
   ],
   "source": [
    "a = 1\n",
    "def test():\n",
    "    global a\n",
    "    a = a+1\n",
    "\n",
    "test()\n",
    "print(a)"
   ]
  },
  {
   "cell_type": "markdown",
   "metadata": {},
   "source": [
    "## 1.12. lambda\n",
    "- lambda는 함수를 생성할 때 사용하는 예약어이며, def와 같은 역할을 한다.\n",
    "- lambda는 보통 함수를 한 줄로 만들고 싶을 때 사용한다. \n",
    "- def를 사용할 수 없거나, def를 사용할만큼 복잡하지 않을 때 사용한다.\n",
    "- lambda로 만든 함수들은 return 명령어가 없어도 결과값을 돌려준다."
   ]
  },
  {
   "cell_type": "markdown",
   "metadata": {},
   "source": [
    "### 지금까지 def로 만든 몇몇 함수들을 lambda로 다시 만들어보자."
   ]
  },
  {
   "cell_type": "code",
   "execution_count": 1,
   "metadata": {},
   "outputs": [
    {
     "data": {
      "text/plain": [
       "11"
      ]
     },
     "execution_count": 1,
     "metadata": {},
     "output_type": "execute_result"
    }
   ],
   "source": [
    "add = lambda a, b: a+b\n",
    "\n",
    "add(3, 8)"
   ]
  },
  {
   "cell_type": "code",
   "execution_count": 2,
   "metadata": {},
   "outputs": [
    {
     "name": "stdout",
     "output_type": "stream",
     "text": [
      "민수야 저녁은 유전자염기서열 먹기로 결정했어.\n",
      "민수야 저녁은 피자피자 먹기로 결정했어.\n"
     ]
    }
   ],
   "source": [
    "how_about = lambda dinner: (\"민수야 저녁은 %s 먹기로 결정했어.\" % dinner)\n",
    "\n",
    "print(how_about(\"유전자염기서열\"))\n",
    "print(how_about(\"피자피자\"))"
   ]
  }
 ],
 "metadata": {
  "kernelspec": {
   "display_name": "Python 3",
   "language": "python",
   "name": "python3"
  },
  "language_info": {
   "codemirror_mode": {
    "name": "ipython",
    "version": 3
   },
   "file_extension": ".py",
   "mimetype": "text/x-python",
   "name": "python",
   "nbconvert_exporter": "python",
   "pygments_lexer": "ipython3",
   "version": "3.7.3"
  }
 },
 "nbformat": 4,
 "nbformat_minor": 2
}
