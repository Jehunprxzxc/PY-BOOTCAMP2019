{
 "cells": [
  {
   "cell_type": "markdown",
   "metadata": {},
   "source": [
    "# Week 6-2 : Files"
   ]
  },
  {
   "cell_type": "markdown",
   "metadata": {},
   "source": [
    "### 2019 Summer \n",
    "### Human Factors Psychology Lab, SNU\n",
    "### Jehun Hong"
   ]
  },
  {
   "cell_type": "markdown",
   "metadata": {},
   "source": [
    " "
   ]
  },
  {
   "cell_type": "markdown",
   "metadata": {},
   "source": [
    "# 2. 사용자 입력과 출력\n",
    "- 대부분의 프로그램은 사용자의 입력에 따라 그에 맞는 출력을 보낸다. 그 방법을 자세히 알아보자."
   ]
  },
  {
   "cell_type": "markdown",
   "metadata": {},
   "source": [
    "## 2.1. input과 프롬프트 사용하기\n",
    "- input은 입력되는 모든 것들을 문자열로 취급한다.\n",
    "- 질문에 대한 답변을 만들고 싶으면 input()내에 프롬프트를 띄우면 된다."
   ]
  },
  {
   "cell_type": "code",
   "execution_count": 4,
   "metadata": {},
   "outputs": [
    {
     "name": "stdout",
     "output_type": "stream",
     "text": [
      "helpme\n",
      "helpme\n"
     ]
    }
   ],
   "source": [
    "a = input()\n",
    "print(a)"
   ]
  },
  {
   "cell_type": "code",
   "execution_count": 15,
   "metadata": {},
   "outputs": [
    {
     "name": "stdout",
     "output_type": "stream",
     "text": [
      "캐릭터의 이름을 입력하세요 : 해물파전\n",
      "캐릭터의 직업을 선택하세요 : 단무지\n",
      "게임 캐쉬를 얼마나 결제하시겠습니까? : 19204920394\n",
      "해물파전 용사님, 당신은 이제 최고의 단무지이(가) 되는 길을 떠나기 위한 모험을 시작합니다. 행운을 빌어요!\n"
     ]
    }
   ],
   "source": [
    "#프롬프트 넣어보기\n",
    "\n",
    "name = input(\"캐릭터의 이름을 입력하세요 : \")\n",
    "job = input(\"캐릭터의 직업을 선택하세요 : \")\n",
    "cash = input(\"게임 캐쉬를 얼마나 결제하시겠습니까? : \")\n",
    "\n",
    "if int(cash) > 100000:\n",
    "    print(\"%s 용사님, 당신은 이제 최고의 %s이(가) 되는 길을 떠나기 위한 모험을 시작합니다. 행운을 빌어요!\" % (name, job))\n",
    "elif int(cash) > 5000:\n",
    "    print(\"%s, 당신은 이 세계 최악의 %s을(를) 죽였습니다. 경찰에게 체포되기 전에 이 도시를 떠나세요!\" % (name, job))\n",
    "else:\n",
    "    print(\"게임을 시행할 수 없습니다.\")"
   ]
  },
  {
   "cell_type": "code",
   "execution_count": 18,
   "metadata": {},
   "outputs": [
    {
     "name": "stdout",
     "output_type": "stream",
     "text": [
      "캐릭터의 이름을 입력하세요 : 김4차산업혁명\n",
      "캐릭터의 직업을 선택하세요 : 어린이집 교사\n",
      "게임 캐쉬를 얼마나 결제하시겠습니까? : 39292\n",
      "김4차산업혁명, 당신은 이 세계 최악의 어린이집 교사을(를) 죽였습니다. 경찰에게 체포되기 전에 이 도시를 떠나세요!\n"
     ]
    }
   ],
   "source": [
    "name = input(\"캐릭터의 이름을 입력하세요 : \")\n",
    "job = input(\"캐릭터의 직업을 선택하세요 : \")\n",
    "cash = input(\"게임 캐쉬를 얼마나 결제하시겠습니까? : \")\n",
    "\n",
    "if int(cash) > 100000:\n",
    "    print(\"%s 용사님, 당신은 이제 최고의 %s이(가) 되는 길을 떠나기 위한 모험을 시작합니다. 행운을 빌어요!\" % (name, job))\n",
    "elif int(cash) > 5000:\n",
    "    print(\"%s, 당신은 이 세계 최악의 %s을(를) 죽였습니다. 경찰에게 체포되기 전에 이 도시를 떠나세요!\" % (name, job))\n",
    "else:\n",
    "    print(\"게임을 시행할 수 없습니다.\")"
   ]
  },
  {
   "cell_type": "code",
   "execution_count": 19,
   "metadata": {},
   "outputs": [
    {
     "name": "stdout",
     "output_type": "stream",
     "text": [
      "캐릭터의 이름을 입력하세요 : 워터파크\n",
      "캐릭터의 직업을 선택하세요 : 칠레 포도농장 노예\n",
      "게임 캐쉬를 얼마나 결제하시겠습니까? : 3\n",
      "게임을 시행할 수 없습니다.\n"
     ]
    }
   ],
   "source": [
    "name = input(\"캐릭터의 이름을 입력하세요 : \")\n",
    "job = input(\"캐릭터의 직업을 선택하세요 : \")\n",
    "cash = input(\"게임 캐쉬를 얼마나 결제하시겠습니까? : \")\n",
    "\n",
    "if int(cash) > 100000:\n",
    "    print(\"%s 용사님, 당신은 이제 최고의 %s이(가) 되는 길을 떠나기 위한 모험을 시작합니다. 행운을 빌어요!\" % (name, job))\n",
    "elif int(cash) > 5000:\n",
    "    print(\"%s, 당신은 이 세계 최악의 %s을(를) 죽였습니다. 경찰에게 체포되기 전에 이 도시를 떠나세요!\" % (name, job))\n",
    "else:\n",
    "    print(\"게임을 시행할 수 없습니다.\")"
   ]
  },
  {
   "cell_type": "code",
   "execution_count": 53,
   "metadata": {},
   "outputs": [
    {
     "name": "stdout",
     "output_type": "stream",
     "text": [
      "여기 와서 앉아보렴. : ㅇㅇ\n",
      "가만 보자... 너 이름이 뭐였더라? : 파이썬\n",
      "그래서 어느 과 생각하고 있니? : 심리학\n",
      "저번 6월 모의고사 평균 등급은 얼마였지? : 1\n",
      "내신은 다 합쳐서 평균 몇 정도야? : 9\n",
      "느그 집 잘 사니? : 네\n",
      "파이썬야, 너는 내신은 후지지만 모의고사가 잘 나와서 정시나 논술을 노리는게 좋겠다. 심리학과는 포기하고 학과만 좀 낮춰서 쓰자. 대학 가서 복수전공 하면 된다.\n"
     ]
    }
   ],
   "source": [
    "# 프롬프트 넣어보기 2 : 담임선생님의 진로상담\n",
    "\n",
    "default = input(\"여기 와서 앉아보렴. : \")\n",
    "name = input(\"가만 보자... 너 이름이 뭐였더라? : \")\n",
    "future = input(\"그래서 어느 과 생각하고 있니? : \")\n",
    "grade = input(\"저번 6월 모의고사 평균 등급은 얼마였지? : \")\n",
    "schoolgrade = input(\"내신은 다 합쳐서 평균 몇 정도야? : \")\n",
    "money = input(\"느그 집 잘 사니? : \")\n",
    "\n",
    "if int(grade) <= 1.5 and int(schoolgrade) <= 2.5 and money == \"네\":\n",
    "    print(\"%s야, 너는 스울대 %s과 갈 수 있으니 너가 원서 쓰고싶은대로 마음대로 써라. 예체능 한다고 나대지만 말고.\" %(name, future))\n",
    "elif  int(grade) <= 1.5 and int(schoolgrade) <= 2.5:\n",
    "    print(\"%s야, 요즘 경기가 안좋아서 %s과 보다는 역시 의대가 대세란다. 니가 의-사가 돼야 너희 집안을 먹여살리지 않겠니?\" %(name, future))\n",
    "elif int(grade) <= 1.5:\n",
    "    print(\"%s야, 너는 내신은 후지지만 모의고사가 잘 나와서 정시나 논술을 노리는게 좋겠다. %s과는 포기하고 학과만 좀 낮춰서 쓰자. 대학 가서 복수전공 하면 된다.\" %(name, future))\n",
    "elif int(schoolgrade) <= 1.5:\n",
    "    print(\"%s야, 내신은 나쁘지 않은데 너가 이래서 스울대 %s과 최저를 맞추겠냐? 너 이래가지고 학교에서 추천서 써줘도 최저 못맞추면 우리 학교 이미지만 잡치는거야.\" %(name, future))\n",
    "elif int(grade) <= 3 or int(schoolgrade) <= 6 and money == \"네\":\n",
    "    print(\"%s야, 성적이 조금 모자라긴 한데 인서울은 써볼만하다. 대신 %s과는 니 성적에 좀 어려운데 더 낮은 과로 돌릴 생각 없냐?\" %(name, future))\n",
    "elif int(grade) <=3 or int(schoolgrade) <=6:\n",
    "    print(\"%s야, 니 성적으로 인서울은 좀 애매하고 지방 국립대 중에 %s과가 있는 곳을 쓰는 건 어떻겠냐? 에이 인서울 가도 너희 부모님 등골만 휘어지지\" %(name, future))\n",
    "elif money == \"네\":\n",
    "    print(\"%s야, 올해는 좀 어렵고 재수를 생각해야겠다.\" % name)\n",
    "else :\n",
    "    print(\"%s 너 같은 성적으로 4년제는 솔직히 무리다. 요즘 공장 들어가도 잘 벌어서 차도 사고 집도 산다더라.\" %name)"
   ]
  },
  {
   "cell_type": "code",
   "execution_count": 57,
   "metadata": {},
   "outputs": [
    {
     "name": "stdout",
     "output_type": "stream",
     "text": [
      "여기 와서 앉아보렴. : ㄴㄴ\n",
      "가만 보자... 너 이름이 뭐였더라? : ㄴㄴ\n",
      "그래서 어느 과 생각하고 있니? : 법학\n",
      "저번 6월 모의고사 평균 등급은 얼마였지? : 8\n",
      "내신은 다 합쳐서 평균 몇 정도야? : 9\n",
      "느그 집 잘 사니? : 네\n",
      "ㄴㄴ야, 올해는 좀 어렵고 재수를 생각해야겠다.\n"
     ]
    }
   ],
   "source": [
    "default = input(\"여기 와서 앉아보렴. : \")\n",
    "name = input(\"가만 보자... 너 이름이 뭐였더라? : \")\n",
    "future = input(\"그래서 어느 과 생각하고 있니? : \")\n",
    "grade = input(\"저번 6월 모의고사 평균 등급은 얼마였지? : \")\n",
    "schoolgrade = input(\"내신은 다 합쳐서 평균 몇 정도야? : \")\n",
    "money = input(\"느그 집 잘 사니? : \")\n",
    "\n",
    "if int(grade) <= 1.5 and int(schoolgrade) <= 2.5 and money == \"네\":\n",
    "    print(\"%s야, 너는 스울대 %s과 갈 수 있으니 너가 원서 쓰고싶은대로 마음대로 써라. 예체능 한다고 나대지만 말고.\" %(name, future))\n",
    "elif  int(grade) <= 1.5 and int(schoolgrade) <= 2.5:\n",
    "    print(\"%s야, 요즘 경기가 안좋아서 %s과 보다는 역시 의대가 대세란다. 니가 의-사가 돼야 너희 집안을 먹여살리지 않겠니?\" %(name, future))\n",
    "elif int(grade) <= 1.5:\n",
    "    print(\"%s야, 너는 내신은 후지지만 모의고사가 잘 나와서 정시나 논술을 노리는게 좋겠다. %s과는 포기하고 학과만 좀 낮춰서 쓰자. 대학 가서 복수전공 하면 된다.\" %(name, future))\n",
    "elif int(schoolgrade) <= 1.5:\n",
    "    print(\"%s야, 내신은 나쁘지 않은데 너가 이래서 스울대 %s과 최저를 맞추겠냐? 너 이래가지고 학교에서 추천서 써줘도 최저 못맞추면 우리 학교 이미지만 잡치는거야.\" %(name, future))\n",
    "elif int(grade) <= 3 or int(schoolgrade) <= 6 and money == \"네\":\n",
    "    print(\"%s야, 성적이 조금 모자라긴 한데 인서울은 써볼만하다. 대신 %s과는 니 성적에 좀 어려운데 더 낮은 과로 돌릴 생각 없냐?\" %(name, future))\n",
    "elif int(grade) <=3 or int(schoolgrade) <=6:\n",
    "    print(\"%s야, 니 성적으로 인서울은 좀 애매하고 지방 국립대 중에 %s과가 있는 곳을 쓰는 건 어떻겠냐? 에이 인서울 가도 너희 부모님 등골만 휘어지지\" %(name, future))\n",
    "elif money == \"네\":\n",
    "    print(\"%s야, 올해는 좀 어렵고 재수를 생각해야겠다.\" % name)\n",
    "else :\n",
    "    print(\"%s 너 같은 성적으로 4년제는 솔직히 무리다. 요즘 공장 들어가도 잘 벌어서 차도 사고 집도 산다더라.\" % name)"
   ]
  },
  {
   "cell_type": "markdown",
   "metadata": {},
   "source": [
    "- 코드를 다 짜고 나서 든 생각이지만, 정수가 아닌 실수로 바꿀거라면 int(a)가 아니라 float(a)라고 입력해야 한다.... (다음에 업데이트하겠습니다)"
   ]
  },
  {
   "cell_type": "markdown",
   "metadata": {},
   "source": [
    "## 2.2. print문으로 할 수 있는 다양한 일들"
   ]
  },
  {
   "cell_type": "markdown",
   "metadata": {},
   "source": [
    "### 2.2.1. 큰따옴표(\")로 둘러싸인 문자열은 + 연산과 동일하다."
   ]
  },
  {
   "cell_type": "code",
   "execution_count": null,
   "metadata": {},
   "outputs": [],
   "source": [
    "print(\"제헌이는\" \"배가\" \"고파서\" \"굶어죽었다\")\n",
    "print(\"제헌이는\"+\"배가\"+\"고파서\"+\"굶어죽었다\")"
   ]
  },
  {
   "cell_type": "markdown",
   "metadata": {},
   "source": [
    "### 2.2.2. 문자열 띄어쓰기는 콤마로 한다."
   ]
  },
  {
   "cell_type": "code",
   "execution_count": 38,
   "metadata": {},
   "outputs": [
    {
     "name": "stdout",
     "output_type": "stream",
     "text": [
      "제헌이는 배가 고파서 굶어죽었다\n",
      "대전에서 탈출시켜 주세요. 그렇다고 서울이 더 좋은건 아님\n"
     ]
    }
   ],
   "source": [
    "print(\"제헌이는\", \"배가\", \"고파서\", \"굶어죽었다\")\n",
    "print(\"대전에서\", \"탈출시켜\", \"주세요\" \".\", \"그렇다고\", \"서울이\", \"더\", \"좋은건\", \"아님\")"
   ]
  },
  {
   "cell_type": "markdown",
   "metadata": {},
   "source": [
    "### 2.2.3. 한 줄에 결과값 출력하기\n",
    "- 예전에 잠시 배웠지만, 한 줄에 계속 결과값이 나오게 하려면 매개변수 end를 사용하여 끝 문자를 지정하면 된다."
   ]
  },
  {
   "cell_type": "code",
   "execution_count": 39,
   "metadata": {},
   "outputs": [
    {
     "name": "stdout",
     "output_type": "stream",
     "text": [
      "0 1 2 3 4 5 6 7 8 9 10 "
     ]
    }
   ],
   "source": [
    "for i in range(11):\n",
    "    print(i, end = ' ')"
   ]
  },
  {
   "cell_type": "markdown",
   "metadata": {},
   "source": [
    "    \n",
    "      \n",
    "      "
   ]
  },
  {
   "cell_type": "markdown",
   "metadata": {},
   "source": [
    "# 3. 파일 읽고 쓰기\n",
    "\n",
    "- 직접 사용자가 입출력하는 방법 외에도, 파일을 통해 입출력하는 방식이 있다. 그리고 파일에 적은 내용을 읽고 추가할 수도 있다."
   ]
  },
  {
   "cell_type": "markdown",
   "metadata": {},
   "source": [
    "## 3.1. 파일 생성하기"
   ]
  },
  {
   "cell_type": "markdown",
   "metadata": {},
   "source": [
    "파이썬 내장 함수 open을 사용해서 새로운 파일을 하나 만들어보자. open함수는 '파일 이름'과 '파일 열기 모드'를 입력값으로 받고 파일 객체를 결과값으로 돌려준다.\n",
    "\n",
    "파일 열기 모드는 총 3가지가 있다.\n",
    "\n",
    "- r : 읽기모드 (파일을 읽기만 할 때 사용)\n",
    "- w : 쓰기모드 (파일에 내용을 새로 쓸 때 사용) - 해당 파일이 이미 존재하면 내용이 다 사라지고, 없는 파일을 쓰기모드로 열면 새 파일이 생긴다.\n",
    "- a : 추가모드 (파일의 마지막에 새로운 내용을 추가할 때 사용)"
   ]
  },
  {
   "cell_type": "code",
   "execution_count": 2,
   "metadata": {},
   "outputs": [],
   "source": [
    "#프로그램을 실행한 디렉토리에 새로운 파일 생성하기\n",
    "\n",
    "f = open(\"테스트파일1.txt\", 'w')\n",
    "f.close() #열려있는 파일 객체 닫아주기"
   ]
  },
  {
   "cell_type": "code",
   "execution_count": 33,
   "metadata": {},
   "outputs": [],
   "source": [
    "#특정한 디렉토리에 새로운 파일 생성하기\n",
    "\n",
    "f = open(\"/Users/jehunprxzxc/Desktop/PY-BOOTCAMP2019/testfiles/test1.txt\", \"w\")\n",
    "f.close()"
   ]
  },
  {
   "cell_type": "markdown",
   "metadata": {},
   "source": [
    "## 3.2. 파일을 쓰기 모드로 열어 출력값 적기"
   ]
  },
  {
   "cell_type": "code",
   "execution_count": 34,
   "metadata": {},
   "outputs": [],
   "source": [
    "f = open(\"/Users/jehunprxzxc/Desktop/PY-BOOTCAMP2019/testfiles/test1.txt\", \"w\")\n",
    "for i in range(1, 10):\n",
    "    data = \"당신의 내신은 %d등급입니다. \\n\" % i\n",
    "    f.write(data)\n",
    "f.close()"
   ]
  },
  {
   "cell_type": "code",
   "execution_count": 35,
   "metadata": {},
   "outputs": [
    {
     "name": "stdout",
     "output_type": "stream",
     "text": [
      "당신의 내신은 1등급입니다. \n",
      "\n",
      "당신의 내신은 2등급입니다. \n",
      "\n",
      "당신의 내신은 3등급입니다. \n",
      "\n",
      "당신의 내신은 4등급입니다. \n",
      "\n",
      "당신의 내신은 5등급입니다. \n",
      "\n",
      "당신의 내신은 6등급입니다. \n",
      "\n",
      "당신의 내신은 7등급입니다. \n",
      "\n",
      "당신의 내신은 8등급입니다. \n",
      "\n",
      "당신의 내신은 9등급입니다. \n",
      "\n"
     ]
    }
   ],
   "source": [
    "#이 코드와 같은 결과값이 텍스트파일에 입력되었음.\n",
    "\n",
    "for i in range(1, 10):\n",
    "    data = \"당신의 내신은 %d등급입니다. \\n\" % i\n",
    "    print(data)"
   ]
  },
  {
   "cell_type": "markdown",
   "metadata": {},
   "source": [
    "## 3.3. 프로그램의 외부에 저장된 파일 읽기"
   ]
  },
  {
   "cell_type": "markdown",
   "metadata": {},
   "source": [
    "### 3.3.1. readline() 함수\n",
    "- 파일의 첫번째 줄을 읽어준다."
   ]
  },
  {
   "cell_type": "code",
   "execution_count": 37,
   "metadata": {},
   "outputs": [
    {
     "name": "stdout",
     "output_type": "stream",
     "text": [
      "당신의 내신은 1등급입니다. \n",
      "\n"
     ]
    }
   ],
   "source": [
    "f = open(\"/Users/jehunprxzxc/Desktop/PY-BOOTCAMP2019/testfiles/test1.txt\", \"r\")\n",
    "line = f.readline()\n",
    "print(line)\n",
    "f.close()"
   ]
  },
  {
   "cell_type": "code",
   "execution_count": 38,
   "metadata": {},
   "outputs": [
    {
     "name": "stdout",
     "output_type": "stream",
     "text": [
      "당신의 내신은 1등급입니다. \n",
      "\n",
      "당신의 내신은 2등급입니다. \n",
      "\n",
      "당신의 내신은 3등급입니다. \n",
      "\n",
      "당신의 내신은 4등급입니다. \n",
      "\n",
      "당신의 내신은 5등급입니다. \n",
      "\n",
      "당신의 내신은 6등급입니다. \n",
      "\n",
      "당신의 내신은 7등급입니다. \n",
      "\n",
      "당신의 내신은 8등급입니다. \n",
      "\n",
      "당신의 내신은 9등급입니다. \n",
      "\n"
     ]
    }
   ],
   "source": [
    "#전부 다 읽고싶을 때\n",
    "\n",
    "f = open(\"/Users/jehunprxzxc/Desktop/PY-BOOTCAMP2019/testfiles/test1.txt\", \"r\")\n",
    "while True:\n",
    "    line = f.readline()\n",
    "    if not line: break\n",
    "    print(line)\n",
    "f.close()"
   ]
  },
  {
   "cell_type": "markdown",
   "metadata": {},
   "source": [
    "### 3.3.2. readlines() 함수\n",
    "- 파일의 모든 줄을 읽어서 각각의 줄을 요소로 갖는 리스트를 돌려준다."
   ]
  },
  {
   "cell_type": "code",
   "execution_count": 40,
   "metadata": {},
   "outputs": [
    {
     "name": "stdout",
     "output_type": "stream",
     "text": [
      "당신의 내신은 1등급입니다. \n",
      "\n",
      "당신의 내신은 2등급입니다. \n",
      "\n",
      "당신의 내신은 3등급입니다. \n",
      "\n",
      "당신의 내신은 4등급입니다. \n",
      "\n",
      "당신의 내신은 5등급입니다. \n",
      "\n",
      "당신의 내신은 6등급입니다. \n",
      "\n",
      "당신의 내신은 7등급입니다. \n",
      "\n",
      "당신의 내신은 8등급입니다. \n",
      "\n",
      "당신의 내신은 9등급입니다. \n",
      "\n"
     ]
    }
   ],
   "source": [
    "f = open(\"/Users/jehunprxzxc/Desktop/PY-BOOTCAMP2019/testfiles/test1.txt\", \"r\")\n",
    "lines = f.readlines() #lines는 각 줄을 포함한 리스트\n",
    "for line in lines: \n",
    "    print(line)\n",
    "f.close()"
   ]
  },
  {
   "cell_type": "markdown",
   "metadata": {},
   "source": [
    "### 3.3.3. read() 함수\n",
    "- 파일 내용 전체를 문자열로 돌려준다."
   ]
  },
  {
   "cell_type": "code",
   "execution_count": 41,
   "metadata": {},
   "outputs": [
    {
     "name": "stdout",
     "output_type": "stream",
     "text": [
      "당신의 내신은 1등급입니다. \n",
      "당신의 내신은 2등급입니다. \n",
      "당신의 내신은 3등급입니다. \n",
      "당신의 내신은 4등급입니다. \n",
      "당신의 내신은 5등급입니다. \n",
      "당신의 내신은 6등급입니다. \n",
      "당신의 내신은 7등급입니다. \n",
      "당신의 내신은 8등급입니다. \n",
      "당신의 내신은 9등급입니다. \n",
      "\n"
     ]
    }
   ],
   "source": [
    "f = open(\"/Users/jehunprxzxc/Desktop/PY-BOOTCAMP2019/testfiles/test1.txt\", \"r\")\n",
    "data = f.read()\n",
    "print(data)\n",
    "f.close()"
   ]
  },
  {
   "cell_type": "markdown",
   "metadata": {},
   "source": [
    "## 3.4. 파일에 새로운 내용 추가하기\n",
    "- 파일 을 쓰기 모드('w') 대신 추가 모드('a')로 열면 원래 있던 값을 유지하면서 새로운 내용을 추가할 수 있다."
   ]
  },
  {
   "cell_type": "code",
   "execution_count": 60,
   "metadata": {},
   "outputs": [],
   "source": [
    "f = open(\"/Users/jehunprxzxc/Desktop/PY-BOOTCAMP2019/testfiles/test1.txt\", \"a\")\n",
    "for i in range(10, 21):\n",
    "    data = \"당신의 심리학개론 중간고사 점수는 %d점입니다. \\n\" % i\n",
    "    f.write(data)\n",
    "f.close()"
   ]
  },
  {
   "cell_type": "code",
   "execution_count": 61,
   "metadata": {},
   "outputs": [
    {
     "name": "stdout",
     "output_type": "stream",
     "text": [
      "당신의 내신은 1등급입니다. \n",
      "당신의 내신은 2등급입니다. \n",
      "당신의 내신은 3등급입니다. \n",
      "당신의 내신은 4등급입니다. \n",
      "당신의 내신은 5등급입니다. \n",
      "당신의 내신은 6등급입니다. \n",
      "당신의 내신은 7등급입니다. \n",
      "당신의 내신은 8등급입니다. \n",
      "당신의 내신은 9등급입니다. \n",
      "당신의 심리학개론 중간고사 점수는 10점입니다. \n",
      "당신의 심리학개론 중간고사 점수는 11점입니다. \n",
      "당신의 심리학개론 중간고사 점수는 12점입니다. \n",
      "당신의 심리학개론 중간고사 점수는 13점입니다. \n",
      "당신의 심리학개론 중간고사 점수는 14점입니다. \n",
      "당신의 심리학개론 중간고사 점수는 15점입니다. \n",
      "당신의 심리학개론 중간고사 점수는 16점입니다. \n",
      "당신의 심리학개론 중간고사 점수는 17점입니다. \n",
      "당신의 심리학개론 중간고사 점수는 18점입니다. \n",
      "당신의 심리학개론 중간고사 점수는 19점입니다. \n",
      "당신의 심리학개론 중간고사 점수는 20점입니다. \n",
      "당신의 심리학개론 중간고사 점수는 10점입니다. \n",
      "당신의 심리학개론 중간고사 점수는 11점입니다. \n",
      "당신의 심리학개론 중간고사 점수는 12점입니다. \n",
      "당신의 심리학개론 중간고사 점수는 13점입니다. \n",
      "당신의 심리학개론 중간고사 점수는 14점입니다. \n",
      "당신의 심리학개론 중간고사 점수는 15점입니다. \n",
      "당신의 심리학개론 중간고사 점수는 16점입니다. \n",
      "당신의 심리학개론 중간고사 점수는 17점입니다. \n",
      "당신의 심리학개론 중간고사 점수는 18점입니다. \n",
      "당신의 심리학개론 중간고사 점수는 19점입니다. \n",
      "당신의 심리학개론 중간고사 점수는 20점입니다. \n",
      "\n"
     ]
    }
   ],
   "source": [
    "f = open(\"/Users/jehunprxzxc/Desktop/PY-BOOTCAMP2019/testfiles/test1.txt\", \"r\")\n",
    "data = f.read()\n",
    "print(data)\n",
    "f.close()"
   ]
  },
  {
   "cell_type": "markdown",
   "metadata": {},
   "source": [
    "## 3.5. with문\n",
    "- with문을 통해 파일 열고닫기를 자동화할 수 있다. with문을 사용할 경우, with 블록을 벗어난 순간 파일 객체 f가 자동으로 close된다."
   ]
  },
  {
   "cell_type": "code",
   "execution_count": 62,
   "metadata": {},
   "outputs": [],
   "source": [
    "#지금까지의 방식\n",
    "\n",
    "f = open(\"/Users/jehunprxzxc/Desktop/PY-BOOTCAMP2019/testfiles/test2.txt\", \"w\")\n",
    "f.write(\"코딩에 재능있는 사람들의 뇌를 해부해보는 시간을 가지겠습니다. 저새끼 잡아라.\")\n",
    "f.close()"
   ]
  },
  {
   "cell_type": "code",
   "execution_count": 63,
   "metadata": {},
   "outputs": [],
   "source": [
    "#with문을 활용한 방식\n",
    "\n",
    "with open(\"/Users/jehunprxzxc/Desktop/PY-BOOTCAMP2019/testfiles/test2.txt\", \"w\") as f:\n",
    "    f.write(\"오늘은 코딩에 재능있는 사람들의 뇌를 해부해보는 시간을 가지겠습니다. 저 도망가는 새끼 잡아라.\") #f.close 필요 없음!"
   ]
  },
  {
   "cell_type": "code",
   "execution_count": 64,
   "metadata": {},
   "outputs": [
    {
     "name": "stdout",
     "output_type": "stream",
     "text": [
      "오늘은 코딩에 재능있는 사람들의 뇌를 해부해보는 시간을 가지겠습니다. 저 도망가는 새끼 잡아라.\n"
     ]
    }
   ],
   "source": [
    "with open(\"/Users/jehunprxzxc/Desktop/PY-BOOTCAMP2019/testfiles/test2.txt\", \"r\") as f:\n",
    "    data=f.read()\n",
    "    print(data)"
   ]
  }
 ],
 "metadata": {
  "kernelspec": {
   "display_name": "Python 3",
   "language": "python",
   "name": "python3"
  },
  "language_info": {
   "codemirror_mode": {
    "name": "ipython",
    "version": 3
   },
   "file_extension": ".py",
   "mimetype": "text/x-python",
   "name": "python",
   "nbconvert_exporter": "python",
   "pygments_lexer": "ipython3",
   "version": "3.7.3"
  }
 },
 "nbformat": 4,
 "nbformat_minor": 2
}
