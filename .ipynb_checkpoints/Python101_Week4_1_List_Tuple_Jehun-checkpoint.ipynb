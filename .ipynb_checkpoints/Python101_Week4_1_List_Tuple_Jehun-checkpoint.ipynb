{
 "cells": [
  {
   "cell_type": "markdown",
   "metadata": {},
   "source": [
    "# Week 4 : List, Tuple, Dictionary, Set, Bool"
   ]
  },
  {
   "cell_type": "markdown",
   "metadata": {},
   "source": [
    "### 2019 Summer \n",
    "### Human Factors Psychology Lab, SNU\n",
    "### Jehun Hong"
   ]
  },
  {
   "cell_type": "markdown",
   "metadata": {},
   "source": [
    " "
   ]
  },
  {
   "cell_type": "markdown",
   "metadata": {},
   "source": [
    "# 1. List 자료형\n",
    "- 리스트 자료형 : 여러 값들을 나열하는 것"
   ]
  },
  {
   "cell_type": "markdown",
   "metadata": {},
   "source": [
    "#### 리스트 자료형의 예시\n",
    "리스트는 어떤 자료형이든 요소로 포함시킬 수 있다."
   ]
  },
  {
   "cell_type": "code",
   "execution_count": 104,
   "metadata": {},
   "outputs": [],
   "source": [
    "number = [1, 2, 3, 4, 5] #숫자형 요소들로 구성됨\n",
    "pizza = [\"cheese\", \"peperoni\", \"hawaiian\", \"supersupreme\"] #문자형 요소들로 구성됨\n",
    "mix = [23, 37.364, \"SLEEP\", \"집에가서뭐먹지\"] #숫자형, 문자형 요소들이 섞일 수 있음\n",
    "pizzanumber = [\"chheese\", \"peperoni\", \"hawaiian\", [1, 2, 3, 4, 5]] #리스트 자체를 요소로 포함시킬 수 있음"
   ]
  },
  {
   "cell_type": "markdown",
   "metadata": {},
   "source": [
    "빈 리스트를 생성할 수도 있다."
   ]
  },
  {
   "cell_type": "code",
   "execution_count": 105,
   "metadata": {},
   "outputs": [
    {
     "name": "stdout",
     "output_type": "stream",
     "text": [
      "[]\n",
      "[]\n"
     ]
    }
   ],
   "source": [
    "a = []\n",
    "b = list()\n",
    "print(a)\n",
    "print(b)"
   ]
  },
  {
   "cell_type": "markdown",
   "metadata": {},
   "source": [
    "## 1.1. List의 인덱싱과 슬라이싱"
   ]
  },
  {
   "cell_type": "markdown",
   "metadata": {},
   "source": [
    "### 1.1.1. List 인덱싱"
   ]
  },
  {
   "cell_type": "code",
   "execution_count": 106,
   "metadata": {},
   "outputs": [
    {
     "data": {
      "text/plain": [
       "[1, 2, 3, 4, 5, 6, 7, 8, 9]"
      ]
     },
     "execution_count": 106,
     "metadata": {},
     "output_type": "execute_result"
    }
   ],
   "source": [
    "a = [1,2,3,4,5,6,7,8,9]\n",
    "a"
   ]
  },
  {
   "cell_type": "code",
   "execution_count": 107,
   "metadata": {},
   "outputs": [
    {
     "name": "stdout",
     "output_type": "stream",
     "text": [
      "1\n",
      "8\n",
      "12\n"
     ]
    }
   ],
   "source": [
    "### 인덱싱\n",
    "print(a[0])\n",
    "print(a[-2])\n",
    "print(a[3]+a[7])"
   ]
  },
  {
   "cell_type": "code",
   "execution_count": 108,
   "metadata": {},
   "outputs": [
    {
     "name": "stdout",
     "output_type": "stream",
     "text": [
      "buildingowner\n",
      "catbeercomputer\n",
      "computercomputercomputercomputercomputercomputercomputercomputercomputercomputer\n"
     ]
    }
   ],
   "source": [
    "장래희망 = [\"buildingowner\", \"cat\", \"beer\", \"computer\"]\n",
    "print(장래희망[0])\n",
    "print(장래희망[1]+장래희망[2]+장래희망[3])\n",
    "print(장래희망[3]*10)"
   ]
  },
  {
   "cell_type": "markdown",
   "metadata": {},
   "source": [
    "- 참고 : 문자형과 숫자형은 더할 수 없으므로, 숫자형을 str함수를 활용해 문자형으로 바꿔줘야 한다."
   ]
  },
  {
   "cell_type": "code",
   "execution_count": 109,
   "metadata": {},
   "outputs": [
    {
     "name": "stdout",
     "output_type": "stream",
     "text": [
      "13\n",
      "돈없음\n"
     ]
    },
    {
     "ename": "TypeError",
     "evalue": "unsupported operand type(s) for +: 'int' and 'str'",
     "output_type": "error",
     "traceback": [
      "\u001b[0;31m---------------------------------------------------------------------------\u001b[0m",
      "\u001b[0;31mTypeError\u001b[0m                                 Traceback (most recent call last)",
      "\u001b[0;32m<ipython-input-109-7bf4dbe007a8>\u001b[0m in \u001b[0;36m<module>\u001b[0;34m\u001b[0m\n\u001b[1;32m      2\u001b[0m \u001b[0mprint\u001b[0m\u001b[0;34m(\u001b[0m\u001b[0m전재산\u001b[0m\u001b[0;34m[\u001b[0m\u001b[0;36m1\u001b[0m\u001b[0;34m]\u001b[0m\u001b[0;34m)\u001b[0m\u001b[0;34m\u001b[0m\u001b[0;34m\u001b[0m\u001b[0m\n\u001b[1;32m      3\u001b[0m \u001b[0mprint\u001b[0m\u001b[0;34m(\u001b[0m\u001b[0m전재산\u001b[0m\u001b[0;34m[\u001b[0m\u001b[0;36m4\u001b[0m\u001b[0;34m]\u001b[0m\u001b[0;34m)\u001b[0m\u001b[0;34m\u001b[0m\u001b[0;34m\u001b[0m\u001b[0m\n\u001b[0;32m----> 4\u001b[0;31m \u001b[0mprint\u001b[0m\u001b[0;34m(\u001b[0m\u001b[0m전재산\u001b[0m\u001b[0;34m[\u001b[0m\u001b[0;36m1\u001b[0m\u001b[0;34m]\u001b[0m\u001b[0;34m+\u001b[0m\u001b[0m전재산\u001b[0m\u001b[0;34m[\u001b[0m\u001b[0;36m4\u001b[0m\u001b[0;34m]\u001b[0m\u001b[0;34m)\u001b[0m\u001b[0;34m\u001b[0m\u001b[0;34m\u001b[0m\u001b[0m\n\u001b[0m",
      "\u001b[0;31mTypeError\u001b[0m: unsupported operand type(s) for +: 'int' and 'str'"
     ]
    }
   ],
   "source": [
    "전재산 = [0, 13, 2370, 11600, \"돈없음\", \"파산\"]\n",
    "print(전재산[1])\n",
    "print(전재산[4])\n",
    "print(전재산[1]+전재산[4])"
   ]
  },
  {
   "cell_type": "code",
   "execution_count": 110,
   "metadata": {},
   "outputs": [
    {
     "data": {
      "text/plain": [
       "'13돈없음'"
      ]
     },
     "execution_count": 110,
     "metadata": {},
     "output_type": "execute_result"
    }
   ],
   "source": [
    "#오류수정\n",
    "str(전재산[1])+전재산[4]"
   ]
  },
  {
   "cell_type": "markdown",
   "metadata": {},
   "source": [
    "#### 이중 리스트에서 내부의 리스트는 요소로 처리되기 때문에 인덱싱할 수 있다.\n",
    "\n",
    "내부 리스트 내의 요소를 인덱싱하기 위해서는 변수이름[내부 리스트의 위치][내부 리스트 내에서 찾고자 하는 요소의 위치] 로 지정하면 된다.\n",
    "\n",
    "(예시는 아래에)"
   ]
  },
  {
   "cell_type": "code",
   "execution_count": 111,
   "metadata": {
    "scrolled": true
   },
   "outputs": [
    {
     "name": "stdout",
     "output_type": "stream",
     "text": [
      "[1, 2, 3, 4, 5]\n",
      "2\n"
     ]
    }
   ],
   "source": [
    "#이중 리스트에서의 인덱싱\n",
    "pizzanumber = [\"chheese\", \"peperoni\", \"hawaiian\", [1, 2, 3, 4, 5]]\n",
    "print(pizzanumber[3])\n",
    "print(pizzanumber[3][1])"
   ]
  },
  {
   "cell_type": "markdown",
   "metadata": {},
   "source": [
    "### 1.1.2. List 슬라이싱\n",
    "- 문자열 슬라이싱과 동일한 방법을 취하면 된다."
   ]
  },
  {
   "cell_type": "markdown",
   "metadata": {},
   "source": [
    "#### Reminder : 문자열의 슬라이싱 방식"
   ]
  },
  {
   "cell_type": "markdown",
   "metadata": {},
   "source": [
    "- a[p:q]는 a문자열의 p번째 문자이상, q번째 문자 미만을 출력하는 것.\n",
    "- a[p:]는 p번째 문자에서 끝까지 출력한다.\n",
    "- a[:q]는 처음부터 q번째 문자 이전까지 출력한다.\n",
    "- a[:]는 a문자열을 모두 출력한다.\n",
    "- a[p:-q]와 같이, 인덱싱처럼 뒤에서 문자를 셀 수도 있다."
   ]
  },
  {
   "cell_type": "code",
   "execution_count": 112,
   "metadata": {},
   "outputs": [
    {
     "name": "stdout",
     "output_type": "stream",
     "text": [
      "[3, 4, 5, 6]\n",
      "[6, 7, 8, 9, 10]\n",
      "[1, 2, 3, 8, 9, 10]\n"
     ]
    }
   ],
   "source": [
    "# List Slicing 1\n",
    "k = [1,2,3,4,5,6,7,8,9,10]\n",
    "print(k[2:6])\n",
    "print(k[5:])\n",
    "print(k[:3]+k[7:])"
   ]
  },
  {
   "cell_type": "code",
   "execution_count": 113,
   "metadata": {},
   "outputs": [
    {
     "name": "stdout",
     "output_type": "stream",
     "text": [
      "['교장', '선생님']\n",
      "['교장', '의', '훈화']\n"
     ]
    }
   ],
   "source": [
    "# List Slicing 2\n",
    "boring = [\"교장\", \"선생님\", \"의\", \"훈화\", \"말씀이\", \"있겠습니다\"]\n",
    "print(boring[:2])\n",
    "print(boring[:1]+boring[2:4])"
   ]
  },
  {
   "cell_type": "markdown",
   "metadata": {},
   "source": [
    "리스트 슬라이싱도 리스트 인덱싱과 같은 방식으로 이중 리스트에서 sublist의 요소들을 추출할 수 있다."
   ]
  },
  {
   "cell_type": "code",
   "execution_count": 114,
   "metadata": {},
   "outputs": [
    {
     "name": "stdout",
     "output_type": "stream",
     "text": [
      "['폭락하고', '있습니다', [1000, 10, 0]]\n",
      "[[1000, 10, 0]]\n",
      "[1000, 10]\n",
      "[1000, 10, 0]\n"
     ]
    }
   ],
   "source": [
    "#이중리스트 슬라이싱\n",
    "stock = [\"주가가\", \"폭락하고\", \"있습니다\", [1000,10,0]]\n",
    "print(stock[1:])\n",
    "print(stock[3:])\n",
    "print(stock[3][:2])\n",
    "print(stock[3][:])"
   ]
  },
  {
   "cell_type": "markdown",
   "metadata": {},
   "source": [
    "### 1.3. List의 연산\n",
    "- 문자열과 마찬가지로 List도 +를 사용해서 더하고, * 를 사용해서 반복하고, len(변수)를 사용해서 길이를 구할 수 있다."
   ]
  },
  {
   "cell_type": "markdown",
   "metadata": {},
   "source": [
    "#### (1) 리스트 자료형의 덧셈 +"
   ]
  },
  {
   "cell_type": "code",
   "execution_count": 115,
   "metadata": {},
   "outputs": [
    {
     "name": "stdout",
     "output_type": "stream",
     "text": [
      "['CEO', '건물주', '의사', '학생', '예술가', '백수']\n"
     ]
    }
   ],
   "source": [
    "rich = [\"CEO\", \"건물주\", \"의사\"]\n",
    "poor = [\"학생\", \"예술가\", \"백수\"]\n",
    "print(rich+poor)"
   ]
  },
  {
   "cell_type": "markdown",
   "metadata": {},
   "source": [
    "#### (2) 리스트 자료형의 반복 *"
   ]
  },
  {
   "cell_type": "code",
   "execution_count": 116,
   "metadata": {},
   "outputs": [
    {
     "name": "stdout",
     "output_type": "stream",
     "text": [
      "['피자', '치킨', '수제버거', '꽃등심', '스테이크', '회전초밥', '피자', '치킨', '수제버거', '꽃등심', '스테이크', '회전초밥', '피자', '치킨', '수제버거', '꽃등심', '스테이크', '회전초밥', '피자', '치킨', '수제버거', '꽃등심', '스테이크', '회전초밥']\n"
     ]
    }
   ],
   "source": [
    "hungry = [\"피자\", \"치킨\", \"수제버거\", \"꽃등심\", \"스테이크\", \"회전초밥\"]\n",
    "print(hungry*4)"
   ]
  },
  {
   "cell_type": "markdown",
   "metadata": {},
   "source": [
    "#### (3) 리스트 자료형의 길이 추출하기 len"
   ]
  },
  {
   "cell_type": "code",
   "execution_count": 117,
   "metadata": {},
   "outputs": [
    {
     "data": {
      "text/plain": [
       "20"
      ]
     },
     "execution_count": 117,
     "metadata": {},
     "output_type": "execute_result"
    }
   ],
   "source": [
    "longlist = [\"안녕\", \"하세요\", \"저는\", \"지금\", \"파이썬\", \"발제를\", \"준비하고\", \"있습니다\", \"리스트를\", \"최대한\", \"길게\", \"만들어\", \"볼건데요\", \"사실\", \"저도\", \"파이썬을\", \"못합니다\", \"더쓸말이\", \"없네요\", \"안녕\"]\n",
    "len(longlist)"
   ]
  },
  {
   "cell_type": "code",
   "execution_count": 118,
   "metadata": {},
   "outputs": [
    {
     "data": {
      "text/plain": [
       "1"
      ]
     },
     "execution_count": 118,
     "metadata": {},
     "output_type": "execute_result"
    }
   ],
   "source": [
    "shortlist = [\"itsreallyshort\"]\n",
    "len(shortlist)"
   ]
  },
  {
   "cell_type": "markdown",
   "metadata": {},
   "source": [
    "### 1.4. List의 수정과 삭제\n",
    "- List는 값을 수정하거나 삭제할 수 있다."
   ]
  },
  {
   "cell_type": "markdown",
   "metadata": {},
   "source": [
    "#### (1) List 값 수정"
   ]
  },
  {
   "cell_type": "code",
   "execution_count": 119,
   "metadata": {},
   "outputs": [
    {
     "name": "stdout",
     "output_type": "stream",
     "text": [
      "['packman', 'mario', 'tetris']\n"
     ]
    }
   ],
   "source": [
    "game = [\"packman\", \"mario\", \"psychology\"]\n",
    "game[2] = \"tetris\"\n",
    "print(game)"
   ]
  },
  {
   "cell_type": "markdown",
   "metadata": {},
   "source": [
    "#### (2) del 함수로 List 값 삭제\n",
    "- del a(x)는 리스트 a 안에 있는 x번째 값의 요소를 삭제한다. 슬라이싱 기법으로 여러 요소들을 동시에 삭제할 수도 있다."
   ]
  },
  {
   "cell_type": "code",
   "execution_count": 120,
   "metadata": {},
   "outputs": [
    {
     "name": "stdout",
     "output_type": "stream",
     "text": [
      "[1, 3, 5, 7, 9]\n",
      "['human1', 'human2', 'human3', 'human4']\n",
      "['human3', 'human4']\n",
      "['human4']\n"
     ]
    }
   ],
   "source": [
    "oddnumber = [1,3,5,7,8,9]\n",
    "del oddnumber[4]\n",
    "print(oddnumber)\n",
    "\n",
    "thanos = [\"human1\", \"human2\", \"human3\", \"human4\", \"human5\", \"human6\", \"human7\", \"human8\"]\n",
    "del thanos[4:]\n",
    "print(thanos)\n",
    "del thanos[:2]\n",
    "print(thanos)\n",
    "del thanos[0:1]\n",
    "print(thanos)"
   ]
  },
  {
   "cell_type": "markdown",
   "metadata": {},
   "source": [
    "### 1.4.1. List 관련 함수"
   ]
  },
  {
   "cell_type": "markdown",
   "metadata": {},
   "source": [
    "#### (1) append : 리스트에 요소 추가\n",
    "- a.append(x)는 리스트 a의 마지막 자리에 요소 x를 추가하는 것이다."
   ]
  },
  {
   "cell_type": "code",
   "execution_count": 121,
   "metadata": {},
   "outputs": [
    {
     "name": "stdout",
     "output_type": "stream",
     "text": [
      "[10, 20, 30, 40, 50, 60]\n"
     ]
    }
   ],
   "source": [
    "a = [10, 20, 30, 40, 50]\n",
    "a.append(60)\n",
    "print(a)"
   ]
  },
  {
   "cell_type": "code",
   "execution_count": 122,
   "metadata": {},
   "outputs": [
    {
     "name": "stdout",
     "output_type": "stream",
     "text": [
      "['beer', 'wine', 'vodka', 'soju']\n",
      "['beer', 'wine', 'vodka', 'soju', ['mojito', 'midori', 'cosmopolitan', 'godfather']]\n"
     ]
    }
   ],
   "source": [
    "drinks = [\"beer\", \"wine\", \"vodka\"]\n",
    "drinks.append(\"soju\")\n",
    "print(drinks)\n",
    "cocktail = [\"mojito\", \"midori\", \"cosmopolitan\", \"godfather\"]\n",
    "drinks.append(cocktail)\n",
    "print(drinks)"
   ]
  },
  {
   "cell_type": "markdown",
   "metadata": {},
   "source": [
    "#### (2) sort : 리스트 정렬\n",
    "- a.sort()는 리스트의 요소를 순서대로 정리한다."
   ]
  },
  {
   "cell_type": "code",
   "execution_count": 123,
   "metadata": {},
   "outputs": [
    {
     "name": "stdout",
     "output_type": "stream",
     "text": [
      "[-1253, -26, 0, 1, 3.144324, 18, 36.5, 91, 177, 194, 779, 29393, 194993292]\n"
     ]
    }
   ],
   "source": [
    "random = [-1253, 194993292, 1, 3.144324, 779, -26, 194, 91, 18, 36.5, 29393, 0, 177]\n",
    "random.sort()\n",
    "print(random)"
   ]
  },
  {
   "cell_type": "code",
   "execution_count": 124,
   "metadata": {},
   "outputs": [
    {
     "name": "stdout",
     "output_type": "stream",
     "text": [
      "['Aristotles', 'Camus', 'Hegel', 'Heidegger', 'Kant', 'Sartre', '공자', '퇴계이황']\n"
     ]
    }
   ],
   "source": [
    "philosopher = [\"Kant\", \"Hegel\", \"Heidegger\", \"Sartre\", \"Camus\", \"Aristotles\", \"퇴계이황\", \"공자\"]\n",
    "philosopher.sort()\n",
    "print(philosopher)"
   ]
  },
  {
   "cell_type": "markdown",
   "metadata": {},
   "source": [
    "#### (3) reverse : 리스트 뒤집기\n",
    "- a.reverse()는 기존의 리스트 a의 순서를 역순으로 뒤집어준다."
   ]
  },
  {
   "cell_type": "code",
   "execution_count": 125,
   "metadata": {},
   "outputs": [
    {
     "name": "stdout",
     "output_type": "stream",
     "text": [
      "['death', 'chicken', 'birth']\n"
     ]
    }
   ],
   "source": [
    "life = [\"birth\", \"chicken\", \"death\"]\n",
    "life.reverse()\n",
    "print(life)"
   ]
  },
  {
   "cell_type": "markdown",
   "metadata": {},
   "source": [
    "#### (4) index : 위치 반환\n",
    "- a.index(x)는 리스트 a에 x라는 요소가 있으면 그 위치 값을 반환한다."
   ]
  },
  {
   "cell_type": "code",
   "execution_count": 126,
   "metadata": {},
   "outputs": [
    {
     "data": {
      "text/plain": [
       "6"
      ]
     },
     "execution_count": 126,
     "metadata": {},
     "output_type": "execute_result"
    }
   ],
   "source": [
    "a = [15, 30, 45, 60, 75, 90, 105, 120, 135, 150]\n",
    "a.index(105)"
   ]
  },
  {
   "cell_type": "code",
   "execution_count": 127,
   "metadata": {},
   "outputs": [
    {
     "ename": "ValueError",
     "evalue": "88 is not in list",
     "output_type": "error",
     "traceback": [
      "\u001b[0;31m---------------------------------------------------------------------------\u001b[0m",
      "\u001b[0;31mValueError\u001b[0m                                Traceback (most recent call last)",
      "\u001b[0;32m<ipython-input-127-bd4ce8ef6975>\u001b[0m in \u001b[0;36m<module>\u001b[0;34m\u001b[0m\n\u001b[0;32m----> 1\u001b[0;31m \u001b[0ma\u001b[0m\u001b[0;34m.\u001b[0m\u001b[0mindex\u001b[0m\u001b[0;34m(\u001b[0m\u001b[0;36m88\u001b[0m\u001b[0;34m)\u001b[0m\u001b[0;34m\u001b[0m\u001b[0;34m\u001b[0m\u001b[0m\n\u001b[0m",
      "\u001b[0;31mValueError\u001b[0m: 88 is not in list"
     ]
    }
   ],
   "source": [
    "a.index(88)"
   ]
  },
  {
   "cell_type": "markdown",
   "metadata": {},
   "source": [
    "#### (5) insert : 요소 삽입\n",
    "- a.insert(p,q)는 리스트 a에서 p번째 자리에 q를 삽입한다."
   ]
  },
  {
   "cell_type": "code",
   "execution_count": 128,
   "metadata": {},
   "outputs": [
    {
     "name": "stdout",
     "output_type": "stream",
     "text": [
      "['굽네치킨', '지코바', 'BHC', 'BBQ', '교촌']\n"
     ]
    }
   ],
   "source": [
    "치킨집 = [\"지코바\", \"BHC\", \"BBQ\", \"교촌\"]\n",
    "치킨집.insert(0,\"굽네치킨\")\n",
    "print(치킨집)"
   ]
  },
  {
   "cell_type": "markdown",
   "metadata": {},
   "source": [
    "#### (6) remove : 요소 제거\n",
    "- a.remove(x)는 리스트에서 첫번째로 나오는 x를 제거한다."
   ]
  },
  {
   "cell_type": "code",
   "execution_count": 129,
   "metadata": {},
   "outputs": [
    {
     "name": "stdout",
     "output_type": "stream",
     "text": [
      "[2, 8, 2, 4, 8, 2, 4, 8]\n",
      "[2, 8, 2, 8, 2, 4, 8]\n",
      "[2, 8, 2, 8, 2, 8]\n"
     ]
    }
   ],
   "source": [
    "a = [2,4,8,2,4,8,2,4,8]\n",
    "a.remove(4)\n",
    "print(a)\n",
    "a.remove(4)\n",
    "print(a)\n",
    "a.remove(4)\n",
    "print(a)"
   ]
  },
  {
   "cell_type": "markdown",
   "metadata": {},
   "source": [
    "#### (7) pop : 리스트 요소 끄집어내기\n",
    "- a.pop()는 리스트 a에서 마지막 요소를 돌려주고 그 요소를 삭제한다.\n",
    "- a.pop(x)는 리스트 a에서 x번째 요소를 돌려주고 그 요소를 삭제한다."
   ]
  },
  {
   "cell_type": "code",
   "execution_count": 130,
   "metadata": {},
   "outputs": [
    {
     "name": "stdout",
     "output_type": "stream",
     "text": [
      "['brainstem', 'amygdala', 'cerebellum', 'ventricle', 'hippocampus']\n",
      "['brainstem', 'amygdala', 'cerebellum', 'hippocampus']\n"
     ]
    }
   ],
   "source": [
    "brain = [\"brainstem\", \"amygdala\", \"cerebellum\", \"ventricle\", \"hippocampus\", \"neocortex\"]\n",
    "brain.pop()\n",
    "print(brain)\n",
    "brain.pop(3)\n",
    "print(brain)"
   ]
  },
  {
   "cell_type": "markdown",
   "metadata": {},
   "source": [
    "#### (8) count : 리스트에 포함된 특정 요소의 개수 세기\n",
    "- a.count(x)는 리스트 a에 있는 x의 개수를 센다."
   ]
  },
  {
   "cell_type": "code",
   "execution_count": 131,
   "metadata": {},
   "outputs": [
    {
     "name": "stdout",
     "output_type": "stream",
     "text": [
      "11\n",
      "1\n"
     ]
    }
   ],
   "source": [
    "A = [1,34,6,87,5,1,5,34,1,45567,1,5,22,1,55566,1,7685,1,9999,1,24,1,1,1,\"1\"]\n",
    "print(A.count(1))\n",
    "print(A.count(\"1\"))"
   ]
  },
  {
   "cell_type": "markdown",
   "metadata": {},
   "source": [
    "#### (9) extend : 리스트 확장\n",
    "- a.extend(b)는 기존 리스트 a에 리스트 b를 더한다."
   ]
  },
  {
   "cell_type": "code",
   "execution_count": 132,
   "metadata": {},
   "outputs": [
    {
     "name": "stdout",
     "output_type": "stream",
     "text": [
      "['다낭', '하와이', '아이슬란드', '리스본', '평양', '디트로이트', '남극', '관악구']\n"
     ]
    }
   ],
   "source": [
    "추천여행지 = [\"다낭\", \"하와이\", \"아이슬란드\", \"리스본\", \"평양\"]\n",
    "추천여행지.extend([\"디트로이트\", \"남극\", \"관악구\"])\n",
    "print(추천여행지)"
   ]
  },
  {
   "cell_type": "code",
   "execution_count": 133,
   "metadata": {},
   "outputs": [
    {
     "name": "stdout",
     "output_type": "stream",
     "text": [
      "['정어리', '삼치', '낙지', '가자미', '인어공주', '크라켄', '죠스']\n"
     ]
    }
   ],
   "source": [
    "생선 = [\"정어리\", \"삼치\", \"낙지\", \"가자미\"]\n",
    "해양생물 = [\"인어공주\", \"크라켄\", \"죠스\"]\n",
    "생선.extend(해양생물)\n",
    "print(생선)"
   ]
  },
  {
   "cell_type": "markdown",
   "metadata": {},
   "source": [
    " "
   ]
  },
  {
   "cell_type": "markdown",
   "metadata": {},
   "source": [
    "# 2. Tuple 자료형\n",
    "### 튜플은 리스트와 거의 같다. 그러나 다른 점은 :\n",
    "- 리스트는 [ ] 로 둘러싸지만, 튜플은 ( ) 으로 둘러싼다.\n",
    "- 리스트는 요소를 유동적으로 변경할 수 있지만, 튜플은 불가능하다.\n",
    "\n",
    "프로그래밍을 할 때, 어떤 항목 값들이 바뀌지 않기를 원한다면 튜플을 사용하는 것이 좋다."
   ]
  },
  {
   "cell_type": "code",
   "execution_count": 134,
   "metadata": {},
   "outputs": [],
   "source": [
    "tuple1 = () #비어있는 튜플"
   ]
  },
  {
   "cell_type": "code",
   "execution_count": 135,
   "metadata": {},
   "outputs": [],
   "source": [
    "tuple2 = (1,) #요소가 하나일 때는 요소 뒤에 콤마(,)를 표기하여야 한다."
   ]
  },
  {
   "cell_type": "code",
   "execution_count": 136,
   "metadata": {},
   "outputs": [],
   "source": [
    "tuple3 = (1, 2, 3)\n",
    "tuple3 = 1, 2, 3 #괄호()를 생략해도 괜찮다."
   ]
  },
  {
   "cell_type": "code",
   "execution_count": 137,
   "metadata": {},
   "outputs": [],
   "source": [
    "tuple4 = (\"물고기\", \"열대어\", (\"횟감\", \"스시\")) #튜플은 다른 튜플을 요소로 가질 수 있다."
   ]
  },
  {
   "cell_type": "markdown",
   "metadata": {},
   "source": [
    "## 2.1. 튜플의 활용\n",
    "- 튜플의 요소를 삭제하거나 수정할 수는 없지만, 그 외의 활용은 리스트와 완전히 동일하다."
   ]
  },
  {
   "cell_type": "markdown",
   "metadata": {},
   "source": [
    "#### (1) 튜플의 인덱싱과 슬라이싱"
   ]
  },
  {
   "cell_type": "code",
   "execution_count": 138,
   "metadata": {},
   "outputs": [
    {
     "name": "stdout",
     "output_type": "stream",
     "text": [
      "관악산서울대\n",
      "('봉천동', '신림동')\n"
     ]
    }
   ],
   "source": [
    "관악구 = (\"관악산\", \"서울대\", \"봉천동\", \"신림동\", \"낙성대\")\n",
    "print(관악구[0]+관악구[1])\n",
    "print(관악구[2:4])"
   ]
  },
  {
   "cell_type": "markdown",
   "metadata": {},
   "source": [
    "#### (2) 튜플의 연산"
   ]
  },
  {
   "cell_type": "code",
   "execution_count": 139,
   "metadata": {},
   "outputs": [
    {
     "name": "stdout",
     "output_type": "stream",
     "text": [
      "(5511, 5513, 5516, 501, '셔틀버스', '2호선', '택시')\n",
      "('줄이', '너무', '길어요', '줄이', '너무', '길어요', '줄이', '너무', '길어요', '줄이', '너무', '길어요', '줄이', '너무', '길어요', '줄이', '너무', '길어요', '줄이', '너무', '길어요', '줄이', '너무', '길어요', '줄이', '너무', '길어요', '줄이', '너무', '길어요')\n",
      "14\n"
     ]
    }
   ],
   "source": [
    "helpme = (5511, 5513, 5516, 501)\n",
    "mayday = \"셔틀버스\", \"2호선\", \"택시\"\n",
    "print(helpme+mayday) #덧셈\n",
    "shuttle = \"줄이\", \"너무\", \"길어요\"\n",
    "print(shuttle*10) #곱셈\n",
    "snu = \"미대\", \"사회대\", \"인문대\", \"공대\", \"자연대\", \"농생대, \"\"생활대\", \"경영대\", \"음대\", \"사범대\", \"의대\", \"치대\", \"간호대\", \"약대\", \"자전\"\n",
    "print(len(snu))"
   ]
  },
  {
   "cell_type": "markdown",
   "metadata": {},
   "source": [
    "#### (3) count함수 적용"
   ]
  },
  {
   "cell_type": "code",
   "execution_count": 140,
   "metadata": {},
   "outputs": [
    {
     "data": {
      "text/plain": [
       "6"
      ]
     },
     "execution_count": 140,
     "metadata": {},
     "output_type": "execute_result"
    }
   ],
   "source": [
    "minute = 1, 1, 3, 15, 13.2, 4, 1, 15, 14, 15, 16.5, 15, 19, 20.2, 15, 15\n",
    "minute.count(15)"
   ]
  },
  {
   "cell_type": "markdown",
   "metadata": {},
   "source": [
    "#### (4) index함수 적용"
   ]
  },
  {
   "cell_type": "code",
   "execution_count": 141,
   "metadata": {},
   "outputs": [
    {
     "name": "stdout",
     "output_type": "stream",
     "text": [
      "8\n",
      "3\n"
     ]
    }
   ],
   "source": [
    "minute = 1, 1, 3, 15, 13.2, 4, 1, 15, 14, 15, 16.5, 15, 19, 20.2, 15, 15\n",
    "print(minute.index(14))\n",
    "print(minute.index(15))"
   ]
  },
  {
   "cell_type": "code",
   "execution_count": null,
   "metadata": {},
   "outputs": [],
   "source": []
  },
  {
   "cell_type": "code",
   "execution_count": null,
   "metadata": {},
   "outputs": [],
   "source": []
  }
 ],
 "metadata": {
  "kernelspec": {
   "display_name": "Python 3",
   "language": "python",
   "name": "python3"
  },
  "language_info": {
   "codemirror_mode": {
    "name": "ipython",
    "version": 3
   },
   "file_extension": ".py",
   "mimetype": "text/x-python",
   "name": "python",
   "nbconvert_exporter": "python",
   "pygments_lexer": "ipython3",
   "version": "3.7.3"
  }
 },
 "nbformat": 4,
 "nbformat_minor": 2
}
