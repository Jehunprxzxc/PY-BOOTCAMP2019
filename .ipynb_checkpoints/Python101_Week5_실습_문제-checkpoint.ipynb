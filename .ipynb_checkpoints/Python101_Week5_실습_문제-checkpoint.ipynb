{
 "cells": [
  {
   "cell_type": "markdown",
   "metadata": {},
   "source": [
    "# Week 5 실습"
   ]
  },
  {
   "cell_type": "markdown",
   "metadata": {},
   "source": [
    "1. if, elif, else를 활용하여 다음 상황에 맞는 코드를 작성해보자.\n",
    "\n",
    "고등학교 입시 전문 A학원에서는 학생 한명한명을 상담하는 것이 귀찮은 나머지 학생들의 성적을 입력하면 지원할 고등학교를 자동으로 출력하는 프로그램을 만들고자 한다.\n",
    "추천 기준은 아래와 같다.\n",
    "\n",
    "- (1) 국어, 수학, 영어 성적이 모두 90 이상이면 A영재고를 추천한다.\n",
    "- (2) 수학 성적이 90 이상이거나, 수학 성적과 영어 성적의 합이 170 이상이면 B과학고를 추천한다.\n",
    "- (3) 영어 성적이 90 이상이거나, 국어 성적과 영어 성적의 합이 170 이상이면 C외고를 추천한다.\n",
    "- (4) 국어, 수학, 영어 중 적어도 한 과목 성적이 75 이상이면 D고등학교를 추천한다.\n",
    "- (6) 이 모든 것에 해당되지 않으면 검정고시를 추천한다.\n",
    "\n",
    "아래는 A학원 학생들의 성적이다. 프로그램을 활용하여 각 학생들의 추천 고교가 어디인지 출력하라.\n",
    "\n",
    "김김 : 국어 95, 수학 92, 영어 93\n",
    "\n",
    "이이 : 국어 82, 수학 23, 영어 88\n",
    "\n",
    "박박 : 국어 20, 수학 49, 영어 65"
   ]
  },
  {
   "cell_type": "code",
   "execution_count": 7,
   "metadata": {},
   "outputs": [
    {
     "name": "stdout",
     "output_type": "stream",
     "text": [
      "A영재고\n"
     ]
    }
   ],
   "source": [
    "#김김"
   ]
  },
  {
   "cell_type": "code",
   "execution_count": 8,
   "metadata": {},
   "outputs": [
    {
     "name": "stdout",
     "output_type": "stream",
     "text": [
      "C외고\n"
     ]
    }
   ],
   "source": [
    "#이이"
   ]
  },
  {
   "cell_type": "code",
   "execution_count": 6,
   "metadata": {},
   "outputs": [
    {
     "name": "stdout",
     "output_type": "stream",
     "text": [
      "검정고시\n"
     ]
    }
   ],
   "source": [
    "#박박"
   ]
  },
  {
   "cell_type": "markdown",
   "metadata": {},
   "source": [
    " "
   ]
  },
  {
   "cell_type": "markdown",
   "metadata": {},
   "source": [
    "2. 다음은 B대학교 학생 8명의 월 용돈(단위:만원)이다. \n",
    "\n",
    "10, 1200, 35, 100, 72, 140, 6, 93\n",
    "\n",
    "이 자료를 바탕으로 서울대입구역에서 집을 구할 수 있는 학생의 리스트를 뽑아보자. 월 용돈이 80만원 이상이어야 집을 구할 수 있다\n",
    "- \"축하합니다. n번째 학생은 서울대입구역에 집을 구할 수 있습니다.\" 라는 문자열, 그리고 for구문과 continue를 활용해보자."
   ]
  },
  {
   "cell_type": "code",
   "execution_count": 13,
   "metadata": {},
   "outputs": [
    {
     "name": "stdout",
     "output_type": "stream",
     "text": [
      "축하합니다. 2번째 학생은 서울대입구역에 집을 구할 수 있습니다.\n",
      "축하합니다. 4번째 학생은 서울대입구역에 집을 구할 수 있습니다.\n",
      "축하합니다. 6번째 학생은 서울대입구역에 집을 구할 수 있습니다.\n",
      "축하합니다. 8번째 학생은 서울대입구역에 집을 구할 수 있습니다.\n"
     ]
    }
   ],
   "source": []
  },
  {
   "cell_type": "markdown",
   "metadata": {},
   "source": []
  },
  {
   "cell_type": "markdown",
   "metadata": {},
   "source": [
    "3. while문을 활용하여 별( * )이 첫번째 줄에 1개, 2번째 줄에 2개와 같이 n번째 줄에 n개 나열되어 있고, 총 10줄이 있는 이미지를 그려보자."
   ]
  },
  {
   "cell_type": "code",
   "execution_count": 12,
   "metadata": {},
   "outputs": [
    {
     "name": "stdout",
     "output_type": "stream",
     "text": [
      "*\n",
      "**\n",
      "***\n",
      "****\n",
      "*****\n",
      "******\n",
      "*******\n",
      "********\n",
      "*********\n",
      "**********\n"
     ]
    }
   ],
   "source": []
  },
  {
   "cell_type": "markdown",
   "metadata": {},
   "source": [
    "4. 아래는 우리 동네 할아버지 김씨가 각 연령대마다 가졌던 직업을 나열한 자료이다.\n",
    "\n",
    "\n",
    "- 10대 : 학생\n",
    "- 20대 : 폭주족\n",
    "- 30대 : 회사원\n",
    "- 40대 : 군인\n",
    "- 50대 : 대통령\n",
    "- 60대 : 경찰\n",
    "\n",
    "이 자료를 활용하여, '김씨 할아버지는 ~대에는 ~이셨다고 한다'라는 문장을 각 연령대별로 나열하시오."
   ]
  },
  {
   "cell_type": "code",
   "execution_count": null,
   "metadata": {},
   "outputs": [],
   "source": []
  }
 ],
 "metadata": {
  "kernelspec": {
   "display_name": "Python 3",
   "language": "python",
   "name": "python3"
  },
  "language_info": {
   "codemirror_mode": {
    "name": "ipython",
    "version": 3
   },
   "file_extension": ".py",
   "mimetype": "text/x-python",
   "name": "python",
   "nbconvert_exporter": "python",
   "pygments_lexer": "ipython3",
   "version": "3.7.3"
  }
 },
 "nbformat": 4,
 "nbformat_minor": 2
}
