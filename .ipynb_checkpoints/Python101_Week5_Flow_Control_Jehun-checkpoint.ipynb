{
 "cells": [
  {
   "cell_type": "markdown",
   "metadata": {},
   "source": [
    "# Week 5 : Flow Control (if, for, while)"
   ]
  },
  {
   "cell_type": "markdown",
   "metadata": {},
   "source": [
    "### 2019 Summer \n",
    "### Human Factors Psychology Lab, SNU\n",
    "### Jehun Hong"
   ]
  },
  {
   "cell_type": "markdown",
   "metadata": {},
   "source": [
    " "
   ]
  },
  {
   "cell_type": "markdown",
   "metadata": {},
   "source": [
    "# 0. 조건문\n",
    "- 파이썬에는 주어진 조건이 True일 때 실행될 수 있도록 하는 의사결정을 할 때 '조건문'을 활용한다.\n",
    "- 조건문은 기본적으로 '참과 거짓을 판단하는 문장'이다."
   ]
  },
  {
   "cell_type": "markdown",
   "metadata": {},
   "source": [
    "### 조건문의 비교연산자\n",
    "- x < y : x가 y보다 작은가?\n",
    "- x > y : x가 y보다 큰가?\n",
    "- x == y : x와 y가 같은가?\n",
    "- x != y : x와 y가 같지 않은가?\n",
    "- x >= y : x가 y보다 크거나 같은가?\n",
    "- x <= y : x가 y보다 작거나 같은가?\n",
    "\n",
    "### 조건문의 논리연산자\n",
    "- x or y : x 혹은 y가 참이면 참이다\n",
    "- x and y : x와 y 모두 참이면 참이다\n",
    "- not x : x가 아니면 참이다"
   ]
  },
  {
   "cell_type": "code",
   "execution_count": 3,
   "metadata": {},
   "outputs": [
    {
     "name": "stdout",
     "output_type": "stream",
     "text": [
      "False\n",
      "True\n",
      "False\n",
      "True\n",
      "True\n",
      "False\n",
      "True\n",
      "False\n",
      "True\n"
     ]
    }
   ],
   "source": [
    "a = 10\n",
    "b = 3\n",
    "\n",
    "print(a<b)\n",
    "print(a>b)\n",
    "print(a==b)\n",
    "print(a!=b)\n",
    "print(a>=b)\n",
    "print(a<=b)\n",
    "\n",
    "print(a<b or a>b)\n",
    "print(a<b and a>b)\n",
    "print(not a<b)"
   ]
  },
  {
   "cell_type": "markdown",
   "metadata": {},
   "source": [
    " "
   ]
  },
  {
   "cell_type": "markdown",
   "metadata": {},
   "source": [
    "# 1. if문\n",
    "- 다음은 if문의 기본 구조이다."
   ]
  },
  {
   "cell_type": "code",
   "execution_count": 6,
   "metadata": {},
   "outputs": [
    {
     "ename": "SyntaxError",
     "evalue": "invalid syntax (<ipython-input-6-afe7986f0f00>, line 2)",
     "output_type": "error",
     "traceback": [
      "\u001b[0;36m  File \u001b[0;32m\"<ipython-input-6-afe7986f0f00>\"\u001b[0;36m, line \u001b[0;32m2\u001b[0m\n\u001b[0;31m    수행할 문장 1\u001b[0m\n\u001b[0m         ^\u001b[0m\n\u001b[0;31mSyntaxError\u001b[0m\u001b[0;31m:\u001b[0m invalid syntax\n"
     ]
    }
   ],
   "source": [
    "if 조건문 :\n",
    "    수행할 문장 1\n",
    "    수행할 문장 2\n",
    "    . . .\n",
    "    \n",
    "else :\n",
    "     수행할 문장 1\n",
    "     수행할 문장 2\n",
    "     . . ."
   ]
  },
  {
   "cell_type": "markdown",
   "metadata": {},
   "source": [
    "- 조건문을 테스트해서 참이면 if문 다음 블록을 수행하고, 아니면 else 다음 블록을 수행한다.\n",
    "- if문, else문 하위에 있는 모든 문장들에 들여쓰기(spacebar 4번 권장)를 수행하여야 한다.\n",
    "- 모든 조건문 다음에 ':'를 붙이는 것을 잊지 말자."
   ]
  },
  {
   "cell_type": "code",
   "execution_count": 14,
   "metadata": {},
   "outputs": [
    {
     "name": "stdout",
     "output_type": "stream",
     "text": [
      "재수학원에서 당신을 환영합니다.\n"
     ]
    }
   ],
   "source": [
    "#기본적인 if문 예시\n",
    "\n",
    "수능점수 = 89\n",
    "if 수능점수 >= 90:\n",
    "    print(\"축하드립니다. 합격하셨습니다.\")\n",
    "else:\n",
    "    print(\"재수학원에서 당신을 환영합니다.\")"
   ]
  },
  {
   "cell_type": "code",
   "execution_count": 15,
   "metadata": {},
   "outputs": [
    {
     "name": "stdout",
     "output_type": "stream",
     "text": [
      "너 일로와봐 가진거 다내놔\n",
      "안내놓으면 10원에 한대씩이다\n",
      "돈 없으면 핸드폰이라도 줘봐\n"
     ]
    }
   ],
   "source": [
    "#기본적인 if문 예시 2\n",
    "\n",
    "money = 10000\n",
    "cellphone = True\n",
    "if money>=20000 or cellphone:\n",
    "    print(\"너 일로와봐 가진거 다내놔\")\n",
    "    print(\"안내놓으면 10원에 한대씩이다\")\n",
    "    print(\"돈 없으면 핸드폰이라도 줘봐\")\n",
    "else:\n",
    "    pass #아무것도 출력하지 않음"
   ]
  },
  {
   "cell_type": "code",
   "execution_count": 16,
   "metadata": {},
   "outputs": [],
   "source": [
    "money = 10000\n",
    "cellphone = False\n",
    "if money>=20000 or cellphone:\n",
    "    print(\"너 일로와봐 가진거 다내놔\")\n",
    "    print(\"안내놓으면 10원에 한대씩이다\")\n",
    "    print(\"돈 없으면 핸드폰이라도 줘봐\")\n",
    "else:\n",
    "    pass #아무것도 출력하지 않음"
   ]
  },
  {
   "cell_type": "markdown",
   "metadata": {},
   "source": [
    "## 1.1. elif문으로 다양한 상황에 대처해보기\n",
    "- if와 else만으로 할 수 있는 일이 한정적이므로, 더 많은 조건을 추가하고 싶으면 elif를 활용할 수 있다.\n",
    "- elif는 여러번 사용할 수 있는 장점이 있다."
   ]
  },
  {
   "cell_type": "code",
   "execution_count": 20,
   "metadata": {},
   "outputs": [
    {
     "name": "stdout",
     "output_type": "stream",
     "text": [
      "우리 애가 너무 똑똑하고 공부도 잘해서 아무래도 하버드를 보내야겠어요\n"
     ]
    }
   ],
   "source": [
    "IQ = 120\n",
    "Grade = 90\n",
    "\n",
    "if IQ>110 and Grade>80:\n",
    "    print(\"우리 애가 너무 똑똑하고 공부도 잘해서 아무래도 하버드를 보내야겠어요\")\n",
    "elif IQ>110 and Grade<=80:\n",
    "    print(\"우리 애가 머리는 좋은데 공부를 안해요\")\n",
    "elif IQ<=110 and Grade>80:\n",
    "    print(\"우리 애가 너무 성실한데 수업을 잘 못따라가네요\")\n",
    "else:\n",
    "    print(\"...\")"
   ]
  },
  {
   "cell_type": "code",
   "execution_count": 44,
   "metadata": {},
   "outputs": [
    {
     "name": "stdout",
     "output_type": "stream",
     "text": [
      "우리 애가 머리는 좋은데 공부를 안해요\n"
     ]
    }
   ],
   "source": [
    "IQ = 120\n",
    "Grade = 60\n",
    "\n",
    "if IQ>110 and Grade>80:\n",
    "    print(\"우리 애가 너무 똑똑하고 공부도 잘해서 아무래도 하버드를 보내야겠어요\")\n",
    "elif IQ<=110 and Grade>80:\n",
    "    print(\"우리 애가 너무 성실한데 수업을 잘 못따라가네요\")\n",
    "elif IQ>110 and Grade<=80:\n",
    "    print(\"우리 애가 머리는 좋은데 공부를 안해요\")\n",
    "else:\n",
    "    print(\"...\")"
   ]
  },
  {
   "cell_type": "code",
   "execution_count": 45,
   "metadata": {},
   "outputs": [
    {
     "name": "stdout",
     "output_type": "stream",
     "text": [
      "우리 애가 너무 성실한데 수업을 잘 못따라가네요\n"
     ]
    }
   ],
   "source": [
    "IQ = 80\n",
    "Grade = 90\n",
    "\n",
    "if IQ>110 and Grade>80:\n",
    "    print(\"우리 애가 너무 똑똑하고 공부도 잘해서 아무래도 하버드를 보내야겠어요\")\n",
    "elif IQ<=110 and Grade>80:\n",
    "    print(\"우리 애가 너무 성실한데 수업을 잘 못따라가네요\")\n",
    "elif IQ>110 and Grade<=80:\n",
    "    print(\"우리 애가 머리는 좋은데 공부를 안해요\")\n",
    "else:\n",
    "    print(\"...\")"
   ]
  },
  {
   "cell_type": "code",
   "execution_count": 23,
   "metadata": {},
   "outputs": [
    {
     "name": "stdout",
     "output_type": "stream",
     "text": [
      "...\n"
     ]
    }
   ],
   "source": [
    "IQ = 80\n",
    "Grade = 60\n",
    "\n",
    "if IQ>110 and Grade>80:\n",
    "    print(\"우리 애가 너무 똑똑하고 공부도 잘해서 아무래도 하버드를 보내야겠어요\")\n",
    "elif IQ>110 and Grade<=80:\n",
    "    print(\"우리 애가 머리는 좋은데 공부를 안해요\")\n",
    "elif IQ<=110 and Grade>80:\n",
    "    print(\"우리 애가 너무 성실한데 수업을 잘 못따라가네요\")\n",
    "else:\n",
    "    print(\"...\")"
   ]
  },
  {
   "cell_type": "markdown",
   "metadata": {},
   "source": [
    "## 1.2. x in s, x not in s\n",
    "- x in s : 요소 x가 리스트, 튜플, 문자열 s에 있을 때 True\n",
    "- x not in s : 요소 x가 리스트, 튜플, 문자열 s에 없을 때 True"
   ]
  },
  {
   "cell_type": "code",
   "execution_count": 26,
   "metadata": {},
   "outputs": [
    {
     "name": "stdout",
     "output_type": "stream",
     "text": [
      "True\n",
      "True\n",
      "True\n",
      "False\n",
      "False\n",
      "False\n"
     ]
    },
    {
     "data": {
      "text/plain": [
       "(None, None, None)"
      ]
     },
     "execution_count": 26,
     "metadata": {},
     "output_type": "execute_result"
    }
   ],
   "source": [
    "a = [1,2,3]\n",
    "b = (1,2,3)\n",
    "c = \"123\"\n",
    "\n",
    "print(1 in a), print(1 in b), print(\"1\" in c)\n",
    "print(4 in a), print(4 in b), print(\"4\" in c)"
   ]
  },
  {
   "cell_type": "code",
   "execution_count": 27,
   "metadata": {},
   "outputs": [
    {
     "name": "stdout",
     "output_type": "stream",
     "text": [
      "True\n",
      "False\n"
     ]
    }
   ],
   "source": [
    "print (4 not in a)\n",
    "print (1 not in b)"
   ]
  },
  {
   "cell_type": "markdown",
   "metadata": {},
   "source": [
    "### 1.2.1. if문에 적용해보기"
   ]
  },
  {
   "cell_type": "markdown",
   "metadata": {},
   "source": [
    " "
   ]
  },
  {
   "cell_type": "markdown",
   "metadata": {},
   "source": [
    "# 2. for문\n",
    "\n",
    "- 다음은 for문의 기본적 구조이다."
   ]
  },
  {
   "cell_type": "code",
   "execution_count": 47,
   "metadata": {},
   "outputs": [
    {
     "ename": "SyntaxError",
     "evalue": "invalid syntax (<ipython-input-47-2a1ebad4308e>, line 1)",
     "output_type": "error",
     "traceback": [
      "\u001b[0;36m  File \u001b[0;32m\"<ipython-input-47-2a1ebad4308e>\"\u001b[0;36m, line \u001b[0;32m1\u001b[0m\n\u001b[0;31m    for 변수 in (list, tuple or string)\u001b[0m\n\u001b[0m                                     ^\u001b[0m\n\u001b[0;31mSyntaxError\u001b[0m\u001b[0;31m:\u001b[0m invalid syntax\n"
     ]
    }
   ],
   "source": [
    "for 변수 in (list, tuple or string)\n",
    "    수행할 문장1\n",
    "    수행할 문장2\n",
    "    . . ."
   ]
  },
  {
   "cell_type": "code",
   "execution_count": 49,
   "metadata": {},
   "outputs": [
    {
     "name": "stdout",
     "output_type": "stream",
     "text": [
      "홍대\n",
      "신촌\n",
      "혜화\n",
      "서울대입구역\n"
     ]
    }
   ],
   "source": [
    "#for구문의 예시\n",
    "\n",
    "place = [\"홍대\",\"신촌\",\"혜화\",\"서울대입구역\"]\n",
    "\n",
    "for i in place:\n",
    "    print (i)"
   ]
  },
  {
   "cell_type": "code",
   "execution_count": 57,
   "metadata": {},
   "outputs": [
    {
     "name": "stdout",
     "output_type": "stream",
     "text": [
      "81.33333333333333\n",
      "73.0\n",
      "44.0\n"
     ]
    }
   ],
   "source": [
    "#for구문의 예시2\n",
    "\n",
    "grade = ((100,96,48), (57,75,87), (45,63,24))\n",
    "\n",
    "for (국어,영어,수학) in grade:\n",
    "    print((국어+수학+영어)/3)"
   ]
  },
  {
   "cell_type": "markdown",
   "metadata": {},
   "source": [
    "### for문을 응용하여 학생들의 통장 잔액을 확인하여 저녁 메뉴를 추천해주자."
   ]
  },
  {
   "cell_type": "code",
   "execution_count": 60,
   "metadata": {},
   "outputs": [
    {
     "name": "stdout",
     "output_type": "stream",
     "text": [
      "1번 학생의 저녁식사는 스테이크입니다.\n",
      "2번 학생의 저녁식사는 스테이크입니다.\n",
      "3번 학생은 오늘 굶어야 합니다.\n",
      "4번 학생은 오늘 굶어야 합니다.\n",
      "5번 학생의 저녁식사는 라면입니다.\n",
      "6번 학생의 저녁식사는 라면입니다.\n",
      "7번 학생의 저녁식사는 라면입니다.\n",
      "8번 학생의 저녁식사는 라면입니다.\n",
      "9번 학생은 오늘 굶어야 합니다.\n"
     ]
    }
   ],
   "source": [
    "통장 = [62000, 3500000, 100, 4500, 10000, 9800, 48000, 5600, 2400]\n",
    "\n",
    "number = 0 #학생의 순서는 0에서 시작함\n",
    "for 잔액 in 통장:\n",
    "    number = number+1 #1씩 더하면서 계산한다\n",
    "    if 잔액>=50000:\n",
    "        print(\"%d번 학생의 저녁식사는 스테이크입니다.\" % number)\n",
    "    elif 잔액>=5000:\n",
    "        print(\"%d번 학생의 저녁식사는 라면입니다.\" % number)\n",
    "    else:\n",
    "        print(\"%d번 학생은 오늘 굶어야 합니다.\" % number)"
   ]
  },
  {
   "cell_type": "markdown",
   "metadata": {},
   "source": [
    "### continue : for문을 수행하는 중 continue문을 만나면 for문의 처음으로 돌아가게 된다."
   ]
  },
  {
   "cell_type": "code",
   "execution_count": 66,
   "metadata": {},
   "outputs": [
    {
     "name": "stdout",
     "output_type": "stream",
     "text": [
      "1번 환자는 독감 감염이 의심됩니다.\n",
      "4번 환자는 독감 감염이 의심됩니다.\n",
      "5번 환자는 독감 감염이 의심됩니다.\n",
      "7번 환자는 독감 감염이 의심됩니다.\n",
      "8번 환자는 독감 감염이 의심됩니다.\n"
     ]
    }
   ],
   "source": [
    "fever = [39.5, 36.4, 37.1, 38.8, 37.9, 35.9, 37.7, 40.2, 34.3]\n",
    "\n",
    "number = 0\n",
    "for 체온 in fever:\n",
    "    number = number+1\n",
    "    if 체온 <= 37.5:\n",
    "        continue\n",
    "    print(\"%s번 환자는 독감 감염이 의심됩니다.\" % number)"
   ]
  },
  {
   "cell_type": "markdown",
   "metadata": {},
   "source": [
    "## 2.2. for문과 range 함수\n",
    "- range()함수는 숫자 리스트를 자동으로 만들어준다.\n",
    "- range(x,y)는 x이상 y미만 숫자 리스트를 표현한다.\n",
    "- range(x)는 0이상 x미만 숫자 리스트를 표현한다.\n",
    "- len(a)는 이전에 배운 바와 같이 리스트 안의 요소 수를 세어주는 함수이다. len(range(x))와 같은 표현이 가능하며 잘 응용해야 한다."
   ]
  },
  {
   "cell_type": "code",
   "execution_count": 67,
   "metadata": {},
   "outputs": [
    {
     "data": {
      "text/plain": [
       "range(0, 10)"
      ]
     },
     "execution_count": 67,
     "metadata": {},
     "output_type": "execute_result"
    }
   ],
   "source": [
    "range(10)"
   ]
  },
  {
   "cell_type": "code",
   "execution_count": 68,
   "metadata": {},
   "outputs": [
    {
     "data": {
      "text/plain": [
       "[0, 1, 2, 3, 4, 5, 6, 7, 8, 9]"
      ]
     },
     "execution_count": 68,
     "metadata": {},
     "output_type": "execute_result"
    }
   ],
   "source": [
    "list(range(10))"
   ]
  },
  {
   "cell_type": "code",
   "execution_count": 71,
   "metadata": {},
   "outputs": [
    {
     "data": {
      "text/plain": [
       "3"
      ]
     },
     "execution_count": 71,
     "metadata": {},
     "output_type": "execute_result"
    }
   ],
   "source": [
    "ex=['a','b','c']\n",
    "len(ex)"
   ]
  },
  {
   "cell_type": "code",
   "execution_count": 69,
   "metadata": {},
   "outputs": [
    {
     "data": {
      "text/plain": [
       "10"
      ]
     },
     "execution_count": 69,
     "metadata": {},
     "output_type": "execute_result"
    }
   ],
   "source": [
    "len(range(10))"
   ]
  },
  {
   "cell_type": "code",
   "execution_count": 73,
   "metadata": {},
   "outputs": [
    {
     "name": "stdout",
     "output_type": "stream",
     "text": [
      "435\n"
     ]
    }
   ],
   "source": [
    "#range함수 응용하기\n",
    "\n",
    "sum = 0\n",
    "for i in range(30):\n",
    "    sum = sum+i\n",
    "print(sum)"
   ]
  },
  {
   "cell_type": "code",
   "execution_count": 82,
   "metadata": {},
   "outputs": [
    {
     "name": "stdout",
     "output_type": "stream",
     "text": [
      "1번 환자는 죽을 위기에 처했습니다.\n",
      "4번 환자는 죽을 위기에 처했습니다.\n",
      "5번 환자는 죽을 위기에 처했습니다.\n",
      "7번 환자는 죽을 위기에 처했습니다.\n",
      "8번 환자는 죽을 위기에 처했습니다.\n"
     ]
    }
   ],
   "source": [
    "fever = [39.5, 36.4, 37.1, 38.8, 37.9, 35.9, 37.7, 40.2, 34.3]\n",
    "for number in range(len(fever)):\n",
    "    if fever[number] <= 37.5:\n",
    "        continue\n",
    "    print(\"%s번 환자는 죽을 위기에 처했습니다.\" % (number+1))"
   ]
  },
  {
   "cell_type": "code",
   "execution_count": 85,
   "metadata": {},
   "outputs": [
    {
     "name": "stdout",
     "output_type": "stream",
     "text": [
      "우리반 1등의 이름은 파이썬\n",
      "우리반 2등의 이름은 인간\n",
      "우리반 3등의 이름은 range함수너무싫다살려주세요\n",
      "우리반 4등의 이름은 김김김\n",
      "우리반 5등의 이름은 이이이이\n",
      "우리반 6등의 이름은 맥주\n"
     ]
    }
   ],
   "source": [
    "myclass = [\"파이썬\", \"인간\", \"range함수너무싫다살려주세요\", \"김김김\", \"이이이이\", \"맥주\"]\n",
    "\n",
    "for i in range(len(myclass)):\n",
    "    name = myclass[i]\n",
    "    print(\"우리반 {}등의 이름은 {}\".format(i+1,name))"
   ]
  },
  {
   "cell_type": "code",
   "execution_count": 86,
   "metadata": {},
   "outputs": [
    {
     "name": "stdout",
     "output_type": "stream",
     "text": [
      "I hate studying python\n",
      "I hate studying programming\n",
      "I hate studying range함수\n"
     ]
    }
   ],
   "source": [
    "study = [\"python\", \"programming\", \"range함수\"]\n",
    "\n",
    "for i in range(len(study)):\n",
    "    language = study[i]\n",
    "    print(\"I hate studying\", study[i])"
   ]
  },
  {
   "cell_type": "markdown",
   "metadata": {},
   "source": [
    "- for문과 range함수를 활용하여 구구단 계산을 해보자."
   ]
  },
  {
   "cell_type": "code",
   "execution_count": 91,
   "metadata": {},
   "outputs": [
    {
     "name": "stdout",
     "output_type": "stream",
     "text": [
      "1 2 3 4 5 6 7 8 9  \n",
      "2 4 6 8 10 12 14 16 18  \n",
      "3 6 9 12 15 18 21 24 27  \n",
      "4 8 12 16 20 24 28 32 36  \n",
      "5 10 15 20 25 30 35 40 45  \n",
      "6 12 18 24 30 36 42 48 54  \n",
      "7 14 21 28 35 42 49 56 63  \n",
      "8 16 24 32 40 48 56 64 72  \n",
      "9 18 27 36 45 54 63 72 81  \n"
     ]
    }
   ],
   "source": [
    "for i in range(1,10):\n",
    "    for j in range(1,10):\n",
    "        print(i*j, end=' ') #end=' ' : 자동으로 enter하지말고 한 칸씩 띄워서 출력하기\n",
    "    print(' ') #i가 바뀔때마다 줄 갈아주기"
   ]
  },
  {
   "cell_type": "markdown",
   "metadata": {},
   "source": [
    "# 3. While문\n",
    "- while문은 조건이 참인 동안에 while 아래의 문장이 반복적으로 시행된다. 조건문이 False가 되면 시행이 끝난다.\n",
    "- 아래는 while문의 기본 구조이다."
   ]
  },
  {
   "cell_type": "code",
   "execution_count": 103,
   "metadata": {},
   "outputs": [
    {
     "ename": "SyntaxError",
     "evalue": "invalid syntax (<ipython-input-103-3220f2761a38>, line 1)",
     "output_type": "error",
     "traceback": [
      "\u001b[0;36m  File \u001b[0;32m\"<ipython-input-103-3220f2761a38>\"\u001b[0;36m, line \u001b[0;32m1\u001b[0m\n\u001b[0;31m    while <조건문>:\u001b[0m\n\u001b[0m          ^\u001b[0m\n\u001b[0;31mSyntaxError\u001b[0m\u001b[0;31m:\u001b[0m invalid syntax\n"
     ]
    }
   ],
   "source": [
    "while <조건문>:\n",
    "    <수행할 문장1>\n",
    "    <수행할 문장2>\n",
    "    . . ."
   ]
  },
  {
   "cell_type": "markdown",
   "metadata": {},
   "source": [
    "- while문의 예시들을 보며 while문이 어떻게 작동하는지 이해를 시도해보자."
   ]
  },
  {
   "cell_type": "code",
   "execution_count": 104,
   "metadata": {},
   "outputs": [
    {
     "name": "stdout",
     "output_type": "stream",
     "text": [
      "당신은 1번 차였습니다.\n",
      "당신은 2번 차였습니다.\n",
      "당신은 3번 차였습니다.\n",
      "당신은 4번 차였습니다.\n",
      "당신은 5번 차였습니다.\n",
      "당신은 6번 차였습니다.\n",
      "당신은 7번 차였습니다.\n",
      "당신은 8번 차였습니다.\n",
      "당신은 9번 차였습니다.\n",
      "이제 그만 포기하세요.\n"
     ]
    }
   ],
   "source": [
    "i = 1\n",
    "while i < 10:\n",
    "    print(\"당신은 %s번 차였습니다.\" % i)\n",
    "    i += 1 #i = i+1\n",
    "    if i == 10:\n",
    "        print(\"이제 그만 포기하세요.\")"
   ]
  },
  {
   "cell_type": "code",
   "execution_count": 1,
   "metadata": {},
   "outputs": [
    {
     "name": "stdout",
     "output_type": "stream",
     "text": [
      "당신은 1주동안 굶었지만 살아있습니다.\n",
      "당신은 2주동안 굶었지만 살아있습니다.\n",
      "당신은 3주동안 굶었지만 살아있습니다.\n",
      "당신은 4주동안 굶었지만 살아있습니다.\n",
      "당신은 5주동안 굶었지만 살아있습니다.\n",
      "당신은 6주동안 굶었지만 살아있습니다.\n",
      "당신은 7주동안 굶었지만 살아있습니다.\n",
      "당신은 8주동안 굶었지만 살아있습니다.\n",
      "당신은 마침내 굶어죽었습니다.\n"
     ]
    }
   ],
   "source": [
    "week = 0\n",
    "while week < 8:\n",
    "    week = week+1\n",
    "    print(\"당신은 %s주동안 굶었지만 살아있습니다.\" %week)\n",
    "    if week == 8:\n",
    "        print(\"당신은 마침내 굶어죽었습니다.\")"
   ]
  },
  {
   "cell_type": "markdown",
   "metadata": {},
   "source": [
    "## 3.1. 무한루프\n",
    "- while문의 조건문이 True인 이상 while문 안의 문장들은 무한히 수행된다.\n",
    "- 아래와 같은 코드를 파이썬에서 입력하면 '그만'이라는 문장이 끝없이 출력될 것이다."
   ]
  },
  {
   "cell_type": "code",
   "execution_count": 23,
   "metadata": {},
   "outputs": [],
   "source": [
    "#while True:\n",
    "    #print('그만')"
   ]
  },
  {
   "cell_type": "markdown",
   "metadata": {},
   "source": [
    "## 3.2. While문 빠져나가기 : break\n",
    "- break문을 통해 while문의 조건문이 참일때도 while문을 빠져나갈 수 있다."
   ]
  },
  {
   "cell_type": "code",
   "execution_count": 12,
   "metadata": {},
   "outputs": [
    {
     "name": "stdout",
     "output_type": "stream",
     "text": [
      "파이썬 그만할래요 지금 오전 1 시인데 잠을 못자고 있어요...\n",
      "파이썬 그만할래요 지금 오전 2 시인데 잠을 못자고 있어요...\n",
      "파이썬 그만할래요 지금 오전 3 시인데 잠을 못자고 있어요...\n",
      "파이썬 그만할래요 지금 오전 4 시인데 잠을 못자고 있어요...\n",
      "파이썬 그만할래요 지금 오전 5 시인데 잠을 못자고 있어요...\n",
      "파이썬 그만할래요 지금 오전 6 시인데 잠을 못자고 있어요...\n",
      "파이썬 그만할래요 지금 오전 7 시인데 잠을 못자고 있어요...\n",
      "파이썬 그만할래요 지금 오전 8 시인데 잠을 못자고 있어요...\n",
      "파이썬 그만할래요 지금 오전 9 시인데 잠을 못자고 있어요...\n",
      "파이썬 그만할래요 지금 오전 10 시인데 잠을 못자고 있어요...\n",
      "그냥 잘래요 난 포기했어\n"
     ]
    }
   ],
   "source": [
    "i = 0\n",
    "while True:\n",
    "    print (\"파이썬 그만할래요 지금 오전\", i+1, \"시인데 잠을 못자고 있어요...\")\n",
    "    i += 1\n",
    "    if i == 10:\n",
    "        print(\"그냥 잘래요 난 포기했어\")\n",
    "        break"
   ]
  },
  {
   "cell_type": "code",
   "execution_count": 18,
   "metadata": {},
   "outputs": [
    {
     "name": "stdout",
     "output_type": "stream",
     "text": [
      "당신은 어젯밤 9 시간 잤군요. 아직 당신은 멀쩡합니다.\n",
      "당신은 어젯밤 8 시간 잤군요. 아직 당신은 멀쩡합니다.\n",
      "당신은 어젯밤 7 시간 밖에 못잤군요. 좀 피곤하지만 살아있긴 합니다.\n",
      "당신은 어젯밤 6 시간 밖에 못잤군요. 좀 피곤하지만 살아있긴 합니다.\n",
      "5 시간 밖에 안자고 살다니 제정신인가요? 그렇게 살다가 곧 죽을겁니다.\n",
      "4 시간 밖에 안자고 살다니 제정신인가요? 그렇게 살다가 곧 죽을겁니다.\n",
      "당신의 목숨이 3 시간 남았습니다.\n",
      "당신의 목숨이 2 시간 남았습니다.\n",
      "당신의 목숨이 1 시간 남았습니다.\n",
      "당신의 목숨이 0 시간 남았습니다.\n",
      "축하합니다. 당신은 과로사했습니다.\n"
     ]
    }
   ],
   "source": [
    "목숨 = 10\n",
    "while True:\n",
    "    목숨 = 목숨 - 1\n",
    "    if 목숨>7:\n",
    "        print(\"당신은 어젯밤\", 목숨, \"시간 잤군요. 아직 당신은 멀쩡합니다.\")\n",
    "    elif 목숨>5:\n",
    "        print(\"당신은 어젯밤\", 목숨, \"시간 밖에 못잤군요. 좀 피곤하지만 살아있긴 합니다.\")\n",
    "    elif 목숨>3:\n",
    "        print(목숨, \"시간 밖에 안자고 살다니 제정신인가요? 그렇게 살다가 곧 죽을겁니다.\")\n",
    "    else:\n",
    "        print(\"당신의 목숨이\", 목숨, \"시간 남았습니다.\")\n",
    "        if 목숨 == 0:\n",
    "            print(\"축하합니다. 당신은 과로사했습니다.\")\n",
    "            break"
   ]
  },
  {
   "cell_type": "markdown",
   "metadata": {},
   "source": [
    "## 3.3. While문의 처음으로 돌아가기 : continue\n",
    "- for에서 본 바와 같이, continue를 활용하여 while문을 빠져나가지 않고 맨 처음(조건문)으로 돌아갈 수 있다."
   ]
  },
  {
   "cell_type": "code",
   "execution_count": 27,
   "metadata": {},
   "outputs": [
    {
     "name": "stdout",
     "output_type": "stream",
     "text": [
      "1 3 5 7 9 11 13 15 17 19 "
     ]
    }
   ],
   "source": [
    "number = 0\n",
    "while number < 20:\n",
    "    number = number+1\n",
    "    if number%2 == 0: continue\n",
    "    print(number, end=' ')"
   ]
  }
 ],
 "metadata": {
  "kernelspec": {
   "display_name": "Python 3",
   "language": "python",
   "name": "python3"
  },
  "language_info": {
   "codemirror_mode": {
    "name": "ipython",
    "version": 3
   },
   "file_extension": ".py",
   "mimetype": "text/x-python",
   "name": "python",
   "nbconvert_exporter": "python",
   "pygments_lexer": "ipython3",
   "version": "3.7.3"
  }
 },
 "nbformat": 4,
 "nbformat_minor": 2
}
